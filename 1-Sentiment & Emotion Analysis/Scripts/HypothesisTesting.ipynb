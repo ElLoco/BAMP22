{
 "cells": [
  {
   "cell_type": "markdown",
   "metadata": {},
   "source": [
    "**Hypothesis Testing of Results**\n",
    "\n",
    "BAMP 2022 - MCT 4 - Ante Jelavic, Franziskus Perkhofer, Manuel Mencher, Melissa Ewering, Tim Ritzheimer\n",
    "\n",
    "Short Description: In the previous script \"VisualizationOfResults\" the sentiments and emotions have been visualized per demographic characteristics and related topics. However, thw differenxes, e.g. between demographics characteristics, are not yet statistically proven. This script will analyze the shown differences and use the Chi-square test of independence to check this. In case the groups are dependent, effect size will be measured by Cramer's V.\n",
    "\n",
    "The null hypothesis for the Chi-square test is always: Both variables are independent."
   ]
  },
  {
   "cell_type": "code",
   "execution_count": 1,
   "metadata": {},
   "outputs": [],
   "source": [
    "# Loading all necessary packages\n",
    "\n",
    "import pandas as pd\n",
    "import csv\n",
    "import numpy as np\n",
    "from scipy.stats import chi2_contingency\n",
    "import scipy.stats as stats"
   ]
  },
  {
   "cell_type": "code",
   "execution_count": 2,
   "metadata": {},
   "outputs": [
    {
     "name": "stderr",
     "output_type": "stream",
     "text": [
      "/opt/anaconda3/lib/python3.8/site-packages/IPython/core/interactiveshell.py:3071: DtypeWarning: Columns (12,13) have mixed types.Specify dtype option on import or set low_memory=False.\n",
      "  has_raised = await self.run_ast_nodes(code_ast.body, cell_name,\n"
     ]
    }
   ],
   "source": [
    "df = pd.read_csv('FinalResults.csv') #See Output_Data - Needs to be saved in \"Scripts\" folder for runtime"
   ]
  },
  {
   "cell_type": "code",
   "execution_count": 3,
   "metadata": {},
   "outputs": [],
   "source": [
    "#Function to calculate Cramer's V\n",
    "def cramers_v(cross_tabs):\n",
    "    # getting the chi sq. stat\n",
    "    chi2 = stats.chi2_contingency(cross_tabs)[0]\n",
    "    # calculating the total number of observations\n",
    "    n = cross_tabs.sum().sum()\n",
    "    # getting the degrees of freedom\n",
    "    dof = min(cross_tabs.shape)-1\n",
    "    # calculating cramer's v\n",
    "    v = np.sqrt(chi2/(n*dof))\n",
    "    # printing results\n",
    "    print(f'V = {v}')\n",
    "    \n",
    "    return v"
   ]
  },
  {
   "cell_type": "code",
   "execution_count": 4,
   "metadata": {},
   "outputs": [
    {
     "data": {
      "text/html": [
       "<div>\n",
       "<style scoped>\n",
       "    .dataframe tbody tr th:only-of-type {\n",
       "        vertical-align: middle;\n",
       "    }\n",
       "\n",
       "    .dataframe tbody tr th {\n",
       "        vertical-align: top;\n",
       "    }\n",
       "\n",
       "    .dataframe thead th {\n",
       "        text-align: right;\n",
       "    }\n",
       "</style>\n",
       "<table border=\"1\" class=\"dataframe\">\n",
       "  <thead>\n",
       "    <tr style=\"text-align: right;\">\n",
       "      <th></th>\n",
       "      <th>Variable 1</th>\n",
       "      <th>Variable 2</th>\n",
       "      <th>P-Value - Chi-square test</th>\n",
       "      <th>Effect size - Cramers V</th>\n",
       "    </tr>\n",
       "  </thead>\n",
       "  <tbody>\n",
       "  </tbody>\n",
       "</table>\n",
       "</div>"
      ],
      "text/plain": [
       "Empty DataFrame\n",
       "Columns: [Variable 1, Variable 2, P-Value - Chi-square test, Effect size - Cramers V]\n",
       "Index: []"
      ]
     },
     "execution_count": 4,
     "metadata": {},
     "output_type": "execute_result"
    }
   ],
   "source": [
    "# Create dataframe to store p-values and Cramer's V effect size\n",
    "results = pd.DataFrame(columns=['Variable 1','Variable 2','P-Value - Chi-square test','Effect size - Cramers V'])\n",
    "results"
   ]
  },
  {
   "cell_type": "markdown",
   "metadata": {},
   "source": [
    "**1st test:** Check independence between Age and Sentiment"
   ]
  },
  {
   "cell_type": "code",
   "execution_count": 5,
   "metadata": {},
   "outputs": [
    {
     "data": {
      "text/html": [
       "<div>\n",
       "<style scoped>\n",
       "    .dataframe tbody tr th:only-of-type {\n",
       "        vertical-align: middle;\n",
       "    }\n",
       "\n",
       "    .dataframe tbody tr th {\n",
       "        vertical-align: top;\n",
       "    }\n",
       "\n",
       "    .dataframe thead th {\n",
       "        text-align: right;\n",
       "    }\n",
       "</style>\n",
       "<table border=\"1\" class=\"dataframe\">\n",
       "  <thead>\n",
       "    <tr style=\"text-align: right;\">\n",
       "      <th>label</th>\n",
       "      <th>NEGATIVE</th>\n",
       "      <th>POSITIVE</th>\n",
       "    </tr>\n",
       "    <tr>\n",
       "      <th>Age_Group</th>\n",
       "      <th></th>\n",
       "      <th></th>\n",
       "    </tr>\n",
       "  </thead>\n",
       "  <tbody>\n",
       "    <tr>\n",
       "      <th>30-39</th>\n",
       "      <td>7659</td>\n",
       "      <td>9192</td>\n",
       "    </tr>\n",
       "    <tr>\n",
       "      <th>40-49</th>\n",
       "      <td>24051</td>\n",
       "      <td>33789</td>\n",
       "    </tr>\n",
       "    <tr>\n",
       "      <th>50-59</th>\n",
       "      <td>15842</td>\n",
       "      <td>32114</td>\n",
       "    </tr>\n",
       "    <tr>\n",
       "      <th>60-69</th>\n",
       "      <td>16905</td>\n",
       "      <td>26103</td>\n",
       "    </tr>\n",
       "    <tr>\n",
       "      <th>&lt;30</th>\n",
       "      <td>2351</td>\n",
       "      <td>6673</td>\n",
       "    </tr>\n",
       "    <tr>\n",
       "      <th>&gt;70</th>\n",
       "      <td>7632</td>\n",
       "      <td>16119</td>\n",
       "    </tr>\n",
       "  </tbody>\n",
       "</table>\n",
       "</div>"
      ],
      "text/plain": [
       "label      NEGATIVE  POSITIVE\n",
       "Age_Group                    \n",
       "30-39          7659      9192\n",
       "40-49         24051     33789\n",
       "50-59         15842     32114\n",
       "60-69         16905     26103\n",
       "<30            2351      6673\n",
       ">70            7632     16119"
      ]
     },
     "execution_count": 5,
     "metadata": {},
     "output_type": "execute_result"
    }
   ],
   "source": [
    "# crosstab \n",
    "pd.crosstab(df[\"Age_Group\"], df[\"label\"])"
   ]
  },
  {
   "cell_type": "code",
   "execution_count": 6,
   "metadata": {},
   "outputs": [
    {
     "data": {
      "text/plain": [
       "(2129.719068634005,\n",
       " 0.0,\n",
       " 5,\n",
       " array([[ 6321.566497  , 10529.433503  ],\n",
       "        [21698.38028524, 36141.61971476],\n",
       "        [17990.44821852, 29965.55178148],\n",
       "        [16134.23131583, 26873.76868417],\n",
       "        [ 3385.30746359,  5638.69253641],\n",
       "        [ 8910.06621983, 14840.93378017]]))"
      ]
     },
     "execution_count": 6,
     "metadata": {},
     "output_type": "execute_result"
    }
   ],
   "source": [
    "# Chi-square test of independence.\n",
    "x = chi2_contingency(pd.crosstab(df[\"Age_Group\"],df[\"label\"]))\n",
    "p = x[1]\n",
    "x"
   ]
  },
  {
   "cell_type": "code",
   "execution_count": 7,
   "metadata": {},
   "outputs": [
    {
     "name": "stdout",
     "output_type": "stream",
     "text": [
      "V = 0.1035994604307967\n"
     ]
    }
   ],
   "source": [
    "# Compute effect size - Cramers V\n",
    "v = cramers_v(pd.crosstab(df[\"Age_Group\"], df[\"label\"]))"
   ]
  },
  {
   "cell_type": "code",
   "execution_count": 8,
   "metadata": {},
   "outputs": [
    {
     "data": {
      "text/html": [
       "<div>\n",
       "<style scoped>\n",
       "    .dataframe tbody tr th:only-of-type {\n",
       "        vertical-align: middle;\n",
       "    }\n",
       "\n",
       "    .dataframe tbody tr th {\n",
       "        vertical-align: top;\n",
       "    }\n",
       "\n",
       "    .dataframe thead th {\n",
       "        text-align: right;\n",
       "    }\n",
       "</style>\n",
       "<table border=\"1\" class=\"dataframe\">\n",
       "  <thead>\n",
       "    <tr style=\"text-align: right;\">\n",
       "      <th></th>\n",
       "      <th>Variable 1</th>\n",
       "      <th>Variable 2</th>\n",
       "      <th>P-Value - Chi-square test</th>\n",
       "      <th>Effect size - Cramers V</th>\n",
       "    </tr>\n",
       "  </thead>\n",
       "  <tbody>\n",
       "    <tr>\n",
       "      <th>0</th>\n",
       "      <td>Age</td>\n",
       "      <td>Sentiment</td>\n",
       "      <td>0.0</td>\n",
       "      <td>0.103599</td>\n",
       "    </tr>\n",
       "  </tbody>\n",
       "</table>\n",
       "</div>"
      ],
      "text/plain": [
       "  Variable 1 Variable 2  P-Value - Chi-square test  Effect size - Cramers V\n",
       "0        Age  Sentiment                        0.0                 0.103599"
      ]
     },
     "execution_count": 8,
     "metadata": {},
     "output_type": "execute_result"
    }
   ],
   "source": [
    "row = [\"Age\", \"Sentiment\", p, v]\n",
    "results.loc[len(results)] = row\n",
    "results"
   ]
  },
  {
   "cell_type": "markdown",
   "metadata": {},
   "source": [
    "**Conclusion:** Null hypothesis can be rejeted beacuse the p value (0,0) is smaller than 0,01 (99% confidence intervall) - Therefore, it can be assumed that the variables are dependent."
   ]
  },
  {
   "cell_type": "markdown",
   "metadata": {},
   "source": [
    "**2nd test:** Check independence between Gender and Sentiment"
   ]
  },
  {
   "cell_type": "code",
   "execution_count": 9,
   "metadata": {},
   "outputs": [
    {
     "data": {
      "text/html": [
       "<div>\n",
       "<style scoped>\n",
       "    .dataframe tbody tr th:only-of-type {\n",
       "        vertical-align: middle;\n",
       "    }\n",
       "\n",
       "    .dataframe tbody tr th {\n",
       "        vertical-align: top;\n",
       "    }\n",
       "\n",
       "    .dataframe thead th {\n",
       "        text-align: right;\n",
       "    }\n",
       "</style>\n",
       "<table border=\"1\" class=\"dataframe\">\n",
       "  <thead>\n",
       "    <tr style=\"text-align: right;\">\n",
       "      <th>label</th>\n",
       "      <th>NEGATIVE</th>\n",
       "      <th>POSITIVE</th>\n",
       "    </tr>\n",
       "    <tr>\n",
       "      <th>Gender</th>\n",
       "      <th></th>\n",
       "      <th></th>\n",
       "    </tr>\n",
       "  </thead>\n",
       "  <tbody>\n",
       "    <tr>\n",
       "      <th>m</th>\n",
       "      <td>46684</td>\n",
       "      <td>78866</td>\n",
       "    </tr>\n",
       "    <tr>\n",
       "      <th>w</th>\n",
       "      <td>27756</td>\n",
       "      <td>45124</td>\n",
       "    </tr>\n",
       "  </tbody>\n",
       "</table>\n",
       "</div>"
      ],
      "text/plain": [
       "label   NEGATIVE  POSITIVE\n",
       "Gender                    \n",
       "m          46684     78866\n",
       "w          27756     45124"
      ]
     },
     "execution_count": 9,
     "metadata": {},
     "output_type": "execute_result"
    }
   ],
   "source": [
    "# crosstab \n",
    "pd.crosstab(df[\"Gender\"], df[\"label\"])"
   ]
  },
  {
   "cell_type": "code",
   "execution_count": 10,
   "metadata": {},
   "outputs": [
    {
     "data": {
      "text/plain": [
       "(15.928532693036649,\n",
       " 6.577958104337594e-05,\n",
       " 1,\n",
       " array([[47099.44060878, 78450.55939122],\n",
       "        [27340.55939122, 45539.44060878]]))"
      ]
     },
     "execution_count": 10,
     "metadata": {},
     "output_type": "execute_result"
    }
   ],
   "source": [
    "# Chi-square test of independence.\n",
    "x = chi2_contingency(pd.crosstab(df[\"Gender\"],df[\"label\"]))\n",
    "p = x[1]\n",
    "x"
   ]
  },
  {
   "cell_type": "code",
   "execution_count": 11,
   "metadata": {},
   "outputs": [
    {
     "name": "stdout",
     "output_type": "stream",
     "text": [
      "V = 0.00895950919327114\n"
     ]
    }
   ],
   "source": [
    "# Compute effect size - Cramers V\n",
    "v = cramers_v(pd.crosstab(df[\"Gender\"], df[\"label\"]))"
   ]
  },
  {
   "cell_type": "code",
   "execution_count": 12,
   "metadata": {},
   "outputs": [
    {
     "data": {
      "text/html": [
       "<div>\n",
       "<style scoped>\n",
       "    .dataframe tbody tr th:only-of-type {\n",
       "        vertical-align: middle;\n",
       "    }\n",
       "\n",
       "    .dataframe tbody tr th {\n",
       "        vertical-align: top;\n",
       "    }\n",
       "\n",
       "    .dataframe thead th {\n",
       "        text-align: right;\n",
       "    }\n",
       "</style>\n",
       "<table border=\"1\" class=\"dataframe\">\n",
       "  <thead>\n",
       "    <tr style=\"text-align: right;\">\n",
       "      <th></th>\n",
       "      <th>Variable 1</th>\n",
       "      <th>Variable 2</th>\n",
       "      <th>P-Value - Chi-square test</th>\n",
       "      <th>Effect size - Cramers V</th>\n",
       "    </tr>\n",
       "  </thead>\n",
       "  <tbody>\n",
       "    <tr>\n",
       "      <th>0</th>\n",
       "      <td>Age</td>\n",
       "      <td>Sentiment</td>\n",
       "      <td>0.000000</td>\n",
       "      <td>0.103599</td>\n",
       "    </tr>\n",
       "    <tr>\n",
       "      <th>1</th>\n",
       "      <td>Gender</td>\n",
       "      <td>Sentiment</td>\n",
       "      <td>0.000066</td>\n",
       "      <td>0.008960</td>\n",
       "    </tr>\n",
       "  </tbody>\n",
       "</table>\n",
       "</div>"
      ],
      "text/plain": [
       "  Variable 1 Variable 2  P-Value - Chi-square test  Effect size - Cramers V\n",
       "0        Age  Sentiment                   0.000000                 0.103599\n",
       "1     Gender  Sentiment                   0.000066                 0.008960"
      ]
     },
     "execution_count": 12,
     "metadata": {},
     "output_type": "execute_result"
    }
   ],
   "source": [
    "row = [\"Gender\", \"Sentiment\", p, v]\n",
    "results.loc[len(results)] = row\n",
    "results"
   ]
  },
  {
   "cell_type": "markdown",
   "metadata": {},
   "source": [
    "**Conclusion:** Null hypothesis can be rejeted beacuse the p value (6,5e-05) is smaller than 0,01 (99% confidence intervall) - Therefore, it can be assumed that the variables are dependent."
   ]
  },
  {
   "cell_type": "markdown",
   "metadata": {},
   "source": [
    "**3rd test (group):** Check independence between Topics and Sentiment"
   ]
  },
  {
   "cell_type": "code",
   "execution_count": 13,
   "metadata": {},
   "outputs": [
    {
     "data": {
      "text/html": [
       "<div>\n",
       "<style scoped>\n",
       "    .dataframe tbody tr th:only-of-type {\n",
       "        vertical-align: middle;\n",
       "    }\n",
       "\n",
       "    .dataframe tbody tr th {\n",
       "        vertical-align: top;\n",
       "    }\n",
       "\n",
       "    .dataframe thead th {\n",
       "        text-align: right;\n",
       "    }\n",
       "</style>\n",
       "<table border=\"1\" class=\"dataframe\">\n",
       "  <thead>\n",
       "    <tr style=\"text-align: right;\">\n",
       "      <th>label</th>\n",
       "      <th>NEGATIVE</th>\n",
       "      <th>POSITIVE</th>\n",
       "    </tr>\n",
       "    <tr>\n",
       "      <th>covid_hashtags</th>\n",
       "      <th></th>\n",
       "      <th></th>\n",
       "    </tr>\n",
       "  </thead>\n",
       "  <tbody>\n",
       "    <tr>\n",
       "      <th>0</th>\n",
       "      <td>73889</td>\n",
       "      <td>123247</td>\n",
       "    </tr>\n",
       "    <tr>\n",
       "      <th>1</th>\n",
       "      <td>551</td>\n",
       "      <td>743</td>\n",
       "    </tr>\n",
       "  </tbody>\n",
       "</table>\n",
       "</div>"
      ],
      "text/plain": [
       "label           NEGATIVE  POSITIVE\n",
       "covid_hashtags                    \n",
       "0                  73889    123247\n",
       "1                    551       743"
      ]
     },
     "execution_count": 13,
     "metadata": {},
     "output_type": "execute_result"
    }
   ],
   "source": [
    "# crosstab \n",
    "pd.crosstab(df[\"covid_hashtags\"], df[\"label\"])"
   ]
  },
  {
   "cell_type": "code",
   "execution_count": 14,
   "metadata": {},
   "outputs": [
    {
     "data": {
      "text/plain": [
       "(14.047222455555765,\n",
       " 0.00017827694220970481,\n",
       " 1,\n",
       " array([[ 73954.56251575, 123181.43748425],\n",
       "        [   485.43748425,    808.56251575]]))"
      ]
     },
     "execution_count": 14,
     "metadata": {},
     "output_type": "execute_result"
    }
   ],
   "source": [
    "# Chi-square test of independence.\n",
    "x = chi2_contingency(pd.crosstab(df[\"covid_hashtags\"],df[\"label\"]))\n",
    "p = x[1]\n",
    "x"
   ]
  },
  {
   "cell_type": "code",
   "execution_count": 15,
   "metadata": {},
   "outputs": [
    {
     "name": "stdout",
     "output_type": "stream",
     "text": [
      "V = 0.008413787977396878\n"
     ]
    }
   ],
   "source": [
    "# Compute effect size - Cramers V\n",
    "v = cramers_v(pd.crosstab(df[\"covid_hashtags\"], df[\"label\"]))"
   ]
  },
  {
   "cell_type": "code",
   "execution_count": 16,
   "metadata": {},
   "outputs": [
    {
     "data": {
      "text/html": [
       "<div>\n",
       "<style scoped>\n",
       "    .dataframe tbody tr th:only-of-type {\n",
       "        vertical-align: middle;\n",
       "    }\n",
       "\n",
       "    .dataframe tbody tr th {\n",
       "        vertical-align: top;\n",
       "    }\n",
       "\n",
       "    .dataframe thead th {\n",
       "        text-align: right;\n",
       "    }\n",
       "</style>\n",
       "<table border=\"1\" class=\"dataframe\">\n",
       "  <thead>\n",
       "    <tr style=\"text-align: right;\">\n",
       "      <th></th>\n",
       "      <th>Variable 1</th>\n",
       "      <th>Variable 2</th>\n",
       "      <th>P-Value - Chi-square test</th>\n",
       "      <th>Effect size - Cramers V</th>\n",
       "    </tr>\n",
       "  </thead>\n",
       "  <tbody>\n",
       "    <tr>\n",
       "      <th>0</th>\n",
       "      <td>Age</td>\n",
       "      <td>Sentiment</td>\n",
       "      <td>0.000000</td>\n",
       "      <td>0.103599</td>\n",
       "    </tr>\n",
       "    <tr>\n",
       "      <th>1</th>\n",
       "      <td>Gender</td>\n",
       "      <td>Sentiment</td>\n",
       "      <td>0.000066</td>\n",
       "      <td>0.008960</td>\n",
       "    </tr>\n",
       "    <tr>\n",
       "      <th>2</th>\n",
       "      <td>Topic - Covid</td>\n",
       "      <td>Sentiment</td>\n",
       "      <td>0.000178</td>\n",
       "      <td>0.008414</td>\n",
       "    </tr>\n",
       "  </tbody>\n",
       "</table>\n",
       "</div>"
      ],
      "text/plain": [
       "      Variable 1 Variable 2  P-Value - Chi-square test  \\\n",
       "0            Age  Sentiment                   0.000000   \n",
       "1         Gender  Sentiment                   0.000066   \n",
       "2  Topic - Covid  Sentiment                   0.000178   \n",
       "\n",
       "   Effect size - Cramers V  \n",
       "0                 0.103599  \n",
       "1                 0.008960  \n",
       "2                 0.008414  "
      ]
     },
     "execution_count": 16,
     "metadata": {},
     "output_type": "execute_result"
    }
   ],
   "source": [
    "row = [\"Topic - Covid\", \"Sentiment\", p, v]\n",
    "results.loc[len(results)] = row\n",
    "results"
   ]
  },
  {
   "cell_type": "code",
   "execution_count": 17,
   "metadata": {},
   "outputs": [
    {
     "data": {
      "text/html": [
       "<div>\n",
       "<style scoped>\n",
       "    .dataframe tbody tr th:only-of-type {\n",
       "        vertical-align: middle;\n",
       "    }\n",
       "\n",
       "    .dataframe tbody tr th {\n",
       "        vertical-align: top;\n",
       "    }\n",
       "\n",
       "    .dataframe thead th {\n",
       "        text-align: right;\n",
       "    }\n",
       "</style>\n",
       "<table border=\"1\" class=\"dataframe\">\n",
       "  <thead>\n",
       "    <tr style=\"text-align: right;\">\n",
       "      <th>label</th>\n",
       "      <th>NEGATIVE</th>\n",
       "      <th>POSITIVE</th>\n",
       "    </tr>\n",
       "    <tr>\n",
       "      <th>brexit_hashtags</th>\n",
       "      <th></th>\n",
       "      <th></th>\n",
       "    </tr>\n",
       "  </thead>\n",
       "  <tbody>\n",
       "    <tr>\n",
       "      <th>0</th>\n",
       "      <td>74184</td>\n",
       "      <td>123789</td>\n",
       "    </tr>\n",
       "    <tr>\n",
       "      <th>1</th>\n",
       "      <td>256</td>\n",
       "      <td>201</td>\n",
       "    </tr>\n",
       "  </tbody>\n",
       "</table>\n",
       "</div>"
      ],
      "text/plain": [
       "label            NEGATIVE  POSITIVE\n",
       "brexit_hashtags                    \n",
       "0                   74184    123789\n",
       "1                     256       201"
      ]
     },
     "execution_count": 17,
     "metadata": {},
     "output_type": "execute_result"
    }
   ],
   "source": [
    "# crosstab \n",
    "pd.crosstab(df[\"brexit_hashtags\"], df[\"label\"])"
   ]
  },
  {
   "cell_type": "code",
   "execution_count": 18,
   "metadata": {},
   "outputs": [
    {
     "data": {
      "text/plain": [
       "(66.11089555954123,\n",
       " 4.2625298739149127e-16,\n",
       " 1,\n",
       " array([[ 74268.55878647, 123704.44121353],\n",
       "        [   171.44121353,    285.55878647]]))"
      ]
     },
     "execution_count": 18,
     "metadata": {},
     "output_type": "execute_result"
    }
   ],
   "source": [
    "# Chi-square test of independence.\n",
    "x = chi2_contingency(pd.crosstab(df[\"brexit_hashtags\"],df[\"label\"]))\n",
    "p = x[1]\n",
    "x"
   ]
  },
  {
   "cell_type": "code",
   "execution_count": 19,
   "metadata": {},
   "outputs": [
    {
     "name": "stdout",
     "output_type": "stream",
     "text": [
      "V = 0.018252941165965292\n"
     ]
    }
   ],
   "source": [
    "# Compute effect size - Cramers V\n",
    "v = cramers_v(pd.crosstab(df[\"brexit_hashtags\"], df[\"label\"]))"
   ]
  },
  {
   "cell_type": "code",
   "execution_count": 20,
   "metadata": {},
   "outputs": [
    {
     "data": {
      "text/html": [
       "<div>\n",
       "<style scoped>\n",
       "    .dataframe tbody tr th:only-of-type {\n",
       "        vertical-align: middle;\n",
       "    }\n",
       "\n",
       "    .dataframe tbody tr th {\n",
       "        vertical-align: top;\n",
       "    }\n",
       "\n",
       "    .dataframe thead th {\n",
       "        text-align: right;\n",
       "    }\n",
       "</style>\n",
       "<table border=\"1\" class=\"dataframe\">\n",
       "  <thead>\n",
       "    <tr style=\"text-align: right;\">\n",
       "      <th></th>\n",
       "      <th>Variable 1</th>\n",
       "      <th>Variable 2</th>\n",
       "      <th>P-Value - Chi-square test</th>\n",
       "      <th>Effect size - Cramers V</th>\n",
       "    </tr>\n",
       "  </thead>\n",
       "  <tbody>\n",
       "    <tr>\n",
       "      <th>0</th>\n",
       "      <td>Age</td>\n",
       "      <td>Sentiment</td>\n",
       "      <td>0.000000e+00</td>\n",
       "      <td>0.103599</td>\n",
       "    </tr>\n",
       "    <tr>\n",
       "      <th>1</th>\n",
       "      <td>Gender</td>\n",
       "      <td>Sentiment</td>\n",
       "      <td>6.577958e-05</td>\n",
       "      <td>0.008960</td>\n",
       "    </tr>\n",
       "    <tr>\n",
       "      <th>2</th>\n",
       "      <td>Topic - Covid</td>\n",
       "      <td>Sentiment</td>\n",
       "      <td>1.782769e-04</td>\n",
       "      <td>0.008414</td>\n",
       "    </tr>\n",
       "    <tr>\n",
       "      <th>3</th>\n",
       "      <td>Topic - Brexit</td>\n",
       "      <td>Sentiment</td>\n",
       "      <td>4.262530e-16</td>\n",
       "      <td>0.018253</td>\n",
       "    </tr>\n",
       "  </tbody>\n",
       "</table>\n",
       "</div>"
      ],
      "text/plain": [
       "       Variable 1 Variable 2  P-Value - Chi-square test  \\\n",
       "0             Age  Sentiment               0.000000e+00   \n",
       "1          Gender  Sentiment               6.577958e-05   \n",
       "2   Topic - Covid  Sentiment               1.782769e-04   \n",
       "3  Topic - Brexit  Sentiment               4.262530e-16   \n",
       "\n",
       "   Effect size - Cramers V  \n",
       "0                 0.103599  \n",
       "1                 0.008960  \n",
       "2                 0.008414  \n",
       "3                 0.018253  "
      ]
     },
     "execution_count": 20,
     "metadata": {},
     "output_type": "execute_result"
    }
   ],
   "source": [
    "row = [\"Topic - Brexit\", \"Sentiment\", p, v]\n",
    "results.loc[len(results)] = row\n",
    "results"
   ]
  },
  {
   "cell_type": "code",
   "execution_count": 21,
   "metadata": {},
   "outputs": [
    {
     "data": {
      "text/html": [
       "<div>\n",
       "<style scoped>\n",
       "    .dataframe tbody tr th:only-of-type {\n",
       "        vertical-align: middle;\n",
       "    }\n",
       "\n",
       "    .dataframe tbody tr th {\n",
       "        vertical-align: top;\n",
       "    }\n",
       "\n",
       "    .dataframe thead th {\n",
       "        text-align: right;\n",
       "    }\n",
       "</style>\n",
       "<table border=\"1\" class=\"dataframe\">\n",
       "  <thead>\n",
       "    <tr style=\"text-align: right;\">\n",
       "      <th>label</th>\n",
       "      <th>NEGATIVE</th>\n",
       "      <th>POSITIVE</th>\n",
       "    </tr>\n",
       "    <tr>\n",
       "      <th>esg_hashtags</th>\n",
       "      <th></th>\n",
       "      <th></th>\n",
       "    </tr>\n",
       "  </thead>\n",
       "  <tbody>\n",
       "    <tr>\n",
       "      <th>0</th>\n",
       "      <td>74110</td>\n",
       "      <td>122910</td>\n",
       "    </tr>\n",
       "    <tr>\n",
       "      <th>1</th>\n",
       "      <td>330</td>\n",
       "      <td>1080</td>\n",
       "    </tr>\n",
       "  </tbody>\n",
       "</table>\n",
       "</div>"
      ],
      "text/plain": [
       "label         NEGATIVE  POSITIVE\n",
       "esg_hashtags                    \n",
       "0                74110    122910\n",
       "1                  330      1080"
      ]
     },
     "execution_count": 21,
     "metadata": {},
     "output_type": "execute_result"
    }
   ],
   "source": [
    "# crosstab \n",
    "pd.crosstab(df[\"esg_hashtags\"], df[\"label\"])"
   ]
  },
  {
   "cell_type": "code",
   "execution_count": 22,
   "metadata": {},
   "outputs": [
    {
     "data": {
      "text/plain": [
       "(120.01085602186295,\n",
       " 6.291543296024961e-28,\n",
       " 1,\n",
       " array([[ 73911.04570881, 123108.95429119],\n",
       "        [   528.95429119,    881.04570881]]))"
      ]
     },
     "execution_count": 22,
     "metadata": {},
     "output_type": "execute_result"
    }
   ],
   "source": [
    "# Chi-square test of independence.\n",
    "x = chi2_contingency(pd.crosstab(df[\"esg_hashtags\"],df[\"label\"]))\n",
    "p = x[1]\n",
    "x"
   ]
  },
  {
   "cell_type": "code",
   "execution_count": 23,
   "metadata": {},
   "outputs": [
    {
     "name": "stdout",
     "output_type": "stream",
     "text": [
      "V = 0.024592722005054978\n"
     ]
    }
   ],
   "source": [
    "# Compute effect size - Cramers V\n",
    "v = cramers_v(pd.crosstab(df[\"esg_hashtags\"], df[\"label\"]))"
   ]
  },
  {
   "cell_type": "code",
   "execution_count": 24,
   "metadata": {},
   "outputs": [
    {
     "data": {
      "text/html": [
       "<div>\n",
       "<style scoped>\n",
       "    .dataframe tbody tr th:only-of-type {\n",
       "        vertical-align: middle;\n",
       "    }\n",
       "\n",
       "    .dataframe tbody tr th {\n",
       "        vertical-align: top;\n",
       "    }\n",
       "\n",
       "    .dataframe thead th {\n",
       "        text-align: right;\n",
       "    }\n",
       "</style>\n",
       "<table border=\"1\" class=\"dataframe\">\n",
       "  <thead>\n",
       "    <tr style=\"text-align: right;\">\n",
       "      <th></th>\n",
       "      <th>Variable 1</th>\n",
       "      <th>Variable 2</th>\n",
       "      <th>P-Value - Chi-square test</th>\n",
       "      <th>Effect size - Cramers V</th>\n",
       "    </tr>\n",
       "  </thead>\n",
       "  <tbody>\n",
       "    <tr>\n",
       "      <th>0</th>\n",
       "      <td>Age</td>\n",
       "      <td>Sentiment</td>\n",
       "      <td>0.000000e+00</td>\n",
       "      <td>0.103599</td>\n",
       "    </tr>\n",
       "    <tr>\n",
       "      <th>1</th>\n",
       "      <td>Gender</td>\n",
       "      <td>Sentiment</td>\n",
       "      <td>6.577958e-05</td>\n",
       "      <td>0.008960</td>\n",
       "    </tr>\n",
       "    <tr>\n",
       "      <th>2</th>\n",
       "      <td>Topic - Covid</td>\n",
       "      <td>Sentiment</td>\n",
       "      <td>1.782769e-04</td>\n",
       "      <td>0.008414</td>\n",
       "    </tr>\n",
       "    <tr>\n",
       "      <th>3</th>\n",
       "      <td>Topic - Brexit</td>\n",
       "      <td>Sentiment</td>\n",
       "      <td>4.262530e-16</td>\n",
       "      <td>0.018253</td>\n",
       "    </tr>\n",
       "    <tr>\n",
       "      <th>4</th>\n",
       "      <td>Topic - ESG</td>\n",
       "      <td>Sentiment</td>\n",
       "      <td>6.291543e-28</td>\n",
       "      <td>0.024593</td>\n",
       "    </tr>\n",
       "  </tbody>\n",
       "</table>\n",
       "</div>"
      ],
      "text/plain": [
       "       Variable 1 Variable 2  P-Value - Chi-square test  \\\n",
       "0             Age  Sentiment               0.000000e+00   \n",
       "1          Gender  Sentiment               6.577958e-05   \n",
       "2   Topic - Covid  Sentiment               1.782769e-04   \n",
       "3  Topic - Brexit  Sentiment               4.262530e-16   \n",
       "4     Topic - ESG  Sentiment               6.291543e-28   \n",
       "\n",
       "   Effect size - Cramers V  \n",
       "0                 0.103599  \n",
       "1                 0.008960  \n",
       "2                 0.008414  \n",
       "3                 0.018253  \n",
       "4                 0.024593  "
      ]
     },
     "execution_count": 24,
     "metadata": {},
     "output_type": "execute_result"
    }
   ],
   "source": [
    "row = [\"Topic - ESG\", \"Sentiment\", p, v]\n",
    "results.loc[len(results)] = row\n",
    "results"
   ]
  },
  {
   "cell_type": "markdown",
   "metadata": {},
   "source": [
    "**Conclusion:** Null hypothesis can be rejeted beacuse the p value of all three tests is smaller than 0,01 (99% confidence intervall) - Therefore, it can be assumed that the variables are dependent."
   ]
  },
  {
   "cell_type": "markdown",
   "metadata": {},
   "source": [
    "**4th test:** Check independence between Age and Emotion"
   ]
  },
  {
   "cell_type": "code",
   "execution_count": 25,
   "metadata": {},
   "outputs": [
    {
     "data": {
      "text/html": [
       "<div>\n",
       "<style scoped>\n",
       "    .dataframe tbody tr th:only-of-type {\n",
       "        vertical-align: middle;\n",
       "    }\n",
       "\n",
       "    .dataframe tbody tr th {\n",
       "        vertical-align: top;\n",
       "    }\n",
       "\n",
       "    .dataframe thead th {\n",
       "        text-align: right;\n",
       "    }\n",
       "</style>\n",
       "<table border=\"1\" class=\"dataframe\">\n",
       "  <thead>\n",
       "    <tr style=\"text-align: right;\">\n",
       "      <th>emotion_label</th>\n",
       "      <th>anger</th>\n",
       "      <th>disgust</th>\n",
       "      <th>fear</th>\n",
       "      <th>joy</th>\n",
       "      <th>neutral</th>\n",
       "      <th>sadness</th>\n",
       "      <th>surprise</th>\n",
       "    </tr>\n",
       "    <tr>\n",
       "      <th>Age_Group</th>\n",
       "      <th></th>\n",
       "      <th></th>\n",
       "      <th></th>\n",
       "      <th></th>\n",
       "      <th></th>\n",
       "      <th></th>\n",
       "      <th></th>\n",
       "    </tr>\n",
       "  </thead>\n",
       "  <tbody>\n",
       "    <tr>\n",
       "      <th>30-39</th>\n",
       "      <td>1883</td>\n",
       "      <td>170</td>\n",
       "      <td>6016</td>\n",
       "      <td>2657</td>\n",
       "      <td>2905</td>\n",
       "      <td>1438</td>\n",
       "      <td>1782</td>\n",
       "    </tr>\n",
       "    <tr>\n",
       "      <th>40-49</th>\n",
       "      <td>3702</td>\n",
       "      <td>285</td>\n",
       "      <td>17864</td>\n",
       "      <td>10303</td>\n",
       "      <td>13222</td>\n",
       "      <td>4909</td>\n",
       "      <td>7555</td>\n",
       "    </tr>\n",
       "    <tr>\n",
       "      <th>50-59</th>\n",
       "      <td>2490</td>\n",
       "      <td>291</td>\n",
       "      <td>15783</td>\n",
       "      <td>11714</td>\n",
       "      <td>8984</td>\n",
       "      <td>3884</td>\n",
       "      <td>4810</td>\n",
       "    </tr>\n",
       "    <tr>\n",
       "      <th>60-69</th>\n",
       "      <td>3213</td>\n",
       "      <td>267</td>\n",
       "      <td>15359</td>\n",
       "      <td>7260</td>\n",
       "      <td>9183</td>\n",
       "      <td>3921</td>\n",
       "      <td>3805</td>\n",
       "    </tr>\n",
       "    <tr>\n",
       "      <th>&lt;30</th>\n",
       "      <td>662</td>\n",
       "      <td>30</td>\n",
       "      <td>3836</td>\n",
       "      <td>1834</td>\n",
       "      <td>1314</td>\n",
       "      <td>698</td>\n",
       "      <td>650</td>\n",
       "    </tr>\n",
       "    <tr>\n",
       "      <th>&gt;70</th>\n",
       "      <td>1526</td>\n",
       "      <td>121</td>\n",
       "      <td>9100</td>\n",
       "      <td>5215</td>\n",
       "      <td>3967</td>\n",
       "      <td>1744</td>\n",
       "      <td>2078</td>\n",
       "    </tr>\n",
       "  </tbody>\n",
       "</table>\n",
       "</div>"
      ],
      "text/plain": [
       "emotion_label  anger  disgust   fear    joy  neutral  sadness  surprise\n",
       "Age_Group                                                              \n",
       "30-39           1883      170   6016   2657     2905     1438      1782\n",
       "40-49           3702      285  17864  10303    13222     4909      7555\n",
       "50-59           2490      291  15783  11714     8984     3884      4810\n",
       "60-69           3213      267  15359   7260     9183     3921      3805\n",
       "<30              662       30   3836   1834     1314      698       650\n",
       ">70             1526      121   9100   5215     3967     1744      2078"
      ]
     },
     "execution_count": 25,
     "metadata": {},
     "output_type": "execute_result"
    }
   ],
   "source": [
    "# crosstab \n",
    "pd.crosstab(df[\"Age_Group\"], df[\"emotion_label\"])"
   ]
  },
  {
   "cell_type": "code",
   "execution_count": 26,
   "metadata": {},
   "outputs": [
    {
     "data": {
      "text/plain": [
       "(3710.541814784197,\n",
       " 0.0,\n",
       " 30,\n",
       " array([[ 1144.40395102,    98.84878295,  5771.10446001,  3310.50009071,\n",
       "          3360.77369853,  1409.18960843,  1756.17940836],\n",
       "        [ 3928.09474374,   339.29224412, 19808.95388802, 11363.08380789,\n",
       "         11535.64481177,  4836.95489593,  6027.97560853],\n",
       "        [ 3256.84148566,   281.31222093, 16423.89683012,  9421.30095248,\n",
       "          9564.3738346 ,  4010.39088847,  4997.88378773],\n",
       "        [ 2920.80737792,   252.28701305, 14729.31343043,  8449.23078164,\n",
       "          8577.54170236,  3596.60712594,  4482.21256866],\n",
       "        [  612.84797662,    52.93522149,  3090.52558585,  1772.82967293,\n",
       "          1799.75205362,   754.64524517,   940.46424432],\n",
       "        [ 1613.00446505,   139.32451746,  8134.20580557,  4666.05469435,\n",
       "          4736.91389911,  1986.21223605,  2475.2843824 ]]))"
      ]
     },
     "execution_count": 26,
     "metadata": {},
     "output_type": "execute_result"
    }
   ],
   "source": [
    "# Chi-square test of independence.\n",
    "x = chi2_contingency(pd.crosstab(df[\"Age_Group\"],df[\"emotion_label\"]))\n",
    "p = x[1]\n",
    "x"
   ]
  },
  {
   "cell_type": "code",
   "execution_count": 27,
   "metadata": {},
   "outputs": [
    {
     "name": "stdout",
     "output_type": "stream",
     "text": [
      "V = 0.06115472205823401\n"
     ]
    }
   ],
   "source": [
    "# Compute effect size - Cramers V\n",
    "v = cramers_v(pd.crosstab(df[\"Age_Group\"], df[\"emotion_label\"]))"
   ]
  },
  {
   "cell_type": "code",
   "execution_count": 28,
   "metadata": {},
   "outputs": [
    {
     "data": {
      "text/html": [
       "<div>\n",
       "<style scoped>\n",
       "    .dataframe tbody tr th:only-of-type {\n",
       "        vertical-align: middle;\n",
       "    }\n",
       "\n",
       "    .dataframe tbody tr th {\n",
       "        vertical-align: top;\n",
       "    }\n",
       "\n",
       "    .dataframe thead th {\n",
       "        text-align: right;\n",
       "    }\n",
       "</style>\n",
       "<table border=\"1\" class=\"dataframe\">\n",
       "  <thead>\n",
       "    <tr style=\"text-align: right;\">\n",
       "      <th></th>\n",
       "      <th>Variable 1</th>\n",
       "      <th>Variable 2</th>\n",
       "      <th>P-Value - Chi-square test</th>\n",
       "      <th>Effect size - Cramers V</th>\n",
       "    </tr>\n",
       "  </thead>\n",
       "  <tbody>\n",
       "    <tr>\n",
       "      <th>0</th>\n",
       "      <td>Age</td>\n",
       "      <td>Sentiment</td>\n",
       "      <td>0.000000e+00</td>\n",
       "      <td>0.103599</td>\n",
       "    </tr>\n",
       "    <tr>\n",
       "      <th>1</th>\n",
       "      <td>Gender</td>\n",
       "      <td>Sentiment</td>\n",
       "      <td>6.577958e-05</td>\n",
       "      <td>0.008960</td>\n",
       "    </tr>\n",
       "    <tr>\n",
       "      <th>2</th>\n",
       "      <td>Topic - Covid</td>\n",
       "      <td>Sentiment</td>\n",
       "      <td>1.782769e-04</td>\n",
       "      <td>0.008414</td>\n",
       "    </tr>\n",
       "    <tr>\n",
       "      <th>3</th>\n",
       "      <td>Topic - Brexit</td>\n",
       "      <td>Sentiment</td>\n",
       "      <td>4.262530e-16</td>\n",
       "      <td>0.018253</td>\n",
       "    </tr>\n",
       "    <tr>\n",
       "      <th>4</th>\n",
       "      <td>Topic - ESG</td>\n",
       "      <td>Sentiment</td>\n",
       "      <td>6.291543e-28</td>\n",
       "      <td>0.024593</td>\n",
       "    </tr>\n",
       "    <tr>\n",
       "      <th>5</th>\n",
       "      <td>Age</td>\n",
       "      <td>Emotion</td>\n",
       "      <td>0.000000e+00</td>\n",
       "      <td>0.061155</td>\n",
       "    </tr>\n",
       "  </tbody>\n",
       "</table>\n",
       "</div>"
      ],
      "text/plain": [
       "       Variable 1 Variable 2  P-Value - Chi-square test  \\\n",
       "0             Age  Sentiment               0.000000e+00   \n",
       "1          Gender  Sentiment               6.577958e-05   \n",
       "2   Topic - Covid  Sentiment               1.782769e-04   \n",
       "3  Topic - Brexit  Sentiment               4.262530e-16   \n",
       "4     Topic - ESG  Sentiment               6.291543e-28   \n",
       "5             Age    Emotion               0.000000e+00   \n",
       "\n",
       "   Effect size - Cramers V  \n",
       "0                 0.103599  \n",
       "1                 0.008960  \n",
       "2                 0.008414  \n",
       "3                 0.018253  \n",
       "4                 0.024593  \n",
       "5                 0.061155  "
      ]
     },
     "execution_count": 28,
     "metadata": {},
     "output_type": "execute_result"
    }
   ],
   "source": [
    "row = [\"Age\", \"Emotion\", p, v]\n",
    "results.loc[len(results)] = row\n",
    "results"
   ]
  },
  {
   "cell_type": "markdown",
   "metadata": {},
   "source": [
    "**Conclusion:** Null hypothesis can be rejeted beacuse the p value (0,0) is smaller than 0,01 (99% confidence intervall) - Therefore, it can be assumed that the variables are dependent."
   ]
  },
  {
   "cell_type": "markdown",
   "metadata": {},
   "source": [
    "**5th test:** Check independence between Gender and Sentiment"
   ]
  },
  {
   "cell_type": "code",
   "execution_count": 29,
   "metadata": {},
   "outputs": [
    {
     "data": {
      "text/html": [
       "<div>\n",
       "<style scoped>\n",
       "    .dataframe tbody tr th:only-of-type {\n",
       "        vertical-align: middle;\n",
       "    }\n",
       "\n",
       "    .dataframe tbody tr th {\n",
       "        vertical-align: top;\n",
       "    }\n",
       "\n",
       "    .dataframe thead th {\n",
       "        text-align: right;\n",
       "    }\n",
       "</style>\n",
       "<table border=\"1\" class=\"dataframe\">\n",
       "  <thead>\n",
       "    <tr style=\"text-align: right;\">\n",
       "      <th>emotion_label</th>\n",
       "      <th>anger</th>\n",
       "      <th>disgust</th>\n",
       "      <th>fear</th>\n",
       "      <th>joy</th>\n",
       "      <th>neutral</th>\n",
       "      <th>sadness</th>\n",
       "      <th>surprise</th>\n",
       "    </tr>\n",
       "    <tr>\n",
       "      <th>Gender</th>\n",
       "      <th></th>\n",
       "      <th></th>\n",
       "      <th></th>\n",
       "      <th></th>\n",
       "      <th></th>\n",
       "      <th></th>\n",
       "      <th></th>\n",
       "    </tr>\n",
       "  </thead>\n",
       "  <tbody>\n",
       "    <tr>\n",
       "      <th>m</th>\n",
       "      <td>8051</td>\n",
       "      <td>865</td>\n",
       "      <td>39403</td>\n",
       "      <td>25290</td>\n",
       "      <td>27817</td>\n",
       "      <td>9806</td>\n",
       "      <td>14318</td>\n",
       "    </tr>\n",
       "    <tr>\n",
       "      <th>w</th>\n",
       "      <td>5425</td>\n",
       "      <td>299</td>\n",
       "      <td>28555</td>\n",
       "      <td>13693</td>\n",
       "      <td>11758</td>\n",
       "      <td>6788</td>\n",
       "      <td>6362</td>\n",
       "    </tr>\n",
       "  </tbody>\n",
       "</table>\n",
       "</div>"
      ],
      "text/plain": [
       "emotion_label  anger  disgust   fear    joy  neutral  sadness  surprise\n",
       "Gender                                                                 \n",
       "m               8051      865  39403  25290    27817     9806     14318\n",
       "w               5425      299  28555  13693    11758     6788      6362"
      ]
     },
     "execution_count": 29,
     "metadata": {},
     "output_type": "execute_result"
    }
   ],
   "source": [
    "# crosstab \n",
    "pd.crosstab(df[\"Gender\"], df[\"emotion_label\"])"
   ]
  },
  {
   "cell_type": "code",
   "execution_count": 30,
   "metadata": {},
   "outputs": [
    {
     "data": {
      "text/plain": [
       "(2274.673711856102,\n",
       " 0.0,\n",
       " 6,\n",
       " array([[ 8526.4919619 ,   736.48238674, 42998.17013556, 24665.20007055,\n",
       "         25039.76843219, 10499.30302878, 13084.58398428],\n",
       "        [ 4949.5080381 ,   427.51761326, 24959.82986444, 14317.79992945,\n",
       "         14535.23156781,  6094.69697122,  7595.41601572]]))"
      ]
     },
     "execution_count": 30,
     "metadata": {},
     "output_type": "execute_result"
    }
   ],
   "source": [
    "# Chi-square test of independence.\n",
    "x = chi2_contingency(pd.crosstab(df[\"Gender\"],df[\"emotion_label\"]))\n",
    "p = x[1]\n",
    "x"
   ]
  },
  {
   "cell_type": "code",
   "execution_count": 31,
   "metadata": {},
   "outputs": [
    {
     "name": "stdout",
     "output_type": "stream",
     "text": [
      "V = 0.10706706264356\n"
     ]
    }
   ],
   "source": [
    "# Compute effect size - Cramers V\n",
    "v = cramers_v(pd.crosstab(df[\"Gender\"], df[\"emotion_label\"]))"
   ]
  },
  {
   "cell_type": "code",
   "execution_count": 32,
   "metadata": {},
   "outputs": [
    {
     "data": {
      "text/html": [
       "<div>\n",
       "<style scoped>\n",
       "    .dataframe tbody tr th:only-of-type {\n",
       "        vertical-align: middle;\n",
       "    }\n",
       "\n",
       "    .dataframe tbody tr th {\n",
       "        vertical-align: top;\n",
       "    }\n",
       "\n",
       "    .dataframe thead th {\n",
       "        text-align: right;\n",
       "    }\n",
       "</style>\n",
       "<table border=\"1\" class=\"dataframe\">\n",
       "  <thead>\n",
       "    <tr style=\"text-align: right;\">\n",
       "      <th></th>\n",
       "      <th>Variable 1</th>\n",
       "      <th>Variable 2</th>\n",
       "      <th>P-Value - Chi-square test</th>\n",
       "      <th>Effect size - Cramers V</th>\n",
       "    </tr>\n",
       "  </thead>\n",
       "  <tbody>\n",
       "    <tr>\n",
       "      <th>0</th>\n",
       "      <td>Age</td>\n",
       "      <td>Sentiment</td>\n",
       "      <td>0.000000e+00</td>\n",
       "      <td>0.103599</td>\n",
       "    </tr>\n",
       "    <tr>\n",
       "      <th>1</th>\n",
       "      <td>Gender</td>\n",
       "      <td>Sentiment</td>\n",
       "      <td>6.577958e-05</td>\n",
       "      <td>0.008960</td>\n",
       "    </tr>\n",
       "    <tr>\n",
       "      <th>2</th>\n",
       "      <td>Topic - Covid</td>\n",
       "      <td>Sentiment</td>\n",
       "      <td>1.782769e-04</td>\n",
       "      <td>0.008414</td>\n",
       "    </tr>\n",
       "    <tr>\n",
       "      <th>3</th>\n",
       "      <td>Topic - Brexit</td>\n",
       "      <td>Sentiment</td>\n",
       "      <td>4.262530e-16</td>\n",
       "      <td>0.018253</td>\n",
       "    </tr>\n",
       "    <tr>\n",
       "      <th>4</th>\n",
       "      <td>Topic - ESG</td>\n",
       "      <td>Sentiment</td>\n",
       "      <td>6.291543e-28</td>\n",
       "      <td>0.024593</td>\n",
       "    </tr>\n",
       "    <tr>\n",
       "      <th>5</th>\n",
       "      <td>Age</td>\n",
       "      <td>Emotion</td>\n",
       "      <td>0.000000e+00</td>\n",
       "      <td>0.061155</td>\n",
       "    </tr>\n",
       "    <tr>\n",
       "      <th>6</th>\n",
       "      <td>Gender</td>\n",
       "      <td>Emotion</td>\n",
       "      <td>0.000000e+00</td>\n",
       "      <td>0.107067</td>\n",
       "    </tr>\n",
       "  </tbody>\n",
       "</table>\n",
       "</div>"
      ],
      "text/plain": [
       "       Variable 1 Variable 2  P-Value - Chi-square test  \\\n",
       "0             Age  Sentiment               0.000000e+00   \n",
       "1          Gender  Sentiment               6.577958e-05   \n",
       "2   Topic - Covid  Sentiment               1.782769e-04   \n",
       "3  Topic - Brexit  Sentiment               4.262530e-16   \n",
       "4     Topic - ESG  Sentiment               6.291543e-28   \n",
       "5             Age    Emotion               0.000000e+00   \n",
       "6          Gender    Emotion               0.000000e+00   \n",
       "\n",
       "   Effect size - Cramers V  \n",
       "0                 0.103599  \n",
       "1                 0.008960  \n",
       "2                 0.008414  \n",
       "3                 0.018253  \n",
       "4                 0.024593  \n",
       "5                 0.061155  \n",
       "6                 0.107067  "
      ]
     },
     "execution_count": 32,
     "metadata": {},
     "output_type": "execute_result"
    }
   ],
   "source": [
    "row = [\"Gender\", \"Emotion\", p, v]\n",
    "results.loc[len(results)] = row\n",
    "results"
   ]
  },
  {
   "cell_type": "markdown",
   "metadata": {},
   "source": [
    "**Conclusion:** Null hypothesis can be rejeted beacuse the p value (6,5e-05) is smaller than 0,01 (99% confidence intervall) - Therefore, it can be assumed that the variables are dependent."
   ]
  },
  {
   "cell_type": "markdown",
   "metadata": {},
   "source": [
    "**3rd test (group):** Check independence between Topics and Sentiment"
   ]
  },
  {
   "cell_type": "code",
   "execution_count": 33,
   "metadata": {},
   "outputs": [
    {
     "data": {
      "text/html": [
       "<div>\n",
       "<style scoped>\n",
       "    .dataframe tbody tr th:only-of-type {\n",
       "        vertical-align: middle;\n",
       "    }\n",
       "\n",
       "    .dataframe tbody tr th {\n",
       "        vertical-align: top;\n",
       "    }\n",
       "\n",
       "    .dataframe thead th {\n",
       "        text-align: right;\n",
       "    }\n",
       "</style>\n",
       "<table border=\"1\" class=\"dataframe\">\n",
       "  <thead>\n",
       "    <tr style=\"text-align: right;\">\n",
       "      <th>emotion_label</th>\n",
       "      <th>anger</th>\n",
       "      <th>disgust</th>\n",
       "      <th>fear</th>\n",
       "      <th>joy</th>\n",
       "      <th>neutral</th>\n",
       "      <th>sadness</th>\n",
       "      <th>surprise</th>\n",
       "    </tr>\n",
       "    <tr>\n",
       "      <th>covid_hashtags</th>\n",
       "      <th></th>\n",
       "      <th></th>\n",
       "      <th></th>\n",
       "      <th></th>\n",
       "      <th></th>\n",
       "      <th></th>\n",
       "      <th></th>\n",
       "    </tr>\n",
       "  </thead>\n",
       "  <tbody>\n",
       "    <tr>\n",
       "      <th>0</th>\n",
       "      <td>13419</td>\n",
       "      <td>1164</td>\n",
       "      <td>66850</td>\n",
       "      <td>38932</td>\n",
       "      <td>39570</td>\n",
       "      <td>16526</td>\n",
       "      <td>20675</td>\n",
       "    </tr>\n",
       "    <tr>\n",
       "      <th>1</th>\n",
       "      <td>57</td>\n",
       "      <td>0</td>\n",
       "      <td>1108</td>\n",
       "      <td>51</td>\n",
       "      <td>5</td>\n",
       "      <td>68</td>\n",
       "      <td>5</td>\n",
       "    </tr>\n",
       "  </tbody>\n",
       "</table>\n",
       "</div>"
      ],
      "text/plain": [
       "emotion_label   anger  disgust   fear    joy  neutral  sadness  surprise\n",
       "covid_hashtags                                                          \n",
       "0               13419     1164  66850  38932    39570    16526     20675\n",
       "1                  57        0   1108     51        5       68         5"
      ]
     },
     "execution_count": 33,
     "metadata": {},
     "output_type": "execute_result"
    }
   ],
   "source": [
    "# crosstab \n",
    "pd.crosstab(df[\"covid_hashtags\"], df[\"emotion_label\"])"
   ]
  },
  {
   "cell_type": "code",
   "execution_count": 34,
   "metadata": {},
   "outputs": [
    {
     "data": {
      "text/plain": [
       "(1576.702935557135,\n",
       " 0.0,\n",
       " 6,\n",
       " array([[1.33881204e+04, 1.15640933e+03, 6.75148329e+04, 3.87287844e+04,\n",
       "         3.93169239e+04, 1.64857874e+04, 2.05451418e+04],\n",
       "        [8.78795747e+01, 7.59066673e+00, 4.43167122e+02, 2.54215602e+02,\n",
       "         2.58076148e+02, 1.08212649e+02, 1.34858237e+02]]))"
      ]
     },
     "execution_count": 34,
     "metadata": {},
     "output_type": "execute_result"
    }
   ],
   "source": [
    "# Chi-square test of independence.\n",
    "x = chi2_contingency(pd.crosstab(df[\"covid_hashtags\"],df[\"emotion_label\"]))\n",
    "p = x[1]\n",
    "x"
   ]
  },
  {
   "cell_type": "code",
   "execution_count": 35,
   "metadata": {},
   "outputs": [
    {
     "name": "stdout",
     "output_type": "stream",
     "text": [
      "V = 0.08913972130093012\n"
     ]
    }
   ],
   "source": [
    "# Compute effect size - Cramers V\n",
    "v = cramers_v(pd.crosstab(df[\"covid_hashtags\"], df[\"emotion_label\"]))"
   ]
  },
  {
   "cell_type": "code",
   "execution_count": 36,
   "metadata": {},
   "outputs": [
    {
     "data": {
      "text/html": [
       "<div>\n",
       "<style scoped>\n",
       "    .dataframe tbody tr th:only-of-type {\n",
       "        vertical-align: middle;\n",
       "    }\n",
       "\n",
       "    .dataframe tbody tr th {\n",
       "        vertical-align: top;\n",
       "    }\n",
       "\n",
       "    .dataframe thead th {\n",
       "        text-align: right;\n",
       "    }\n",
       "</style>\n",
       "<table border=\"1\" class=\"dataframe\">\n",
       "  <thead>\n",
       "    <tr style=\"text-align: right;\">\n",
       "      <th></th>\n",
       "      <th>Variable 1</th>\n",
       "      <th>Variable 2</th>\n",
       "      <th>P-Value - Chi-square test</th>\n",
       "      <th>Effect size - Cramers V</th>\n",
       "    </tr>\n",
       "  </thead>\n",
       "  <tbody>\n",
       "    <tr>\n",
       "      <th>0</th>\n",
       "      <td>Age</td>\n",
       "      <td>Sentiment</td>\n",
       "      <td>0.000000e+00</td>\n",
       "      <td>0.103599</td>\n",
       "    </tr>\n",
       "    <tr>\n",
       "      <th>1</th>\n",
       "      <td>Gender</td>\n",
       "      <td>Sentiment</td>\n",
       "      <td>6.577958e-05</td>\n",
       "      <td>0.008960</td>\n",
       "    </tr>\n",
       "    <tr>\n",
       "      <th>2</th>\n",
       "      <td>Topic - Covid</td>\n",
       "      <td>Sentiment</td>\n",
       "      <td>1.782769e-04</td>\n",
       "      <td>0.008414</td>\n",
       "    </tr>\n",
       "    <tr>\n",
       "      <th>3</th>\n",
       "      <td>Topic - Brexit</td>\n",
       "      <td>Sentiment</td>\n",
       "      <td>4.262530e-16</td>\n",
       "      <td>0.018253</td>\n",
       "    </tr>\n",
       "    <tr>\n",
       "      <th>4</th>\n",
       "      <td>Topic - ESG</td>\n",
       "      <td>Sentiment</td>\n",
       "      <td>6.291543e-28</td>\n",
       "      <td>0.024593</td>\n",
       "    </tr>\n",
       "    <tr>\n",
       "      <th>5</th>\n",
       "      <td>Age</td>\n",
       "      <td>Emotion</td>\n",
       "      <td>0.000000e+00</td>\n",
       "      <td>0.061155</td>\n",
       "    </tr>\n",
       "    <tr>\n",
       "      <th>6</th>\n",
       "      <td>Gender</td>\n",
       "      <td>Emotion</td>\n",
       "      <td>0.000000e+00</td>\n",
       "      <td>0.107067</td>\n",
       "    </tr>\n",
       "    <tr>\n",
       "      <th>7</th>\n",
       "      <td>Topic - Covid</td>\n",
       "      <td>Emotion</td>\n",
       "      <td>0.000000e+00</td>\n",
       "      <td>0.089140</td>\n",
       "    </tr>\n",
       "  </tbody>\n",
       "</table>\n",
       "</div>"
      ],
      "text/plain": [
       "       Variable 1 Variable 2  P-Value - Chi-square test  \\\n",
       "0             Age  Sentiment               0.000000e+00   \n",
       "1          Gender  Sentiment               6.577958e-05   \n",
       "2   Topic - Covid  Sentiment               1.782769e-04   \n",
       "3  Topic - Brexit  Sentiment               4.262530e-16   \n",
       "4     Topic - ESG  Sentiment               6.291543e-28   \n",
       "5             Age    Emotion               0.000000e+00   \n",
       "6          Gender    Emotion               0.000000e+00   \n",
       "7   Topic - Covid    Emotion               0.000000e+00   \n",
       "\n",
       "   Effect size - Cramers V  \n",
       "0                 0.103599  \n",
       "1                 0.008960  \n",
       "2                 0.008414  \n",
       "3                 0.018253  \n",
       "4                 0.024593  \n",
       "5                 0.061155  \n",
       "6                 0.107067  \n",
       "7                 0.089140  "
      ]
     },
     "execution_count": 36,
     "metadata": {},
     "output_type": "execute_result"
    }
   ],
   "source": [
    "row = [\"Topic - Covid\", \"Emotion\", p, v]\n",
    "results.loc[len(results)] = row\n",
    "results"
   ]
  },
  {
   "cell_type": "code",
   "execution_count": 37,
   "metadata": {},
   "outputs": [
    {
     "data": {
      "text/html": [
       "<div>\n",
       "<style scoped>\n",
       "    .dataframe tbody tr th:only-of-type {\n",
       "        vertical-align: middle;\n",
       "    }\n",
       "\n",
       "    .dataframe tbody tr th {\n",
       "        vertical-align: top;\n",
       "    }\n",
       "\n",
       "    .dataframe thead th {\n",
       "        text-align: right;\n",
       "    }\n",
       "</style>\n",
       "<table border=\"1\" class=\"dataframe\">\n",
       "  <thead>\n",
       "    <tr style=\"text-align: right;\">\n",
       "      <th>emotion_label</th>\n",
       "      <th>anger</th>\n",
       "      <th>disgust</th>\n",
       "      <th>fear</th>\n",
       "      <th>joy</th>\n",
       "      <th>neutral</th>\n",
       "      <th>sadness</th>\n",
       "      <th>surprise</th>\n",
       "    </tr>\n",
       "    <tr>\n",
       "      <th>brexit_hashtags</th>\n",
       "      <th></th>\n",
       "      <th></th>\n",
       "      <th></th>\n",
       "      <th></th>\n",
       "      <th></th>\n",
       "      <th></th>\n",
       "      <th></th>\n",
       "    </tr>\n",
       "  </thead>\n",
       "  <tbody>\n",
       "    <tr>\n",
       "      <th>0</th>\n",
       "      <td>13457</td>\n",
       "      <td>1164</td>\n",
       "      <td>67551</td>\n",
       "      <td>38966</td>\n",
       "      <td>39575</td>\n",
       "      <td>16582</td>\n",
       "      <td>20678</td>\n",
       "    </tr>\n",
       "    <tr>\n",
       "      <th>1</th>\n",
       "      <td>19</td>\n",
       "      <td>0</td>\n",
       "      <td>407</td>\n",
       "      <td>17</td>\n",
       "      <td>0</td>\n",
       "      <td>12</td>\n",
       "      <td>2</td>\n",
       "    </tr>\n",
       "  </tbody>\n",
       "</table>\n",
       "</div>"
      ],
      "text/plain": [
       "emotion_label    anger  disgust   fear    joy  neutral  sadness  surprise\n",
       "brexit_hashtags                                                          \n",
       "0                13457     1164  67551  38966    39575    16582     20678\n",
       "1                   19        0    407     17        0       12         2"
      ]
     },
     "execution_count": 37,
     "metadata": {},
     "output_type": "execute_result"
    }
   ],
   "source": [
    "# crosstab \n",
    "pd.crosstab(df[\"brexit_hashtags\"], df[\"emotion_label\"])"
   ]
  },
  {
   "cell_type": "code",
   "execution_count": 38,
   "metadata": {},
   "outputs": [
    {
     "data": {
      "text/plain": [
       "(621.5082697186715,\n",
       " 5.343095288235906e-131,\n",
       " 6,\n",
       " array([[1.34449637e+04, 1.16131922e+03, 6.78014873e+04, 3.88932191e+04,\n",
       "         3.94838556e+04, 1.65557827e+04, 2.06323723e+04],\n",
       "        [3.10362949e+01, 2.68078416e+00, 1.56512654e+02, 8.97809353e+01,\n",
       "         9.11443582e+01, 3.82172958e+01, 4.76276773e+01]]))"
      ]
     },
     "execution_count": 38,
     "metadata": {},
     "output_type": "execute_result"
    }
   ],
   "source": [
    "# Chi-square test of independence.\n",
    "x = chi2_contingency(pd.crosstab(df[\"brexit_hashtags\"],df[\"emotion_label\"]))\n",
    "p = x[1]\n",
    "x"
   ]
  },
  {
   "cell_type": "code",
   "execution_count": 39,
   "metadata": {},
   "outputs": [
    {
     "name": "stdout",
     "output_type": "stream",
     "text": [
      "V = 0.05596542287673583\n"
     ]
    }
   ],
   "source": [
    "# Compute effect size - Cramers V\n",
    "v = cramers_v(pd.crosstab(df[\"brexit_hashtags\"], df[\"emotion_label\"]))"
   ]
  },
  {
   "cell_type": "code",
   "execution_count": 40,
   "metadata": {},
   "outputs": [
    {
     "data": {
      "text/html": [
       "<div>\n",
       "<style scoped>\n",
       "    .dataframe tbody tr th:only-of-type {\n",
       "        vertical-align: middle;\n",
       "    }\n",
       "\n",
       "    .dataframe tbody tr th {\n",
       "        vertical-align: top;\n",
       "    }\n",
       "\n",
       "    .dataframe thead th {\n",
       "        text-align: right;\n",
       "    }\n",
       "</style>\n",
       "<table border=\"1\" class=\"dataframe\">\n",
       "  <thead>\n",
       "    <tr style=\"text-align: right;\">\n",
       "      <th></th>\n",
       "      <th>Variable 1</th>\n",
       "      <th>Variable 2</th>\n",
       "      <th>P-Value - Chi-square test</th>\n",
       "      <th>Effect size - Cramers V</th>\n",
       "    </tr>\n",
       "  </thead>\n",
       "  <tbody>\n",
       "    <tr>\n",
       "      <th>0</th>\n",
       "      <td>Age</td>\n",
       "      <td>Sentiment</td>\n",
       "      <td>0.000000e+00</td>\n",
       "      <td>0.103599</td>\n",
       "    </tr>\n",
       "    <tr>\n",
       "      <th>1</th>\n",
       "      <td>Gender</td>\n",
       "      <td>Sentiment</td>\n",
       "      <td>6.577958e-05</td>\n",
       "      <td>0.008960</td>\n",
       "    </tr>\n",
       "    <tr>\n",
       "      <th>2</th>\n",
       "      <td>Topic - Covid</td>\n",
       "      <td>Sentiment</td>\n",
       "      <td>1.782769e-04</td>\n",
       "      <td>0.008414</td>\n",
       "    </tr>\n",
       "    <tr>\n",
       "      <th>3</th>\n",
       "      <td>Topic - Brexit</td>\n",
       "      <td>Sentiment</td>\n",
       "      <td>4.262530e-16</td>\n",
       "      <td>0.018253</td>\n",
       "    </tr>\n",
       "    <tr>\n",
       "      <th>4</th>\n",
       "      <td>Topic - ESG</td>\n",
       "      <td>Sentiment</td>\n",
       "      <td>6.291543e-28</td>\n",
       "      <td>0.024593</td>\n",
       "    </tr>\n",
       "    <tr>\n",
       "      <th>5</th>\n",
       "      <td>Age</td>\n",
       "      <td>Emotion</td>\n",
       "      <td>0.000000e+00</td>\n",
       "      <td>0.061155</td>\n",
       "    </tr>\n",
       "    <tr>\n",
       "      <th>6</th>\n",
       "      <td>Gender</td>\n",
       "      <td>Emotion</td>\n",
       "      <td>0.000000e+00</td>\n",
       "      <td>0.107067</td>\n",
       "    </tr>\n",
       "    <tr>\n",
       "      <th>7</th>\n",
       "      <td>Topic - Covid</td>\n",
       "      <td>Emotion</td>\n",
       "      <td>0.000000e+00</td>\n",
       "      <td>0.089140</td>\n",
       "    </tr>\n",
       "    <tr>\n",
       "      <th>8</th>\n",
       "      <td>Topic - Brexit</td>\n",
       "      <td>Emotion</td>\n",
       "      <td>5.343095e-131</td>\n",
       "      <td>0.055965</td>\n",
       "    </tr>\n",
       "  </tbody>\n",
       "</table>\n",
       "</div>"
      ],
      "text/plain": [
       "       Variable 1 Variable 2  P-Value - Chi-square test  \\\n",
       "0             Age  Sentiment               0.000000e+00   \n",
       "1          Gender  Sentiment               6.577958e-05   \n",
       "2   Topic - Covid  Sentiment               1.782769e-04   \n",
       "3  Topic - Brexit  Sentiment               4.262530e-16   \n",
       "4     Topic - ESG  Sentiment               6.291543e-28   \n",
       "5             Age    Emotion               0.000000e+00   \n",
       "6          Gender    Emotion               0.000000e+00   \n",
       "7   Topic - Covid    Emotion               0.000000e+00   \n",
       "8  Topic - Brexit    Emotion              5.343095e-131   \n",
       "\n",
       "   Effect size - Cramers V  \n",
       "0                 0.103599  \n",
       "1                 0.008960  \n",
       "2                 0.008414  \n",
       "3                 0.018253  \n",
       "4                 0.024593  \n",
       "5                 0.061155  \n",
       "6                 0.107067  \n",
       "7                 0.089140  \n",
       "8                 0.055965  "
      ]
     },
     "execution_count": 40,
     "metadata": {},
     "output_type": "execute_result"
    }
   ],
   "source": [
    "row = [\"Topic - Brexit\", \"Emotion\", p, v]\n",
    "results.loc[len(results)] = row\n",
    "results"
   ]
  },
  {
   "cell_type": "code",
   "execution_count": 41,
   "metadata": {},
   "outputs": [
    {
     "data": {
      "text/html": [
       "<div>\n",
       "<style scoped>\n",
       "    .dataframe tbody tr th:only-of-type {\n",
       "        vertical-align: middle;\n",
       "    }\n",
       "\n",
       "    .dataframe tbody tr th {\n",
       "        vertical-align: top;\n",
       "    }\n",
       "\n",
       "    .dataframe thead th {\n",
       "        text-align: right;\n",
       "    }\n",
       "</style>\n",
       "<table border=\"1\" class=\"dataframe\">\n",
       "  <thead>\n",
       "    <tr style=\"text-align: right;\">\n",
       "      <th>emotion_label</th>\n",
       "      <th>anger</th>\n",
       "      <th>disgust</th>\n",
       "      <th>fear</th>\n",
       "      <th>joy</th>\n",
       "      <th>neutral</th>\n",
       "      <th>sadness</th>\n",
       "      <th>surprise</th>\n",
       "    </tr>\n",
       "    <tr>\n",
       "      <th>esg_hashtags</th>\n",
       "      <th></th>\n",
       "      <th></th>\n",
       "      <th></th>\n",
       "      <th></th>\n",
       "      <th></th>\n",
       "      <th></th>\n",
       "      <th></th>\n",
       "    </tr>\n",
       "  </thead>\n",
       "  <tbody>\n",
       "    <tr>\n",
       "      <th>0</th>\n",
       "      <td>13360</td>\n",
       "      <td>1164</td>\n",
       "      <td>66817</td>\n",
       "      <td>38891</td>\n",
       "      <td>39566</td>\n",
       "      <td>16551</td>\n",
       "      <td>20671</td>\n",
       "    </tr>\n",
       "    <tr>\n",
       "      <th>1</th>\n",
       "      <td>116</td>\n",
       "      <td>0</td>\n",
       "      <td>1141</td>\n",
       "      <td>92</td>\n",
       "      <td>9</td>\n",
       "      <td>43</td>\n",
       "      <td>9</td>\n",
       "    </tr>\n",
       "  </tbody>\n",
       "</table>\n",
       "</div>"
      ],
      "text/plain": [
       "emotion_label  anger  disgust   fear    joy  neutral  sadness  surprise\n",
       "esg_hashtags                                                           \n",
       "0              13360     1164  66817  38891    39566    16551     20671\n",
       "1                116        0   1141     92        9       43         9"
      ]
     },
     "execution_count": 41,
     "metadata": {},
     "output_type": "execute_result"
    }
   ],
   "source": [
    "# crosstab \n",
    "pd.crosstab(df[\"esg_hashtags\"], df[\"emotion_label\"])"
   ]
  },
  {
   "cell_type": "code",
   "execution_count": 42,
   "metadata": {},
   "outputs": [
    {
     "data": {
      "text/plain": [
       "(1484.137289939724,\n",
       " 0.0,\n",
       " 6,\n",
       " array([[1.33802425e+04, 1.15572887e+03, 6.74751054e+04, 3.87059954e+04,\n",
       "         3.92937887e+04, 1.64760867e+04, 2.05330525e+04],\n",
       "        [9.57574963e+01, 8.27112836e+00, 4.82894623e+02, 2.77004636e+02,\n",
       "         2.81211258e+02, 1.17913320e+02, 1.46947538e+02]]))"
      ]
     },
     "execution_count": 42,
     "metadata": {},
     "output_type": "execute_result"
    }
   ],
   "source": [
    "# Chi-square test of independence.\n",
    "x = chi2_contingency(pd.crosstab(df[\"esg_hashtags\"],df[\"emotion_label\"]))\n",
    "p = x[1]\n",
    "x"
   ]
  },
  {
   "cell_type": "code",
   "execution_count": 43,
   "metadata": {},
   "outputs": [
    {
     "name": "stdout",
     "output_type": "stream",
     "text": [
      "V = 0.08648352292569428\n"
     ]
    }
   ],
   "source": [
    "# Compute effect size - Cramers V\n",
    "v = cramers_v(pd.crosstab(df[\"esg_hashtags\"], df[\"emotion_label\"]))"
   ]
  },
  {
   "cell_type": "code",
   "execution_count": 44,
   "metadata": {},
   "outputs": [
    {
     "data": {
      "text/html": [
       "<div>\n",
       "<style scoped>\n",
       "    .dataframe tbody tr th:only-of-type {\n",
       "        vertical-align: middle;\n",
       "    }\n",
       "\n",
       "    .dataframe tbody tr th {\n",
       "        vertical-align: top;\n",
       "    }\n",
       "\n",
       "    .dataframe thead th {\n",
       "        text-align: right;\n",
       "    }\n",
       "</style>\n",
       "<table border=\"1\" class=\"dataframe\">\n",
       "  <thead>\n",
       "    <tr style=\"text-align: right;\">\n",
       "      <th></th>\n",
       "      <th>Variable 1</th>\n",
       "      <th>Variable 2</th>\n",
       "      <th>P-Value - Chi-square test</th>\n",
       "      <th>Effect size - Cramers V</th>\n",
       "    </tr>\n",
       "  </thead>\n",
       "  <tbody>\n",
       "    <tr>\n",
       "      <th>0</th>\n",
       "      <td>Age</td>\n",
       "      <td>Sentiment</td>\n",
       "      <td>0.000000e+00</td>\n",
       "      <td>0.103599</td>\n",
       "    </tr>\n",
       "    <tr>\n",
       "      <th>1</th>\n",
       "      <td>Gender</td>\n",
       "      <td>Sentiment</td>\n",
       "      <td>6.577958e-05</td>\n",
       "      <td>0.008960</td>\n",
       "    </tr>\n",
       "    <tr>\n",
       "      <th>2</th>\n",
       "      <td>Topic - Covid</td>\n",
       "      <td>Sentiment</td>\n",
       "      <td>1.782769e-04</td>\n",
       "      <td>0.008414</td>\n",
       "    </tr>\n",
       "    <tr>\n",
       "      <th>3</th>\n",
       "      <td>Topic - Brexit</td>\n",
       "      <td>Sentiment</td>\n",
       "      <td>4.262530e-16</td>\n",
       "      <td>0.018253</td>\n",
       "    </tr>\n",
       "    <tr>\n",
       "      <th>4</th>\n",
       "      <td>Topic - ESG</td>\n",
       "      <td>Sentiment</td>\n",
       "      <td>6.291543e-28</td>\n",
       "      <td>0.024593</td>\n",
       "    </tr>\n",
       "    <tr>\n",
       "      <th>5</th>\n",
       "      <td>Age</td>\n",
       "      <td>Emotion</td>\n",
       "      <td>0.000000e+00</td>\n",
       "      <td>0.061155</td>\n",
       "    </tr>\n",
       "    <tr>\n",
       "      <th>6</th>\n",
       "      <td>Gender</td>\n",
       "      <td>Emotion</td>\n",
       "      <td>0.000000e+00</td>\n",
       "      <td>0.107067</td>\n",
       "    </tr>\n",
       "    <tr>\n",
       "      <th>7</th>\n",
       "      <td>Topic - Covid</td>\n",
       "      <td>Emotion</td>\n",
       "      <td>0.000000e+00</td>\n",
       "      <td>0.089140</td>\n",
       "    </tr>\n",
       "    <tr>\n",
       "      <th>8</th>\n",
       "      <td>Topic - Brexit</td>\n",
       "      <td>Emotion</td>\n",
       "      <td>5.343095e-131</td>\n",
       "      <td>0.055965</td>\n",
       "    </tr>\n",
       "    <tr>\n",
       "      <th>9</th>\n",
       "      <td>Topic - ESG</td>\n",
       "      <td>Emotion</td>\n",
       "      <td>0.000000e+00</td>\n",
       "      <td>0.086484</td>\n",
       "    </tr>\n",
       "  </tbody>\n",
       "</table>\n",
       "</div>"
      ],
      "text/plain": [
       "       Variable 1 Variable 2  P-Value - Chi-square test  \\\n",
       "0             Age  Sentiment               0.000000e+00   \n",
       "1          Gender  Sentiment               6.577958e-05   \n",
       "2   Topic - Covid  Sentiment               1.782769e-04   \n",
       "3  Topic - Brexit  Sentiment               4.262530e-16   \n",
       "4     Topic - ESG  Sentiment               6.291543e-28   \n",
       "5             Age    Emotion               0.000000e+00   \n",
       "6          Gender    Emotion               0.000000e+00   \n",
       "7   Topic - Covid    Emotion               0.000000e+00   \n",
       "8  Topic - Brexit    Emotion              5.343095e-131   \n",
       "9     Topic - ESG    Emotion               0.000000e+00   \n",
       "\n",
       "   Effect size - Cramers V  \n",
       "0                 0.103599  \n",
       "1                 0.008960  \n",
       "2                 0.008414  \n",
       "3                 0.018253  \n",
       "4                 0.024593  \n",
       "5                 0.061155  \n",
       "6                 0.107067  \n",
       "7                 0.089140  \n",
       "8                 0.055965  \n",
       "9                 0.086484  "
      ]
     },
     "execution_count": 44,
     "metadata": {},
     "output_type": "execute_result"
    }
   ],
   "source": [
    "row = [\"Topic - ESG\", \"Emotion\", p, v]\n",
    "results.loc[len(results)] = row\n",
    "results"
   ]
  },
  {
   "cell_type": "markdown",
   "metadata": {},
   "source": [
    "**Conclusion:** Null hypothesis can be rejeted beacuse the p value of all three tests is smaller than 0,01 (99% confidence intervall) - Therefore, it can be assumed that the variables are dependent."
   ]
  },
  {
   "cell_type": "code",
   "execution_count": 45,
   "metadata": {},
   "outputs": [
    {
     "data": {
      "text/html": [
       "<div>\n",
       "<style scoped>\n",
       "    .dataframe tbody tr th:only-of-type {\n",
       "        vertical-align: middle;\n",
       "    }\n",
       "\n",
       "    .dataframe tbody tr th {\n",
       "        vertical-align: top;\n",
       "    }\n",
       "\n",
       "    .dataframe thead th {\n",
       "        text-align: right;\n",
       "    }\n",
       "</style>\n",
       "<table border=\"1\" class=\"dataframe\">\n",
       "  <thead>\n",
       "    <tr style=\"text-align: right;\">\n",
       "      <th></th>\n",
       "      <th>Variable 1</th>\n",
       "      <th>Variable 2</th>\n",
       "      <th>P-Value - Chi-square test</th>\n",
       "      <th>Effect size - Cramers V</th>\n",
       "    </tr>\n",
       "  </thead>\n",
       "  <tbody>\n",
       "    <tr>\n",
       "      <th>0</th>\n",
       "      <td>Age</td>\n",
       "      <td>Sentiment</td>\n",
       "      <td>0.000000e+00</td>\n",
       "      <td>0.103599</td>\n",
       "    </tr>\n",
       "    <tr>\n",
       "      <th>1</th>\n",
       "      <td>Gender</td>\n",
       "      <td>Sentiment</td>\n",
       "      <td>6.577958e-05</td>\n",
       "      <td>0.008960</td>\n",
       "    </tr>\n",
       "    <tr>\n",
       "      <th>2</th>\n",
       "      <td>Topic - Covid</td>\n",
       "      <td>Sentiment</td>\n",
       "      <td>1.782769e-04</td>\n",
       "      <td>0.008414</td>\n",
       "    </tr>\n",
       "    <tr>\n",
       "      <th>3</th>\n",
       "      <td>Topic - Brexit</td>\n",
       "      <td>Sentiment</td>\n",
       "      <td>4.262530e-16</td>\n",
       "      <td>0.018253</td>\n",
       "    </tr>\n",
       "    <tr>\n",
       "      <th>4</th>\n",
       "      <td>Topic - ESG</td>\n",
       "      <td>Sentiment</td>\n",
       "      <td>6.291543e-28</td>\n",
       "      <td>0.024593</td>\n",
       "    </tr>\n",
       "    <tr>\n",
       "      <th>5</th>\n",
       "      <td>Age</td>\n",
       "      <td>Emotion</td>\n",
       "      <td>0.000000e+00</td>\n",
       "      <td>0.061155</td>\n",
       "    </tr>\n",
       "    <tr>\n",
       "      <th>6</th>\n",
       "      <td>Gender</td>\n",
       "      <td>Emotion</td>\n",
       "      <td>0.000000e+00</td>\n",
       "      <td>0.107067</td>\n",
       "    </tr>\n",
       "    <tr>\n",
       "      <th>7</th>\n",
       "      <td>Topic - Covid</td>\n",
       "      <td>Emotion</td>\n",
       "      <td>0.000000e+00</td>\n",
       "      <td>0.089140</td>\n",
       "    </tr>\n",
       "    <tr>\n",
       "      <th>8</th>\n",
       "      <td>Topic - Brexit</td>\n",
       "      <td>Emotion</td>\n",
       "      <td>5.343095e-131</td>\n",
       "      <td>0.055965</td>\n",
       "    </tr>\n",
       "    <tr>\n",
       "      <th>9</th>\n",
       "      <td>Topic - ESG</td>\n",
       "      <td>Emotion</td>\n",
       "      <td>0.000000e+00</td>\n",
       "      <td>0.086484</td>\n",
       "    </tr>\n",
       "  </tbody>\n",
       "</table>\n",
       "</div>"
      ],
      "text/plain": [
       "       Variable 1 Variable 2  P-Value - Chi-square test  \\\n",
       "0             Age  Sentiment               0.000000e+00   \n",
       "1          Gender  Sentiment               6.577958e-05   \n",
       "2   Topic - Covid  Sentiment               1.782769e-04   \n",
       "3  Topic - Brexit  Sentiment               4.262530e-16   \n",
       "4     Topic - ESG  Sentiment               6.291543e-28   \n",
       "5             Age    Emotion               0.000000e+00   \n",
       "6          Gender    Emotion               0.000000e+00   \n",
       "7   Topic - Covid    Emotion               0.000000e+00   \n",
       "8  Topic - Brexit    Emotion              5.343095e-131   \n",
       "9     Topic - ESG    Emotion               0.000000e+00   \n",
       "\n",
       "   Effect size - Cramers V  \n",
       "0                 0.103599  \n",
       "1                 0.008960  \n",
       "2                 0.008414  \n",
       "3                 0.018253  \n",
       "4                 0.024593  \n",
       "5                 0.061155  \n",
       "6                 0.107067  \n",
       "7                 0.089140  \n",
       "8                 0.055965  \n",
       "9                 0.086484  "
      ]
     },
     "execution_count": 45,
     "metadata": {},
     "output_type": "execute_result"
    }
   ],
   "source": [
    "results"
   ]
  },
  {
   "cell_type": "markdown",
   "metadata": {},
   "source": [
    "**Overall conclusion:** For all test the null hypothesis could be rejected with a 99% confidence intervall. Therefore it can be assumed that the sentiment and emotion are dependent on all collected demographic charceteritics and the 3 identified topic cluster. However, Cramer's V indicats a weak depencies for all cases. Therefore, the effect size will be again measured for groups that optically differed a lot."
   ]
  },
  {
   "cell_type": "markdown",
   "metadata": {},
   "source": [
    "Example 1: Sentiment & \"Age_Group = <30\" or \"Age_Group = 30 - 39\""
   ]
  },
  {
   "cell_type": "code",
   "execution_count": 46,
   "metadata": {},
   "outputs": [
    {
     "data": {
      "text/html": [
       "<div>\n",
       "<style scoped>\n",
       "    .dataframe tbody tr th:only-of-type {\n",
       "        vertical-align: middle;\n",
       "    }\n",
       "\n",
       "    .dataframe tbody tr th {\n",
       "        vertical-align: top;\n",
       "    }\n",
       "\n",
       "    .dataframe thead th {\n",
       "        text-align: right;\n",
       "    }\n",
       "</style>\n",
       "<table border=\"1\" class=\"dataframe\">\n",
       "  <thead>\n",
       "    <tr style=\"text-align: right;\">\n",
       "      <th>label</th>\n",
       "      <th>NEGATIVE</th>\n",
       "      <th>POSITIVE</th>\n",
       "    </tr>\n",
       "    <tr>\n",
       "      <th>Age_Group</th>\n",
       "      <th></th>\n",
       "      <th></th>\n",
       "    </tr>\n",
       "  </thead>\n",
       "  <tbody>\n",
       "    <tr>\n",
       "      <th>30-39</th>\n",
       "      <td>7659</td>\n",
       "      <td>9192</td>\n",
       "    </tr>\n",
       "    <tr>\n",
       "      <th>&lt;30</th>\n",
       "      <td>2351</td>\n",
       "      <td>6673</td>\n",
       "    </tr>\n",
       "  </tbody>\n",
       "</table>\n",
       "</div>"
      ],
      "text/plain": [
       "label      NEGATIVE  POSITIVE\n",
       "Age_Group                    \n",
       "30-39          7659      9192\n",
       "<30            2351      6673"
      ]
     },
     "execution_count": 46,
     "metadata": {},
     "output_type": "execute_result"
    }
   ],
   "source": [
    "# Data selection & cross tab\n",
    "df1 = df[df['Age_Group']==\"<30\"]\n",
    "df2 = df[df['Age_Group']==\"30-39\"]\n",
    "df3 = pd.concat([df1, df2], ignore_index=True)\n",
    "pd.crosstab(df3[\"Age_Group\"], df3[\"label\"])"
   ]
  },
  {
   "cell_type": "code",
   "execution_count": 47,
   "metadata": {},
   "outputs": [
    {
     "data": {
      "text/plain": [
       "(931.5130262603652,\n",
       " 1.3848318780580499e-204,\n",
       " 1,\n",
       " array([[ 6518.97623188, 10332.02376812],\n",
       "        [ 3491.02376812,  5532.97623188]]))"
      ]
     },
     "execution_count": 47,
     "metadata": {},
     "output_type": "execute_result"
    }
   ],
   "source": [
    "# Chi-square test of independence.\n",
    "x = chi2_contingency(pd.crosstab(df3[\"Age_Group\"],df3[\"label\"]))\n",
    "p = x[1]\n",
    "x"
   ]
  },
  {
   "cell_type": "code",
   "execution_count": 48,
   "metadata": {},
   "outputs": [
    {
     "name": "stdout",
     "output_type": "stream",
     "text": [
      "V = 0.18973798626092847\n"
     ]
    }
   ],
   "source": [
    "# Compute effect size - Cramers V\n",
    "v = cramers_v(pd.crosstab(df3[\"Age_Group\"], df3[\"label\"]))"
   ]
  },
  {
   "cell_type": "code",
   "execution_count": 49,
   "metadata": {},
   "outputs": [
    {
     "data": {
      "text/html": [
       "<div>\n",
       "<style scoped>\n",
       "    .dataframe tbody tr th:only-of-type {\n",
       "        vertical-align: middle;\n",
       "    }\n",
       "\n",
       "    .dataframe tbody tr th {\n",
       "        vertical-align: top;\n",
       "    }\n",
       "\n",
       "    .dataframe thead th {\n",
       "        text-align: right;\n",
       "    }\n",
       "</style>\n",
       "<table border=\"1\" class=\"dataframe\">\n",
       "  <thead>\n",
       "    <tr style=\"text-align: right;\">\n",
       "      <th></th>\n",
       "      <th>Variable 1</th>\n",
       "      <th>Variable 2</th>\n",
       "      <th>P-Value - Chi-square test</th>\n",
       "      <th>Effect size - Cramers V</th>\n",
       "    </tr>\n",
       "  </thead>\n",
       "  <tbody>\n",
       "    <tr>\n",
       "      <th>0</th>\n",
       "      <td>Age</td>\n",
       "      <td>Sentiment</td>\n",
       "      <td>0.000000e+00</td>\n",
       "      <td>0.103599</td>\n",
       "    </tr>\n",
       "    <tr>\n",
       "      <th>1</th>\n",
       "      <td>Gender</td>\n",
       "      <td>Sentiment</td>\n",
       "      <td>6.577958e-05</td>\n",
       "      <td>0.008960</td>\n",
       "    </tr>\n",
       "    <tr>\n",
       "      <th>2</th>\n",
       "      <td>Topic - Covid</td>\n",
       "      <td>Sentiment</td>\n",
       "      <td>1.782769e-04</td>\n",
       "      <td>0.008414</td>\n",
       "    </tr>\n",
       "    <tr>\n",
       "      <th>3</th>\n",
       "      <td>Topic - Brexit</td>\n",
       "      <td>Sentiment</td>\n",
       "      <td>4.262530e-16</td>\n",
       "      <td>0.018253</td>\n",
       "    </tr>\n",
       "    <tr>\n",
       "      <th>4</th>\n",
       "      <td>Topic - ESG</td>\n",
       "      <td>Sentiment</td>\n",
       "      <td>6.291543e-28</td>\n",
       "      <td>0.024593</td>\n",
       "    </tr>\n",
       "    <tr>\n",
       "      <th>5</th>\n",
       "      <td>Age</td>\n",
       "      <td>Emotion</td>\n",
       "      <td>0.000000e+00</td>\n",
       "      <td>0.061155</td>\n",
       "    </tr>\n",
       "    <tr>\n",
       "      <th>6</th>\n",
       "      <td>Gender</td>\n",
       "      <td>Emotion</td>\n",
       "      <td>0.000000e+00</td>\n",
       "      <td>0.107067</td>\n",
       "    </tr>\n",
       "    <tr>\n",
       "      <th>7</th>\n",
       "      <td>Topic - Covid</td>\n",
       "      <td>Emotion</td>\n",
       "      <td>0.000000e+00</td>\n",
       "      <td>0.089140</td>\n",
       "    </tr>\n",
       "    <tr>\n",
       "      <th>8</th>\n",
       "      <td>Topic - Brexit</td>\n",
       "      <td>Emotion</td>\n",
       "      <td>5.343095e-131</td>\n",
       "      <td>0.055965</td>\n",
       "    </tr>\n",
       "    <tr>\n",
       "      <th>9</th>\n",
       "      <td>Topic - ESG</td>\n",
       "      <td>Emotion</td>\n",
       "      <td>0.000000e+00</td>\n",
       "      <td>0.086484</td>\n",
       "    </tr>\n",
       "    <tr>\n",
       "      <th>10</th>\n",
       "      <td>Age_Group &lt;30 &amp; 30-39</td>\n",
       "      <td>Sentiment</td>\n",
       "      <td>1.384832e-204</td>\n",
       "      <td>0.189738</td>\n",
       "    </tr>\n",
       "  </tbody>\n",
       "</table>\n",
       "</div>"
      ],
      "text/plain": [
       "               Variable 1 Variable 2  P-Value - Chi-square test  \\\n",
       "0                     Age  Sentiment               0.000000e+00   \n",
       "1                  Gender  Sentiment               6.577958e-05   \n",
       "2           Topic - Covid  Sentiment               1.782769e-04   \n",
       "3          Topic - Brexit  Sentiment               4.262530e-16   \n",
       "4             Topic - ESG  Sentiment               6.291543e-28   \n",
       "5                     Age    Emotion               0.000000e+00   \n",
       "6                  Gender    Emotion               0.000000e+00   \n",
       "7           Topic - Covid    Emotion               0.000000e+00   \n",
       "8          Topic - Brexit    Emotion              5.343095e-131   \n",
       "9             Topic - ESG    Emotion               0.000000e+00   \n",
       "10  Age_Group <30 & 30-39  Sentiment              1.384832e-204   \n",
       "\n",
       "    Effect size - Cramers V  \n",
       "0                  0.103599  \n",
       "1                  0.008960  \n",
       "2                  0.008414  \n",
       "3                  0.018253  \n",
       "4                  0.024593  \n",
       "5                  0.061155  \n",
       "6                  0.107067  \n",
       "7                  0.089140  \n",
       "8                  0.055965  \n",
       "9                  0.086484  \n",
       "10                 0.189738  "
      ]
     },
     "execution_count": 49,
     "metadata": {},
     "output_type": "execute_result"
    }
   ],
   "source": [
    "row = [\"Age_Group <30 & 30-39\", \"Sentiment\",p, v]\n",
    "results.loc[len(results)] = row\n",
    "results"
   ]
  },
  {
   "cell_type": "markdown",
   "metadata": {},
   "source": [
    "Example 2: Sentiment & \"Topic cluster - Brexit\" or \"Topic cluster - ESG\""
   ]
  },
  {
   "cell_type": "code",
   "execution_count": 50,
   "metadata": {},
   "outputs": [
    {
     "name": "stdout",
     "output_type": "stream",
     "text": [
      "1867\n",
      "1865\n"
     ]
    }
   ],
   "source": [
    "# Data selection\n",
    "df1 = df[df['brexit_hashtags']== 1]\n",
    "df2 = df[df['esg_hashtags']== 1]\n",
    "df3 = pd.concat([df1, df2], ignore_index=True)\n",
    "print(len(df3))\n",
    "# Delete entries which mention both topics\n",
    "df3 = df3.drop(df3[(df3.brexit_hashtags == 1) & (df3.esg_hashtags == 1)].index)\n",
    "print(len(df3))\n",
    "df3.loc[df3.brexit_hashtags == 0, 'brexit_hashtags'] = 'ESG'\n",
    "df3.loc[df3.brexit_hashtags == 1, 'brexit_hashtags'] = 'Brexit'"
   ]
  },
  {
   "cell_type": "code",
   "execution_count": 51,
   "metadata": {},
   "outputs": [
    {
     "data": {
      "text/html": [
       "<div>\n",
       "<style scoped>\n",
       "    .dataframe tbody tr th:only-of-type {\n",
       "        vertical-align: middle;\n",
       "    }\n",
       "\n",
       "    .dataframe tbody tr th {\n",
       "        vertical-align: top;\n",
       "    }\n",
       "\n",
       "    .dataframe thead th {\n",
       "        text-align: right;\n",
       "    }\n",
       "</style>\n",
       "<table border=\"1\" class=\"dataframe\">\n",
       "  <thead>\n",
       "    <tr style=\"text-align: right;\">\n",
       "      <th>label</th>\n",
       "      <th>NEGATIVE</th>\n",
       "      <th>POSITIVE</th>\n",
       "    </tr>\n",
       "    <tr>\n",
       "      <th>brexit_hashtags</th>\n",
       "      <th></th>\n",
       "      <th></th>\n",
       "    </tr>\n",
       "  </thead>\n",
       "  <tbody>\n",
       "    <tr>\n",
       "      <th>Brexit</th>\n",
       "      <td>255</td>\n",
       "      <td>201</td>\n",
       "    </tr>\n",
       "    <tr>\n",
       "      <th>ESG</th>\n",
       "      <td>329</td>\n",
       "      <td>1080</td>\n",
       "    </tr>\n",
       "  </tbody>\n",
       "</table>\n",
       "</div>"
      ],
      "text/plain": [
       "label            NEGATIVE  POSITIVE\n",
       "brexit_hashtags                    \n",
       "Brexit                255       201\n",
       "ESG                   329      1080"
      ]
     },
     "execution_count": 51,
     "metadata": {},
     "output_type": "execute_result"
    }
   ],
   "source": [
    "# Cross tab - Brexit_hashtags contains the information wheter ESG or Brexit cluster\n",
    "pd.crosstab(df3[\"brexit_hashtags\"], df3[\"label\"])"
   ]
  },
  {
   "cell_type": "code",
   "execution_count": 52,
   "metadata": {},
   "outputs": [
    {
     "data": {
      "text/plain": [
       "(168.41473625391367,\n",
       " 1.6421513686098202e-38,\n",
       " 1,\n",
       " array([[142.79034853, 313.20965147],\n",
       "        [441.20965147, 967.79034853]]))"
      ]
     },
     "execution_count": 52,
     "metadata": {},
     "output_type": "execute_result"
    }
   ],
   "source": [
    "# Chi-square test of independence.\n",
    "x = chi2_contingency(pd.crosstab(df3[\"brexit_hashtags\"],df3[\"label\"]))\n",
    "p = x[1]\n",
    "x"
   ]
  },
  {
   "cell_type": "code",
   "execution_count": 53,
   "metadata": {},
   "outputs": [
    {
     "name": "stdout",
     "output_type": "stream",
     "text": [
      "V = 0.30050425561520616\n"
     ]
    }
   ],
   "source": [
    "# Compute effect size - Cramers V\n",
    "v = cramers_v(pd.crosstab(df3[\"brexit_hashtags\"], df3[\"label\"]))"
   ]
  },
  {
   "cell_type": "code",
   "execution_count": 54,
   "metadata": {},
   "outputs": [
    {
     "data": {
      "text/html": [
       "<div>\n",
       "<style scoped>\n",
       "    .dataframe tbody tr th:only-of-type {\n",
       "        vertical-align: middle;\n",
       "    }\n",
       "\n",
       "    .dataframe tbody tr th {\n",
       "        vertical-align: top;\n",
       "    }\n",
       "\n",
       "    .dataframe thead th {\n",
       "        text-align: right;\n",
       "    }\n",
       "</style>\n",
       "<table border=\"1\" class=\"dataframe\">\n",
       "  <thead>\n",
       "    <tr style=\"text-align: right;\">\n",
       "      <th></th>\n",
       "      <th>Variable 1</th>\n",
       "      <th>Variable 2</th>\n",
       "      <th>P-Value - Chi-square test</th>\n",
       "      <th>Effect size - Cramers V</th>\n",
       "    </tr>\n",
       "  </thead>\n",
       "  <tbody>\n",
       "    <tr>\n",
       "      <th>0</th>\n",
       "      <td>Age</td>\n",
       "      <td>Sentiment</td>\n",
       "      <td>0.000000e+00</td>\n",
       "      <td>0.103599</td>\n",
       "    </tr>\n",
       "    <tr>\n",
       "      <th>1</th>\n",
       "      <td>Gender</td>\n",
       "      <td>Sentiment</td>\n",
       "      <td>6.577958e-05</td>\n",
       "      <td>0.008960</td>\n",
       "    </tr>\n",
       "    <tr>\n",
       "      <th>2</th>\n",
       "      <td>Topic - Covid</td>\n",
       "      <td>Sentiment</td>\n",
       "      <td>1.782769e-04</td>\n",
       "      <td>0.008414</td>\n",
       "    </tr>\n",
       "    <tr>\n",
       "      <th>3</th>\n",
       "      <td>Topic - Brexit</td>\n",
       "      <td>Sentiment</td>\n",
       "      <td>4.262530e-16</td>\n",
       "      <td>0.018253</td>\n",
       "    </tr>\n",
       "    <tr>\n",
       "      <th>4</th>\n",
       "      <td>Topic - ESG</td>\n",
       "      <td>Sentiment</td>\n",
       "      <td>6.291543e-28</td>\n",
       "      <td>0.024593</td>\n",
       "    </tr>\n",
       "    <tr>\n",
       "      <th>5</th>\n",
       "      <td>Age</td>\n",
       "      <td>Emotion</td>\n",
       "      <td>0.000000e+00</td>\n",
       "      <td>0.061155</td>\n",
       "    </tr>\n",
       "    <tr>\n",
       "      <th>6</th>\n",
       "      <td>Gender</td>\n",
       "      <td>Emotion</td>\n",
       "      <td>0.000000e+00</td>\n",
       "      <td>0.107067</td>\n",
       "    </tr>\n",
       "    <tr>\n",
       "      <th>7</th>\n",
       "      <td>Topic - Covid</td>\n",
       "      <td>Emotion</td>\n",
       "      <td>0.000000e+00</td>\n",
       "      <td>0.089140</td>\n",
       "    </tr>\n",
       "    <tr>\n",
       "      <th>8</th>\n",
       "      <td>Topic - Brexit</td>\n",
       "      <td>Emotion</td>\n",
       "      <td>5.343095e-131</td>\n",
       "      <td>0.055965</td>\n",
       "    </tr>\n",
       "    <tr>\n",
       "      <th>9</th>\n",
       "      <td>Topic - ESG</td>\n",
       "      <td>Emotion</td>\n",
       "      <td>0.000000e+00</td>\n",
       "      <td>0.086484</td>\n",
       "    </tr>\n",
       "    <tr>\n",
       "      <th>10</th>\n",
       "      <td>Age_Group &lt;30 &amp; 30-39</td>\n",
       "      <td>Sentiment</td>\n",
       "      <td>1.384832e-204</td>\n",
       "      <td>0.189738</td>\n",
       "    </tr>\n",
       "    <tr>\n",
       "      <th>11</th>\n",
       "      <td>Brexit or ESG</td>\n",
       "      <td>Sentiment</td>\n",
       "      <td>1.642151e-38</td>\n",
       "      <td>0.300504</td>\n",
       "    </tr>\n",
       "  </tbody>\n",
       "</table>\n",
       "</div>"
      ],
      "text/plain": [
       "               Variable 1 Variable 2  P-Value - Chi-square test  \\\n",
       "0                     Age  Sentiment               0.000000e+00   \n",
       "1                  Gender  Sentiment               6.577958e-05   \n",
       "2           Topic - Covid  Sentiment               1.782769e-04   \n",
       "3          Topic - Brexit  Sentiment               4.262530e-16   \n",
       "4             Topic - ESG  Sentiment               6.291543e-28   \n",
       "5                     Age    Emotion               0.000000e+00   \n",
       "6                  Gender    Emotion               0.000000e+00   \n",
       "7           Topic - Covid    Emotion               0.000000e+00   \n",
       "8          Topic - Brexit    Emotion              5.343095e-131   \n",
       "9             Topic - ESG    Emotion               0.000000e+00   \n",
       "10  Age_Group <30 & 30-39  Sentiment              1.384832e-204   \n",
       "11          Brexit or ESG  Sentiment               1.642151e-38   \n",
       "\n",
       "    Effect size - Cramers V  \n",
       "0                  0.103599  \n",
       "1                  0.008960  \n",
       "2                  0.008414  \n",
       "3                  0.018253  \n",
       "4                  0.024593  \n",
       "5                  0.061155  \n",
       "6                  0.107067  \n",
       "7                  0.089140  \n",
       "8                  0.055965  \n",
       "9                  0.086484  \n",
       "10                 0.189738  \n",
       "11                 0.300504  "
      ]
     },
     "execution_count": 54,
     "metadata": {},
     "output_type": "execute_result"
    }
   ],
   "source": [
    "row = [\"Brexit or ESG\", \"Sentiment\",p, v]\n",
    "results.loc[len(results)] = row\n",
    "results"
   ]
  },
  {
   "cell_type": "markdown",
   "metadata": {},
   "source": [
    "Example 3: \"Emotion = Fear\" & Gender"
   ]
  },
  {
   "cell_type": "code",
   "execution_count": 55,
   "metadata": {},
   "outputs": [],
   "source": [
    "df1 = df\n",
    "df1.loc[df1.emotion_label != 'fear', 'emotion_label'] = 'Not fear'\n",
    "df1.loc[df1.emotion_label == 'fear', 'emotion_label'] = 'Fear'"
   ]
  },
  {
   "cell_type": "code",
   "execution_count": 56,
   "metadata": {},
   "outputs": [
    {
     "data": {
      "text/html": [
       "<div>\n",
       "<style scoped>\n",
       "    .dataframe tbody tr th:only-of-type {\n",
       "        vertical-align: middle;\n",
       "    }\n",
       "\n",
       "    .dataframe tbody tr th {\n",
       "        vertical-align: top;\n",
       "    }\n",
       "\n",
       "    .dataframe thead th {\n",
       "        text-align: right;\n",
       "    }\n",
       "</style>\n",
       "<table border=\"1\" class=\"dataframe\">\n",
       "  <thead>\n",
       "    <tr style=\"text-align: right;\">\n",
       "      <th>emotion_label</th>\n",
       "      <th>Fear</th>\n",
       "      <th>Not fear</th>\n",
       "    </tr>\n",
       "    <tr>\n",
       "      <th>Gender</th>\n",
       "      <th></th>\n",
       "      <th></th>\n",
       "    </tr>\n",
       "  </thead>\n",
       "  <tbody>\n",
       "    <tr>\n",
       "      <th>m</th>\n",
       "      <td>39403</td>\n",
       "      <td>86147</td>\n",
       "    </tr>\n",
       "    <tr>\n",
       "      <th>w</th>\n",
       "      <td>28555</td>\n",
       "      <td>44325</td>\n",
       "    </tr>\n",
       "  </tbody>\n",
       "</table>\n",
       "</div>"
      ],
      "text/plain": [
       "emotion_label   Fear  Not fear\n",
       "Gender                        \n",
       "m              39403     86147\n",
       "w              28555     44325"
      ]
     },
     "execution_count": 56,
     "metadata": {},
     "output_type": "execute_result"
    }
   ],
   "source": [
    "# Cross tab\n",
    "pd.crosstab(df1[\"Gender\"], df1[\"emotion_label\"])"
   ]
  },
  {
   "cell_type": "code",
   "execution_count": 57,
   "metadata": {},
   "outputs": [
    {
     "data": {
      "text/plain": [
       "(1244.3916676160832,\n",
       " 1.3737127375249912e-272,\n",
       " 1,\n",
       " array([[42998.17013556, 82551.82986444],\n",
       "        [24959.82986444, 47920.17013556]]))"
      ]
     },
     "execution_count": 57,
     "metadata": {},
     "output_type": "execute_result"
    }
   ],
   "source": [
    "# Chi-square test of independence.\n",
    "x = chi2_contingency(pd.crosstab(df1[\"Gender\"],df1[\"emotion_label\"]))\n",
    "p = x[1]\n",
    "x"
   ]
  },
  {
   "cell_type": "code",
   "execution_count": 58,
   "metadata": {},
   "outputs": [
    {
     "name": "stdout",
     "output_type": "stream",
     "text": [
      "V = 0.07919082748188042\n"
     ]
    }
   ],
   "source": [
    "# Compute effect size - Cramers V\n",
    "v = cramers_v(pd.crosstab(df1[\"Gender\"], df1[\"emotion_label\"]))"
   ]
  },
  {
   "cell_type": "code",
   "execution_count": 59,
   "metadata": {},
   "outputs": [
    {
     "data": {
      "text/html": [
       "<div>\n",
       "<style scoped>\n",
       "    .dataframe tbody tr th:only-of-type {\n",
       "        vertical-align: middle;\n",
       "    }\n",
       "\n",
       "    .dataframe tbody tr th {\n",
       "        vertical-align: top;\n",
       "    }\n",
       "\n",
       "    .dataframe thead th {\n",
       "        text-align: right;\n",
       "    }\n",
       "</style>\n",
       "<table border=\"1\" class=\"dataframe\">\n",
       "  <thead>\n",
       "    <tr style=\"text-align: right;\">\n",
       "      <th></th>\n",
       "      <th>Variable 1</th>\n",
       "      <th>Variable 2</th>\n",
       "      <th>P-Value - Chi-square test</th>\n",
       "      <th>Effect size - Cramers V</th>\n",
       "    </tr>\n",
       "  </thead>\n",
       "  <tbody>\n",
       "    <tr>\n",
       "      <th>0</th>\n",
       "      <td>Age</td>\n",
       "      <td>Sentiment</td>\n",
       "      <td>0.000000e+00</td>\n",
       "      <td>0.103599</td>\n",
       "    </tr>\n",
       "    <tr>\n",
       "      <th>1</th>\n",
       "      <td>Gender</td>\n",
       "      <td>Sentiment</td>\n",
       "      <td>6.577958e-05</td>\n",
       "      <td>0.008960</td>\n",
       "    </tr>\n",
       "    <tr>\n",
       "      <th>2</th>\n",
       "      <td>Topic - Covid</td>\n",
       "      <td>Sentiment</td>\n",
       "      <td>1.782769e-04</td>\n",
       "      <td>0.008414</td>\n",
       "    </tr>\n",
       "    <tr>\n",
       "      <th>3</th>\n",
       "      <td>Topic - Brexit</td>\n",
       "      <td>Sentiment</td>\n",
       "      <td>4.262530e-16</td>\n",
       "      <td>0.018253</td>\n",
       "    </tr>\n",
       "    <tr>\n",
       "      <th>4</th>\n",
       "      <td>Topic - ESG</td>\n",
       "      <td>Sentiment</td>\n",
       "      <td>6.291543e-28</td>\n",
       "      <td>0.024593</td>\n",
       "    </tr>\n",
       "    <tr>\n",
       "      <th>5</th>\n",
       "      <td>Age</td>\n",
       "      <td>Emotion</td>\n",
       "      <td>0.000000e+00</td>\n",
       "      <td>0.061155</td>\n",
       "    </tr>\n",
       "    <tr>\n",
       "      <th>6</th>\n",
       "      <td>Gender</td>\n",
       "      <td>Emotion</td>\n",
       "      <td>0.000000e+00</td>\n",
       "      <td>0.107067</td>\n",
       "    </tr>\n",
       "    <tr>\n",
       "      <th>7</th>\n",
       "      <td>Topic - Covid</td>\n",
       "      <td>Emotion</td>\n",
       "      <td>0.000000e+00</td>\n",
       "      <td>0.089140</td>\n",
       "    </tr>\n",
       "    <tr>\n",
       "      <th>8</th>\n",
       "      <td>Topic - Brexit</td>\n",
       "      <td>Emotion</td>\n",
       "      <td>5.343095e-131</td>\n",
       "      <td>0.055965</td>\n",
       "    </tr>\n",
       "    <tr>\n",
       "      <th>9</th>\n",
       "      <td>Topic - ESG</td>\n",
       "      <td>Emotion</td>\n",
       "      <td>0.000000e+00</td>\n",
       "      <td>0.086484</td>\n",
       "    </tr>\n",
       "    <tr>\n",
       "      <th>10</th>\n",
       "      <td>Age_Group &lt;30 &amp; 30-39</td>\n",
       "      <td>Sentiment</td>\n",
       "      <td>1.384832e-204</td>\n",
       "      <td>0.189738</td>\n",
       "    </tr>\n",
       "    <tr>\n",
       "      <th>11</th>\n",
       "      <td>Brexit or ESG</td>\n",
       "      <td>Sentiment</td>\n",
       "      <td>1.642151e-38</td>\n",
       "      <td>0.300504</td>\n",
       "    </tr>\n",
       "    <tr>\n",
       "      <th>12</th>\n",
       "      <td>Gender</td>\n",
       "      <td>Fear or not fear</td>\n",
       "      <td>1.373713e-272</td>\n",
       "      <td>0.079191</td>\n",
       "    </tr>\n",
       "  </tbody>\n",
       "</table>\n",
       "</div>"
      ],
      "text/plain": [
       "               Variable 1        Variable 2  P-Value - Chi-square test  \\\n",
       "0                     Age         Sentiment               0.000000e+00   \n",
       "1                  Gender         Sentiment               6.577958e-05   \n",
       "2           Topic - Covid         Sentiment               1.782769e-04   \n",
       "3          Topic - Brexit         Sentiment               4.262530e-16   \n",
       "4             Topic - ESG         Sentiment               6.291543e-28   \n",
       "5                     Age           Emotion               0.000000e+00   \n",
       "6                  Gender           Emotion               0.000000e+00   \n",
       "7           Topic - Covid           Emotion               0.000000e+00   \n",
       "8          Topic - Brexit           Emotion              5.343095e-131   \n",
       "9             Topic - ESG           Emotion               0.000000e+00   \n",
       "10  Age_Group <30 & 30-39         Sentiment              1.384832e-204   \n",
       "11          Brexit or ESG         Sentiment               1.642151e-38   \n",
       "12                 Gender  Fear or not fear              1.373713e-272   \n",
       "\n",
       "    Effect size - Cramers V  \n",
       "0                  0.103599  \n",
       "1                  0.008960  \n",
       "2                  0.008414  \n",
       "3                  0.018253  \n",
       "4                  0.024593  \n",
       "5                  0.061155  \n",
       "6                  0.107067  \n",
       "7                  0.089140  \n",
       "8                  0.055965  \n",
       "9                  0.086484  \n",
       "10                 0.189738  \n",
       "11                 0.300504  \n",
       "12                 0.079191  "
      ]
     },
     "execution_count": 59,
     "metadata": {},
     "output_type": "execute_result"
    }
   ],
   "source": [
    "row = [\"Gender\", \"Fear or not fear\",p, v]\n",
    "results.loc[len(results)] = row\n",
    "results"
   ]
  },
  {
   "cell_type": "code",
   "execution_count": 60,
   "metadata": {},
   "outputs": [],
   "source": [
    "results.to_csv(\"Tests.csv\") #see Output_files"
   ]
  }
 ],
 "metadata": {
  "kernelspec": {
   "display_name": "Python 3",
   "language": "python",
   "name": "python3"
  },
  "language_info": {
   "codemirror_mode": {
    "name": "ipython",
    "version": 3
   },
   "file_extension": ".py",
   "mimetype": "text/x-python",
   "name": "python",
   "nbconvert_exporter": "python",
   "pygments_lexer": "ipython3",
   "version": "3.8.3"
  }
 },
 "nbformat": 4,
 "nbformat_minor": 4
}
