{
 "cells": [
  {
   "cell_type": "markdown",
   "metadata": {},
   "source": [
    "**Visualization of Results**\n",
    "\n",
    "BAMP 2022 - MCT 4 - Ante Jelavic, Franziskus Perkhofer, Manuel Mencher, Melissa Ewering, Tim Ritzheimer\n",
    "\n",
    "Short Description: In the previous script \"SentimentAnalysis\" the collected tweets were assigned to three different topics according to used hastags (Corona, Brexit, ESG) and all tweets were analyzed towards sentiment and emotions. Those results were togehter with demographics and the tweet data merged into the file \"FinalResults.csv\". This file contains now all results of this use case / proof of concept. This scipt will be based on this data and visualize it in an appealing way to make the information easy digestable and tangible. "
   ]
  },
  {
   "cell_type": "code",
   "execution_count": 1,
   "metadata": {},
   "outputs": [],
   "source": [
    "# Loading all necessary packages\n",
    "\n",
    "# For displaying the data after\n",
    "import pandas as pd\n",
    "# For saving the response data in CSV format\n",
    "import csv\n",
    "# For plotting data\n",
    "import matplotlib.pyplot as plt#\n",
    "import matplotlib.ticker as mtick\n",
    "import seaborn as sns\n",
    "import numpy as np\n",
    "from math import pi"
   ]
  },
  {
   "cell_type": "code",
   "execution_count": 3,
   "metadata": {},
   "outputs": [
    {
     "name": "stderr",
     "output_type": "stream",
     "text": [
      "/opt/anaconda3/lib/python3.8/site-packages/IPython/core/interactiveshell.py:3071: DtypeWarning: Columns (12,13) have mixed types.Specify dtype option on import or set low_memory=False.\n",
      "  has_raised = await self.run_ast_nodes(code_ast.body, cell_name,\n"
     ]
    }
   ],
   "source": [
    "# Loading data\n",
    "df = pd.read_csv('FinalResults.csv') #See Output_Data - Needs to be saved in \"Scripts\" folder for runtime"
   ]
  },
  {
   "cell_type": "code",
   "execution_count": 4,
   "metadata": {},
   "outputs": [
    {
     "data": {
      "text/html": [
       "<div>\n",
       "<style scoped>\n",
       "    .dataframe tbody tr th:only-of-type {\n",
       "        vertical-align: middle;\n",
       "    }\n",
       "\n",
       "    .dataframe tbody tr th {\n",
       "        vertical-align: top;\n",
       "    }\n",
       "\n",
       "    .dataframe thead th {\n",
       "        text-align: right;\n",
       "    }\n",
       "</style>\n",
       "<table border=\"1\" class=\"dataframe\">\n",
       "  <thead>\n",
       "    <tr style=\"text-align: right;\">\n",
       "      <th></th>\n",
       "      <th>Unique_ID</th>\n",
       "      <th>referenced_tweets</th>\n",
       "      <th>text</th>\n",
       "      <th>author_id</th>\n",
       "      <th>created_at</th>\n",
       "      <th>id</th>\n",
       "      <th>conversation_id</th>\n",
       "      <th>source</th>\n",
       "      <th>reply_settings</th>\n",
       "      <th>lang</th>\n",
       "      <th>...</th>\n",
       "      <th>joy</th>\n",
       "      <th>neutral</th>\n",
       "      <th>sadness</th>\n",
       "      <th>surprise</th>\n",
       "      <th>Name</th>\n",
       "      <th>Profession</th>\n",
       "      <th>Age</th>\n",
       "      <th>Age_Group</th>\n",
       "      <th>Gender</th>\n",
       "      <th>Username</th>\n",
       "    </tr>\n",
       "  </thead>\n",
       "  <tbody>\n",
       "    <tr>\n",
       "      <th>165539</th>\n",
       "      <td>165539</td>\n",
       "      <td>[{'type': 'retweeted', 'id': '1468962779113525...</td>\n",
       "      <td>RT @warrenleightTV: Jobless claims just droppe...</td>\n",
       "      <td>96205284.0</td>\n",
       "      <td>2021-12-09T20:30:21.000Z</td>\n",
       "      <td>1469041749708390424</td>\n",
       "      <td>1469041749708390424</td>\n",
       "      <td>Twitter for iPhone</td>\n",
       "      <td>everyone</td>\n",
       "      <td>en</td>\n",
       "      <td>...</td>\n",
       "      <td>0.023947</td>\n",
       "      <td>0.176517</td>\n",
       "      <td>0.394647</td>\n",
       "      <td>0.326115</td>\n",
       "      <td>Betty Buckley</td>\n",
       "      <td>Actor</td>\n",
       "      <td>74</td>\n",
       "      <td>&gt;70</td>\n",
       "      <td>w</td>\n",
       "      <td>@BettyBuckley</td>\n",
       "    </tr>\n",
       "    <tr>\n",
       "      <th>85000</th>\n",
       "      <td>85000</td>\n",
       "      <td>[{'type': 'replied_to', 'id': '143488594230996...</td>\n",
       "      <td>@Raspberry_Pi I think it was in April 2011 whe...</td>\n",
       "      <td>1294741.0</td>\n",
       "      <td>2021-09-06T17:19:52.000Z</td>\n",
       "      <td>1434929352718884870</td>\n",
       "      <td>1434885942309965826</td>\n",
       "      <td>Twitter for iPhone</td>\n",
       "      <td>everyone</td>\n",
       "      <td>en</td>\n",
       "      <td>...</td>\n",
       "      <td>0.152621</td>\n",
       "      <td>0.150970</td>\n",
       "      <td>0.040737</td>\n",
       "      <td>0.348086</td>\n",
       "      <td>Rory Cellan-Jones</td>\n",
       "      <td>Technology journalist</td>\n",
       "      <td>63</td>\n",
       "      <td>60-69</td>\n",
       "      <td>m</td>\n",
       "      <td>@ruskin147</td>\n",
       "    </tr>\n",
       "    <tr>\n",
       "      <th>43143</th>\n",
       "      <td>43143</td>\n",
       "      <td>[{'type': 'quoted', 'id': '1265294986561630210'}]</td>\n",
       "      <td>Join my global campaign to make our friend Oli...</td>\n",
       "      <td>6705042.0</td>\n",
       "      <td>2020-05-26T21:57:13.000Z</td>\n",
       "      <td>1265401631077740545</td>\n",
       "      <td>1265401631077740545</td>\n",
       "      <td>Twitter Web App</td>\n",
       "      <td>everyone</td>\n",
       "      <td>en</td>\n",
       "      <td>...</td>\n",
       "      <td>0.124729</td>\n",
       "      <td>0.719993</td>\n",
       "      <td>0.037677</td>\n",
       "      <td>0.067965</td>\n",
       "      <td>Ben Goldacre</td>\n",
       "      <td>Scientist/science writer</td>\n",
       "      <td>47</td>\n",
       "      <td>40-49</td>\n",
       "      <td>m</td>\n",
       "      <td>@bengoldacre</td>\n",
       "    </tr>\n",
       "    <tr>\n",
       "      <th>71256</th>\n",
       "      <td>71256</td>\n",
       "      <td>[{'type': 'retweeted', 'id': '1291097166400937...</td>\n",
       "      <td>RT @kaitlancollins: \"You'll never know who the...</td>\n",
       "      <td>44578328.0</td>\n",
       "      <td>2020-08-06T12:42:07.000Z</td>\n",
       "      <td>1291353863497424896</td>\n",
       "      <td>1291353863497424896</td>\n",
       "      <td>Twitter Web App</td>\n",
       "      <td>everyone</td>\n",
       "      <td>en</td>\n",
       "      <td>...</td>\n",
       "      <td>0.013357</td>\n",
       "      <td>0.086224</td>\n",
       "      <td>0.114634</td>\n",
       "      <td>0.050657</td>\n",
       "      <td>Jonathan Freedland</td>\n",
       "      <td>Journalist/author</td>\n",
       "      <td>54</td>\n",
       "      <td>50-59</td>\n",
       "      <td>m</td>\n",
       "      <td>@Freedland</td>\n",
       "    </tr>\n",
       "    <tr>\n",
       "      <th>196085</th>\n",
       "      <td>196085</td>\n",
       "      <td>[{'type': 'retweeted', 'id': '1387148344024354...</td>\n",
       "      <td>RT @RepMcGovern: Environmental justice advocat...</td>\n",
       "      <td>783792992.0</td>\n",
       "      <td>2021-04-28T03:12:04.000Z</td>\n",
       "      <td>1387243190403706889</td>\n",
       "      <td>1387243190403706889</td>\n",
       "      <td>Twitter for iPhone</td>\n",
       "      <td>everyone</td>\n",
       "      <td>en</td>\n",
       "      <td>...</td>\n",
       "      <td>0.002888</td>\n",
       "      <td>0.026150</td>\n",
       "      <td>0.049048</td>\n",
       "      <td>0.027342</td>\n",
       "      <td>Ilhan Omar</td>\n",
       "      <td>Politician</td>\n",
       "      <td>39</td>\n",
       "      <td>30-39</td>\n",
       "      <td>m</td>\n",
       "      <td>@IlhanMN</td>\n",
       "    </tr>\n",
       "    <tr>\n",
       "      <th>80763</th>\n",
       "      <td>80763</td>\n",
       "      <td>[{'type': 'retweeted', 'id': '1471149769288527...</td>\n",
       "      <td>RT @UKHSA: The #COVID19 Dashboard has been upd...</td>\n",
       "      <td>61183568.0</td>\n",
       "      <td>2021-12-15T16:11:34.000Z</td>\n",
       "      <td>1471150952208085008</td>\n",
       "      <td>1471150952208085008</td>\n",
       "      <td>Twitter Web App</td>\n",
       "      <td>everyone</td>\n",
       "      <td>en</td>\n",
       "      <td>...</td>\n",
       "      <td>0.014727</td>\n",
       "      <td>0.116839</td>\n",
       "      <td>0.183893</td>\n",
       "      <td>0.127180</td>\n",
       "      <td>Laura Kuenssberg</td>\n",
       "      <td>Journalist</td>\n",
       "      <td>45</td>\n",
       "      <td>40-49</td>\n",
       "      <td>w</td>\n",
       "      <td>@bbclaurak</td>\n",
       "    </tr>\n",
       "    <tr>\n",
       "      <th>12568</th>\n",
       "      <td>12568</td>\n",
       "      <td>[{'type': 'retweeted', 'id': '1334190862058860...</td>\n",
       "      <td>RT @AttitudeMag: \"People are, generally speaki...</td>\n",
       "      <td>15439395.0</td>\n",
       "      <td>2020-12-02T20:41:24.000Z</td>\n",
       "      <td>1334236244751110145</td>\n",
       "      <td>1334236244751110145</td>\n",
       "      <td>Twitter for iPhone</td>\n",
       "      <td>everyone</td>\n",
       "      <td>en</td>\n",
       "      <td>...</td>\n",
       "      <td>0.453837</td>\n",
       "      <td>0.048859</td>\n",
       "      <td>0.047895</td>\n",
       "      <td>0.027185</td>\n",
       "      <td>Stephen Fry</td>\n",
       "      <td>Actor and comedian</td>\n",
       "      <td>64</td>\n",
       "      <td>60-69</td>\n",
       "      <td>m</td>\n",
       "      <td>@stephenfry</td>\n",
       "    </tr>\n",
       "    <tr>\n",
       "      <th>119108</th>\n",
       "      <td>119108</td>\n",
       "      <td>[{'type': 'replied_to', 'id': '140377965977135...</td>\n",
       "      <td>@AntCoulls @durhamcathedral @LocomotionSHD Tom...</td>\n",
       "      <td>46959037.0</td>\n",
       "      <td>2021-06-12T19:37:33.000Z</td>\n",
       "      <td>1403798646638927877</td>\n",
       "      <td>1403652194688245763</td>\n",
       "      <td>Twitter for Android</td>\n",
       "      <td>everyone</td>\n",
       "      <td>en</td>\n",
       "      <td>...</td>\n",
       "      <td>0.151885</td>\n",
       "      <td>0.066386</td>\n",
       "      <td>0.019027</td>\n",
       "      <td>0.055789</td>\n",
       "      <td>Roger Highfield</td>\n",
       "      <td>Museum executive/journalist</td>\n",
       "      <td>63</td>\n",
       "      <td>60-69</td>\n",
       "      <td>m</td>\n",
       "      <td>@RogerHighfield</td>\n",
       "    </tr>\n",
       "    <tr>\n",
       "      <th>137694</th>\n",
       "      <td>137694</td>\n",
       "      <td>[{'type': 'replied_to', 'id': '143988893324072...</td>\n",
       "      <td>@d_uxbal @grace_hawthorn @CaroleVivienne @Alex...</td>\n",
       "      <td>19530289.0</td>\n",
       "      <td>2021-09-20T09:50:54.000Z</td>\n",
       "      <td>1439889797665984514</td>\n",
       "      <td>1437734948270743559</td>\n",
       "      <td>Twitter Web App</td>\n",
       "      <td>everyone</td>\n",
       "      <td>en</td>\n",
       "      <td>...</td>\n",
       "      <td>0.001033</td>\n",
       "      <td>0.003241</td>\n",
       "      <td>0.011337</td>\n",
       "      <td>0.001873</td>\n",
       "      <td>Laurie Penny</td>\n",
       "      <td>Journalist</td>\n",
       "      <td>35</td>\n",
       "      <td>30-39</td>\n",
       "      <td>w</td>\n",
       "      <td>@PennyRed</td>\n",
       "    </tr>\n",
       "    <tr>\n",
       "      <th>195049</th>\n",
       "      <td>195049</td>\n",
       "      <td>[{'type': 'retweeted', 'id': '1451263232354619...</td>\n",
       "      <td>RT @tparsi: So I have a piece out with new rev...</td>\n",
       "      <td>783792992.0</td>\n",
       "      <td>2021-10-22T16:16:17.000Z</td>\n",
       "      <td>1451583195045142540</td>\n",
       "      <td>1451583195045142540</td>\n",
       "      <td>Twitter for iPhone</td>\n",
       "      <td>everyone</td>\n",
       "      <td>en</td>\n",
       "      <td>...</td>\n",
       "      <td>0.008795</td>\n",
       "      <td>0.196252</td>\n",
       "      <td>0.352481</td>\n",
       "      <td>0.202291</td>\n",
       "      <td>Ilhan Omar</td>\n",
       "      <td>Politician</td>\n",
       "      <td>39</td>\n",
       "      <td>30-39</td>\n",
       "      <td>m</td>\n",
       "      <td>@IlhanMN</td>\n",
       "    </tr>\n",
       "  </tbody>\n",
       "</table>\n",
       "<p>10 rows × 37 columns</p>\n",
       "</div>"
      ],
      "text/plain": [
       "        Unique_ID                                  referenced_tweets  \\\n",
       "165539     165539  [{'type': 'retweeted', 'id': '1468962779113525...   \n",
       "85000       85000  [{'type': 'replied_to', 'id': '143488594230996...   \n",
       "43143       43143  [{'type': 'quoted', 'id': '1265294986561630210'}]   \n",
       "71256       71256  [{'type': 'retweeted', 'id': '1291097166400937...   \n",
       "196085     196085  [{'type': 'retweeted', 'id': '1387148344024354...   \n",
       "80763       80763  [{'type': 'retweeted', 'id': '1471149769288527...   \n",
       "12568       12568  [{'type': 'retweeted', 'id': '1334190862058860...   \n",
       "119108     119108  [{'type': 'replied_to', 'id': '140377965977135...   \n",
       "137694     137694  [{'type': 'replied_to', 'id': '143988893324072...   \n",
       "195049     195049  [{'type': 'retweeted', 'id': '1451263232354619...   \n",
       "\n",
       "                                                     text    author_id  \\\n",
       "165539  RT @warrenleightTV: Jobless claims just droppe...   96205284.0   \n",
       "85000   @Raspberry_Pi I think it was in April 2011 whe...    1294741.0   \n",
       "43143   Join my global campaign to make our friend Oli...    6705042.0   \n",
       "71256   RT @kaitlancollins: \"You'll never know who the...   44578328.0   \n",
       "196085  RT @RepMcGovern: Environmental justice advocat...  783792992.0   \n",
       "80763   RT @UKHSA: The #COVID19 Dashboard has been upd...   61183568.0   \n",
       "12568   RT @AttitudeMag: \"People are, generally speaki...   15439395.0   \n",
       "119108  @AntCoulls @durhamcathedral @LocomotionSHD Tom...   46959037.0   \n",
       "137694  @d_uxbal @grace_hawthorn @CaroleVivienne @Alex...   19530289.0   \n",
       "195049  RT @tparsi: So I have a piece out with new rev...  783792992.0   \n",
       "\n",
       "                      created_at                   id      conversation_id  \\\n",
       "165539  2021-12-09T20:30:21.000Z  1469041749708390424  1469041749708390424   \n",
       "85000   2021-09-06T17:19:52.000Z  1434929352718884870  1434885942309965826   \n",
       "43143   2020-05-26T21:57:13.000Z  1265401631077740545  1265401631077740545   \n",
       "71256   2020-08-06T12:42:07.000Z  1291353863497424896  1291353863497424896   \n",
       "196085  2021-04-28T03:12:04.000Z  1387243190403706889  1387243190403706889   \n",
       "80763   2021-12-15T16:11:34.000Z  1471150952208085008  1471150952208085008   \n",
       "12568   2020-12-02T20:41:24.000Z  1334236244751110145  1334236244751110145   \n",
       "119108  2021-06-12T19:37:33.000Z  1403798646638927877  1403652194688245763   \n",
       "137694  2021-09-20T09:50:54.000Z  1439889797665984514  1437734948270743559   \n",
       "195049  2021-10-22T16:16:17.000Z  1451583195045142540  1451583195045142540   \n",
       "\n",
       "                     source reply_settings lang  ...       joy   neutral  \\\n",
       "165539   Twitter for iPhone       everyone   en  ...  0.023947  0.176517   \n",
       "85000    Twitter for iPhone       everyone   en  ...  0.152621  0.150970   \n",
       "43143       Twitter Web App       everyone   en  ...  0.124729  0.719993   \n",
       "71256       Twitter Web App       everyone   en  ...  0.013357  0.086224   \n",
       "196085   Twitter for iPhone       everyone   en  ...  0.002888  0.026150   \n",
       "80763       Twitter Web App       everyone   en  ...  0.014727  0.116839   \n",
       "12568    Twitter for iPhone       everyone   en  ...  0.453837  0.048859   \n",
       "119108  Twitter for Android       everyone   en  ...  0.151885  0.066386   \n",
       "137694      Twitter Web App       everyone   en  ...  0.001033  0.003241   \n",
       "195049   Twitter for iPhone       everyone   en  ...  0.008795  0.196252   \n",
       "\n",
       "         sadness  surprise                Name                   Profession  \\\n",
       "165539  0.394647  0.326115       Betty Buckley                        Actor   \n",
       "85000   0.040737  0.348086   Rory Cellan-Jones        Technology journalist   \n",
       "43143   0.037677  0.067965        Ben Goldacre     Scientist/science writer   \n",
       "71256   0.114634  0.050657  Jonathan Freedland            Journalist/author   \n",
       "196085  0.049048  0.027342          Ilhan Omar                   Politician   \n",
       "80763   0.183893  0.127180    Laura Kuenssberg                   Journalist   \n",
       "12568   0.047895  0.027185         Stephen Fry           Actor and comedian   \n",
       "119108  0.019027  0.055789     Roger Highfield  Museum executive/journalist   \n",
       "137694  0.011337  0.001873        Laurie Penny                   Journalist   \n",
       "195049  0.352481  0.202291          Ilhan Omar                   Politician   \n",
       "\n",
       "        Age  Age_Group  Gender         Username  \n",
       "165539   74        >70       w    @BettyBuckley  \n",
       "85000    63      60-69       m       @ruskin147  \n",
       "43143    47      40-49       m     @bengoldacre  \n",
       "71256    54      50-59       m       @Freedland  \n",
       "196085   39      30-39       m         @IlhanMN  \n",
       "80763    45      40-49       w       @bbclaurak  \n",
       "12568    64      60-69       m      @stephenfry  \n",
       "119108   63      60-69       m  @RogerHighfield  \n",
       "137694   35      30-39       w        @PennyRed  \n",
       "195049   39      30-39       m         @IlhanMN  \n",
       "\n",
       "[10 rows x 37 columns]"
      ]
     },
     "execution_count": 4,
     "metadata": {},
     "output_type": "execute_result"
    }
   ],
   "source": [
    "# Check data format\n",
    "df.sample(n=10)"
   ]
  },
  {
   "cell_type": "code",
   "execution_count": 4,
   "metadata": {
    "scrolled": true
   },
   "outputs": [
    {
     "data": {
      "text/plain": [
       "Unique_ID                   0\n",
       "referenced_tweets       50997\n",
       "text                        0\n",
       "author_id                   0\n",
       "created_at                  0\n",
       "id                          0\n",
       "conversation_id             0\n",
       "source                      0\n",
       "reply_settings              0\n",
       "lang                        0\n",
       "public_metrics              0\n",
       "in_reply_to_user_id    138323\n",
       "geo                    193232\n",
       "withheld               198424\n",
       "Hashtags                    0\n",
       "covid_hashtags              0\n",
       "brexit_hashtags             0\n",
       "esg_hashtags                0\n",
       "pred_x                      0\n",
       "label                       0\n",
       "score_x                     0\n",
       "pred_y                      0\n",
       "emotion_label               0\n",
       "score_y                     0\n",
       "anger                       0\n",
       "disgust                     0\n",
       "fear                        0\n",
       "joy                         0\n",
       "neutral                     0\n",
       "sadness                     0\n",
       "surprise                    0\n",
       "Name                        0\n",
       "Profession                  0\n",
       "Age                         0\n",
       "Age_Group                   0\n",
       "Gender                      0\n",
       "Username                    0\n",
       "dtype: int64"
      ]
     },
     "execution_count": 4,
     "metadata": {},
     "output_type": "execute_result"
    }
   ],
   "source": [
    "# Check null values\n",
    "df.isnull().sum()"
   ]
  },
  {
   "cell_type": "code",
   "execution_count": 10,
   "metadata": {},
   "outputs": [
    {
     "data": {
      "text/plain": [
       "100"
      ]
     },
     "execution_count": 10,
     "metadata": {},
     "output_type": "execute_result"
    }
   ],
   "source": [
    "df['author_id'].nunique()"
   ]
  },
  {
   "cell_type": "code",
   "execution_count": null,
   "metadata": {},
   "outputs": [],
   "source": []
  },
  {
   "cell_type": "markdown",
   "metadata": {},
   "source": [
    "Variables that contain null values are currently not foreseen to be important for the analysis / visualization - Therefore no further data cleaning needed."
   ]
  },
  {
   "cell_type": "code",
   "execution_count": 5,
   "metadata": {},
   "outputs": [
    {
     "name": "stdout",
     "output_type": "stream",
     "text": [
      "Unique_ID                int64\n",
      "referenced_tweets       object\n",
      "text                    object\n",
      "author_id              float64\n",
      "created_at              object\n",
      "id                       int64\n",
      "conversation_id          int64\n",
      "source                  object\n",
      "reply_settings          object\n",
      "lang                    object\n",
      "public_metrics          object\n",
      "in_reply_to_user_id    float64\n",
      "geo                     object\n",
      "withheld                object\n",
      "Hashtags                object\n",
      "covid_hashtags           int64\n",
      "brexit_hashtags          int64\n",
      "esg_hashtags             int64\n",
      "pred_x                   int64\n",
      "label                   object\n",
      "score_x                float64\n",
      "pred_y                   int64\n",
      "emotion_label           object\n",
      "score_y                float64\n",
      "anger                  float64\n",
      "disgust                float64\n",
      "fear                   float64\n",
      "joy                    float64\n",
      "neutral                float64\n",
      "sadness                float64\n",
      "surprise               float64\n",
      "Name                    object\n",
      "Profession              object\n",
      "Age                      int64\n",
      "Age_Group               object\n",
      "Gender                  object\n",
      "Username                object\n",
      "dtype: object\n"
     ]
    }
   ],
   "source": [
    "print(df.dtypes) # For information"
   ]
  },
  {
   "cell_type": "markdown",
   "metadata": {},
   "source": [
    "**First plot: Stacked bar chart with share of sentiment per age group**"
   ]
  },
  {
   "cell_type": "code",
   "execution_count": 6,
   "metadata": {},
   "outputs": [
    {
     "data": {
      "text/html": [
       "<div>\n",
       "<style scoped>\n",
       "    .dataframe tbody tr th:only-of-type {\n",
       "        vertical-align: middle;\n",
       "    }\n",
       "\n",
       "    .dataframe tbody tr th {\n",
       "        vertical-align: top;\n",
       "    }\n",
       "\n",
       "    .dataframe thead th {\n",
       "        text-align: right;\n",
       "    }\n",
       "</style>\n",
       "<table border=\"1\" class=\"dataframe\">\n",
       "  <thead>\n",
       "    <tr style=\"text-align: right;\">\n",
       "      <th>label</th>\n",
       "      <th>NEGATIVE</th>\n",
       "      <th>POSITIVE</th>\n",
       "    </tr>\n",
       "    <tr>\n",
       "      <th>Age_Group</th>\n",
       "      <th></th>\n",
       "      <th></th>\n",
       "    </tr>\n",
       "  </thead>\n",
       "  <tbody>\n",
       "    <tr>\n",
       "      <th>30-39</th>\n",
       "      <td>7659</td>\n",
       "      <td>9192</td>\n",
       "    </tr>\n",
       "    <tr>\n",
       "      <th>40-49</th>\n",
       "      <td>24051</td>\n",
       "      <td>33789</td>\n",
       "    </tr>\n",
       "    <tr>\n",
       "      <th>50-59</th>\n",
       "      <td>15842</td>\n",
       "      <td>32114</td>\n",
       "    </tr>\n",
       "    <tr>\n",
       "      <th>60-69</th>\n",
       "      <td>16905</td>\n",
       "      <td>26103</td>\n",
       "    </tr>\n",
       "    <tr>\n",
       "      <th>&lt;30</th>\n",
       "      <td>2351</td>\n",
       "      <td>6673</td>\n",
       "    </tr>\n",
       "    <tr>\n",
       "      <th>&gt;70</th>\n",
       "      <td>7632</td>\n",
       "      <td>16119</td>\n",
       "    </tr>\n",
       "  </tbody>\n",
       "</table>\n",
       "</div>"
      ],
      "text/plain": [
       "label      NEGATIVE  POSITIVE\n",
       "Age_Group                    \n",
       "30-39          7659      9192\n",
       "40-49         24051     33789\n",
       "50-59         15842     32114\n",
       "60-69         16905     26103\n",
       "<30            2351      6673\n",
       ">70            7632     16119"
      ]
     },
     "execution_count": 6,
     "metadata": {},
     "output_type": "execute_result"
    }
   ],
   "source": [
    "# crosstab \n",
    "pd.crosstab(df[\"Age_Group\"], df[\"label\"])"
   ]
  },
  {
   "cell_type": "code",
   "execution_count": 7,
   "metadata": {},
   "outputs": [
    {
     "data": {
      "text/html": [
       "<div>\n",
       "<style scoped>\n",
       "    .dataframe tbody tr th:only-of-type {\n",
       "        vertical-align: middle;\n",
       "    }\n",
       "\n",
       "    .dataframe tbody tr th {\n",
       "        vertical-align: top;\n",
       "    }\n",
       "\n",
       "    .dataframe thead th {\n",
       "        text-align: right;\n",
       "    }\n",
       "</style>\n",
       "<table border=\"1\" class=\"dataframe\">\n",
       "  <thead>\n",
       "    <tr style=\"text-align: right;\">\n",
       "      <th>label</th>\n",
       "      <th>NEGATIVE</th>\n",
       "      <th>POSITIVE</th>\n",
       "    </tr>\n",
       "    <tr>\n",
       "      <th>Age_Group</th>\n",
       "      <th></th>\n",
       "      <th></th>\n",
       "    </tr>\n",
       "  </thead>\n",
       "  <tbody>\n",
       "    <tr>\n",
       "      <th>30-39</th>\n",
       "      <td>0.454513</td>\n",
       "      <td>0.545487</td>\n",
       "    </tr>\n",
       "    <tr>\n",
       "      <th>40-49</th>\n",
       "      <td>0.415820</td>\n",
       "      <td>0.584180</td>\n",
       "    </tr>\n",
       "    <tr>\n",
       "      <th>50-59</th>\n",
       "      <td>0.330344</td>\n",
       "      <td>0.669656</td>\n",
       "    </tr>\n",
       "    <tr>\n",
       "      <th>60-69</th>\n",
       "      <td>0.393066</td>\n",
       "      <td>0.606934</td>\n",
       "    </tr>\n",
       "    <tr>\n",
       "      <th>&lt;30</th>\n",
       "      <td>0.260527</td>\n",
       "      <td>0.739473</td>\n",
       "    </tr>\n",
       "    <tr>\n",
       "      <th>&gt;70</th>\n",
       "      <td>0.321334</td>\n",
       "      <td>0.678666</td>\n",
       "    </tr>\n",
       "  </tbody>\n",
       "</table>\n",
       "</div>"
      ],
      "text/plain": [
       "label      NEGATIVE  POSITIVE\n",
       "Age_Group                    \n",
       "30-39      0.454513  0.545487\n",
       "40-49      0.415820  0.584180\n",
       "50-59      0.330344  0.669656\n",
       "60-69      0.393066  0.606934\n",
       "<30        0.260527  0.739473\n",
       ">70        0.321334  0.678666"
      ]
     },
     "execution_count": 7,
     "metadata": {},
     "output_type": "execute_result"
    }
   ],
   "source": [
    "# create crosstab with relative values\n",
    "ct = pd.crosstab(df[\"Age_Group\"], df[\"label\"], normalize='index')\n",
    "ct"
   ]
  },
  {
   "cell_type": "code",
   "execution_count": 8,
   "metadata": {},
   "outputs": [
    {
     "data": {
      "text/html": [
       "<div>\n",
       "<style scoped>\n",
       "    .dataframe tbody tr th:only-of-type {\n",
       "        vertical-align: middle;\n",
       "    }\n",
       "\n",
       "    .dataframe tbody tr th {\n",
       "        vertical-align: top;\n",
       "    }\n",
       "\n",
       "    .dataframe thead th {\n",
       "        text-align: right;\n",
       "    }\n",
       "</style>\n",
       "<table border=\"1\" class=\"dataframe\">\n",
       "  <thead>\n",
       "    <tr style=\"text-align: right;\">\n",
       "      <th></th>\n",
       "      <th>Positive</th>\n",
       "      <th>Negative</th>\n",
       "    </tr>\n",
       "    <tr>\n",
       "      <th>Age_Group</th>\n",
       "      <th></th>\n",
       "      <th></th>\n",
       "    </tr>\n",
       "  </thead>\n",
       "  <tbody>\n",
       "    <tr>\n",
       "      <th>&lt;30</th>\n",
       "      <td>0.739473</td>\n",
       "      <td>0.260527</td>\n",
       "    </tr>\n",
       "    <tr>\n",
       "      <th>30-39</th>\n",
       "      <td>0.545487</td>\n",
       "      <td>0.454513</td>\n",
       "    </tr>\n",
       "    <tr>\n",
       "      <th>40-49</th>\n",
       "      <td>0.584180</td>\n",
       "      <td>0.415820</td>\n",
       "    </tr>\n",
       "    <tr>\n",
       "      <th>50-59</th>\n",
       "      <td>0.669656</td>\n",
       "      <td>0.330344</td>\n",
       "    </tr>\n",
       "    <tr>\n",
       "      <th>60-69</th>\n",
       "      <td>0.606934</td>\n",
       "      <td>0.393066</td>\n",
       "    </tr>\n",
       "    <tr>\n",
       "      <th>&gt;70</th>\n",
       "      <td>0.678666</td>\n",
       "      <td>0.321334</td>\n",
       "    </tr>\n",
       "  </tbody>\n",
       "</table>\n",
       "</div>"
      ],
      "text/plain": [
       "           Positive  Negative\n",
       "Age_Group                    \n",
       "<30        0.739473  0.260527\n",
       "30-39      0.545487  0.454513\n",
       "40-49      0.584180  0.415820\n",
       "50-59      0.669656  0.330344\n",
       "60-69      0.606934  0.393066\n",
       ">70        0.678666  0.321334"
      ]
     },
     "execution_count": 8,
     "metadata": {},
     "output_type": "execute_result"
    }
   ],
   "source": [
    "# Save relative values from crosstab to dataframe\n",
    "df1 = pd.DataFrame()\n",
    "df1[\"Positive\"] = ct[\"POSITIVE\"]\n",
    "df1[\"Negative\"] = ct[\"NEGATIVE\"]\n",
    "df1 = df1.reindex(['<30', '30-39', '40-49', '50-59', '60-69', '>70'])\n",
    "\n",
    "df1"
   ]
  },
  {
   "cell_type": "code",
   "execution_count": 9,
   "metadata": {},
   "outputs": [
    {
     "data": {
      "image/png": "[encoded data removed]",
      "text/plain": [
       "<Figure size 648x360 with 1 Axes>"
      ]
     },
     "metadata": {
      "needs_background": "light"
     },
     "output_type": "display_data"
    },
    {
     "data": {
      "text/plain": [
       "<Figure size 432x288 with 0 Axes>"
      ]
     },
     "metadata": {},
     "output_type": "display_data"
    }
   ],
   "source": [
    "# Plot stacked bar chart \n",
    "\n",
    "fig = plt.figure(1, (9,5))\n",
    "ax = fig.add_subplot(1,1,1)\n",
    "ax.bar(df1.index, [1,1,1,1,1,1], color='r', label='Negative sentiment')\n",
    "ax.bar(df1.index, df1.Positive, color='g', label='Positive sentiment')\n",
    "ax.yaxis.set_major_formatter(mtick.PercentFormatter(1.0))\n",
    "ax.legend(loc=\"lower right\", fontsize=12)\n",
    "ax.set_xlabel('Age Group', fontsize=12)\n",
    "ax.set_ylabel('Share of tweets in %', fontsize=12, fontweight=\"bold\")\n",
    "ax.set_title('Sentiment of tweets per age group', fontsize=14, fontweight=\"bold\", pad=10)\n",
    "ax.tick_params(axis='x', labelsize=12)\n",
    "ax.tick_params(axis='y', labelsize=12)\n",
    "fig.savefig('S_Tweets_Age.png', bbox_inches='tight') # See Visualizations\n",
    "fig = plt.figure()"
   ]
  },
  {
   "cell_type": "markdown",
   "metadata": {},
   "source": [
    "**Second plot: Bar chart with share of sentiment per gender**"
   ]
  },
  {
   "cell_type": "code",
   "execution_count": 10,
   "metadata": {},
   "outputs": [
    {
     "data": {
      "text/html": [
       "<div>\n",
       "<style scoped>\n",
       "    .dataframe tbody tr th:only-of-type {\n",
       "        vertical-align: middle;\n",
       "    }\n",
       "\n",
       "    .dataframe tbody tr th {\n",
       "        vertical-align: top;\n",
       "    }\n",
       "\n",
       "    .dataframe thead th {\n",
       "        text-align: right;\n",
       "    }\n",
       "</style>\n",
       "<table border=\"1\" class=\"dataframe\">\n",
       "  <thead>\n",
       "    <tr style=\"text-align: right;\">\n",
       "      <th>label</th>\n",
       "      <th>NEGATIVE</th>\n",
       "      <th>POSITIVE</th>\n",
       "    </tr>\n",
       "    <tr>\n",
       "      <th>Gender</th>\n",
       "      <th></th>\n",
       "      <th></th>\n",
       "    </tr>\n",
       "  </thead>\n",
       "  <tbody>\n",
       "    <tr>\n",
       "      <th>m</th>\n",
       "      <td>46684</td>\n",
       "      <td>78866</td>\n",
       "    </tr>\n",
       "    <tr>\n",
       "      <th>w</th>\n",
       "      <td>27756</td>\n",
       "      <td>45124</td>\n",
       "    </tr>\n",
       "  </tbody>\n",
       "</table>\n",
       "</div>"
      ],
      "text/plain": [
       "label   NEGATIVE  POSITIVE\n",
       "Gender                    \n",
       "m          46684     78866\n",
       "w          27756     45124"
      ]
     },
     "execution_count": 10,
     "metadata": {},
     "output_type": "execute_result"
    }
   ],
   "source": [
    "# create crosstab \n",
    "pd.crosstab(df[\"Gender\"], df[\"label\"])"
   ]
  },
  {
   "cell_type": "code",
   "execution_count": 11,
   "metadata": {},
   "outputs": [
    {
     "data": {
      "text/html": [
       "<div>\n",
       "<style scoped>\n",
       "    .dataframe tbody tr th:only-of-type {\n",
       "        vertical-align: middle;\n",
       "    }\n",
       "\n",
       "    .dataframe tbody tr th {\n",
       "        vertical-align: top;\n",
       "    }\n",
       "\n",
       "    .dataframe thead th {\n",
       "        text-align: right;\n",
       "    }\n",
       "</style>\n",
       "<table border=\"1\" class=\"dataframe\">\n",
       "  <thead>\n",
       "    <tr style=\"text-align: right;\">\n",
       "      <th>label</th>\n",
       "      <th>NEGATIVE</th>\n",
       "      <th>POSITIVE</th>\n",
       "    </tr>\n",
       "    <tr>\n",
       "      <th>Gender</th>\n",
       "      <th></th>\n",
       "      <th></th>\n",
       "    </tr>\n",
       "  </thead>\n",
       "  <tbody>\n",
       "    <tr>\n",
       "      <th>m</th>\n",
       "      <td>0.371836</td>\n",
       "      <td>0.628164</td>\n",
       "    </tr>\n",
       "    <tr>\n",
       "      <th>w</th>\n",
       "      <td>0.380845</td>\n",
       "      <td>0.619155</td>\n",
       "    </tr>\n",
       "  </tbody>\n",
       "</table>\n",
       "</div>"
      ],
      "text/plain": [
       "label   NEGATIVE  POSITIVE\n",
       "Gender                    \n",
       "m       0.371836  0.628164\n",
       "w       0.380845  0.619155"
      ]
     },
     "execution_count": 11,
     "metadata": {},
     "output_type": "execute_result"
    }
   ],
   "source": [
    "# create crosstab with relative values\n",
    "ct2 = pd.crosstab(df[\"Gender\"], df[\"label\"], normalize='index')\n",
    "ct2"
   ]
  },
  {
   "cell_type": "code",
   "execution_count": 12,
   "metadata": {},
   "outputs": [
    {
     "data": {
      "text/html": [
       "<div>\n",
       "<style scoped>\n",
       "    .dataframe tbody tr th:only-of-type {\n",
       "        vertical-align: middle;\n",
       "    }\n",
       "\n",
       "    .dataframe tbody tr th {\n",
       "        vertical-align: top;\n",
       "    }\n",
       "\n",
       "    .dataframe thead th {\n",
       "        text-align: right;\n",
       "    }\n",
       "</style>\n",
       "<table border=\"1\" class=\"dataframe\">\n",
       "  <thead>\n",
       "    <tr style=\"text-align: right;\">\n",
       "      <th></th>\n",
       "      <th>Positive</th>\n",
       "      <th>Negative</th>\n",
       "    </tr>\n",
       "    <tr>\n",
       "      <th>Gender</th>\n",
       "      <th></th>\n",
       "      <th></th>\n",
       "    </tr>\n",
       "  </thead>\n",
       "  <tbody>\n",
       "    <tr>\n",
       "      <th>m</th>\n",
       "      <td>0.628164</td>\n",
       "      <td>0.371836</td>\n",
       "    </tr>\n",
       "    <tr>\n",
       "      <th>w</th>\n",
       "      <td>0.619155</td>\n",
       "      <td>0.380845</td>\n",
       "    </tr>\n",
       "  </tbody>\n",
       "</table>\n",
       "</div>"
      ],
      "text/plain": [
       "        Positive  Negative\n",
       "Gender                    \n",
       "m       0.628164  0.371836\n",
       "w       0.619155  0.380845"
      ]
     },
     "execution_count": 12,
     "metadata": {},
     "output_type": "execute_result"
    }
   ],
   "source": [
    "# Save relative values from crosstab to dataframe\n",
    "df2 = pd.DataFrame()\n",
    "df2[\"Positive\"] = ct2[\"POSITIVE\"]\n",
    "df2[\"Negative\"] = ct2[\"NEGATIVE\"]\n",
    "\n",
    "df2"
   ]
  },
  {
   "cell_type": "code",
   "execution_count": 13,
   "metadata": {},
   "outputs": [
    {
     "data": {
      "image/png": "[encoded data removed]",
      "text/plain": [
       "<Figure size 216x360 with 1 Axes>"
      ]
     },
     "metadata": {
      "needs_background": "light"
     },
     "output_type": "display_data"
    },
    {
     "data": {
      "text/plain": [
       "<Figure size 432x288 with 0 Axes>"
      ]
     },
     "metadata": {},
     "output_type": "display_data"
    }
   ],
   "source": [
    "# Plot stacked bar chart \n",
    "\n",
    "fig2 = plt.figure(1, (3,5))\n",
    "ax2 = fig2.add_subplot(1,1,1)\n",
    "ax2.bar(df2.index, [1,1], color='r', label='Negative sentiment')\n",
    "ax2.bar(df2.index, df2.Positive, color='g', label='Positive sentiment')\n",
    "ax2.yaxis.set_major_formatter(mtick.PercentFormatter(1.0))\n",
    "ax2.legend(loc=\"lower right\", fontsize=11)\n",
    "ax2.set_xlabel('Gender', fontsize=12)\n",
    "ax2.set_ylabel('Share of tweets in %', fontsize=12, fontweight=\"bold\")\n",
    "ax2.set_title('Sentiment of tweets per gender', fontsize=14, fontweight=\"bold\", pad=10)\n",
    "ax2.tick_params(axis='x', labelsize=12)\n",
    "ax2.tick_params(axis='y', labelsize=12)\n",
    "fig2.savefig(\"S_Tweets_Gender.png\", bbox_inches='tight')# See visualizations\n",
    "fig2 = plt.figure()"
   ]
  },
  {
   "cell_type": "markdown",
   "metadata": {},
   "source": [
    "**Third plot: Stacked bar chart with share of sentiment per topic cluster (All, Corona, Brexit, ESG)**"
   ]
  },
  {
   "cell_type": "code",
   "execution_count": 14,
   "metadata": {},
   "outputs": [
    {
     "data": {
      "text/html": [
       "<div>\n",
       "<style scoped>\n",
       "    .dataframe tbody tr th:only-of-type {\n",
       "        vertical-align: middle;\n",
       "    }\n",
       "\n",
       "    .dataframe tbody tr th {\n",
       "        vertical-align: top;\n",
       "    }\n",
       "\n",
       "    .dataframe thead th {\n",
       "        text-align: right;\n",
       "    }\n",
       "</style>\n",
       "<table border=\"1\" class=\"dataframe\">\n",
       "  <thead>\n",
       "    <tr style=\"text-align: right;\">\n",
       "      <th>label</th>\n",
       "      <th>NEGATIVE</th>\n",
       "      <th>POSITIVE</th>\n",
       "    </tr>\n",
       "    <tr>\n",
       "      <th>covid_hashtags</th>\n",
       "      <th></th>\n",
       "      <th></th>\n",
       "    </tr>\n",
       "  </thead>\n",
       "  <tbody>\n",
       "    <tr>\n",
       "      <th>0</th>\n",
       "      <td>73889</td>\n",
       "      <td>123247</td>\n",
       "    </tr>\n",
       "    <tr>\n",
       "      <th>1</th>\n",
       "      <td>551</td>\n",
       "      <td>743</td>\n",
       "    </tr>\n",
       "  </tbody>\n",
       "</table>\n",
       "</div>"
      ],
      "text/plain": [
       "label           NEGATIVE  POSITIVE\n",
       "covid_hashtags                    \n",
       "0                  73889    123247\n",
       "1                    551       743"
      ]
     },
     "execution_count": 14,
     "metadata": {},
     "output_type": "execute_result"
    }
   ],
   "source": [
    "# create crosstab\n",
    "pd.crosstab(df[\"covid_hashtags\"], df[\"label\"])"
   ]
  },
  {
   "cell_type": "code",
   "execution_count": 15,
   "metadata": {},
   "outputs": [
    {
     "data": {
      "text/html": [
       "<div>\n",
       "<style scoped>\n",
       "    .dataframe tbody tr th:only-of-type {\n",
       "        vertical-align: middle;\n",
       "    }\n",
       "\n",
       "    .dataframe tbody tr th {\n",
       "        vertical-align: top;\n",
       "    }\n",
       "\n",
       "    .dataframe thead th {\n",
       "        text-align: right;\n",
       "    }\n",
       "</style>\n",
       "<table border=\"1\" class=\"dataframe\">\n",
       "  <thead>\n",
       "    <tr style=\"text-align: right;\">\n",
       "      <th>label</th>\n",
       "      <th>NEGATIVE</th>\n",
       "      <th>POSITIVE</th>\n",
       "    </tr>\n",
       "    <tr>\n",
       "      <th>covid_hashtags</th>\n",
       "      <th></th>\n",
       "      <th></th>\n",
       "    </tr>\n",
       "  </thead>\n",
       "  <tbody>\n",
       "    <tr>\n",
       "      <th>0</th>\n",
       "      <td>0.374812</td>\n",
       "      <td>0.625188</td>\n",
       "    </tr>\n",
       "    <tr>\n",
       "      <th>1</th>\n",
       "      <td>0.425811</td>\n",
       "      <td>0.574189</td>\n",
       "    </tr>\n",
       "  </tbody>\n",
       "</table>\n",
       "</div>"
      ],
      "text/plain": [
       "label           NEGATIVE  POSITIVE\n",
       "covid_hashtags                    \n",
       "0               0.374812  0.625188\n",
       "1               0.425811  0.574189"
      ]
     },
     "execution_count": 15,
     "metadata": {},
     "output_type": "execute_result"
    }
   ],
   "source": [
    "# create crosstab with relative values\n",
    "ct2 = pd.crosstab(df[\"covid_hashtags\"], df[\"label\"], normalize='index')\n",
    "ct2"
   ]
  },
  {
   "cell_type": "code",
   "execution_count": 16,
   "metadata": {},
   "outputs": [],
   "source": [
    "df_covid = df.loc[df['covid_hashtags'] == 1]\n",
    "df_esg= df.loc[df['esg_hashtags'] == 1]\n",
    "df_brexit= df.loc[df['brexit_hashtags'] == 1]"
   ]
  },
  {
   "cell_type": "code",
   "execution_count": 17,
   "metadata": {},
   "outputs": [],
   "source": [
    "pos_covid = df_covid['pred_x'].sum()/len(df_covid)\n",
    "pos_esg = df_esg['pred_x'].sum()/len(df_esg)\n",
    "pos_brexit = df_brexit['pred_x'].sum()/len(df_brexit)\n",
    "pos_general = df['pred_x'].sum()/len(df)"
   ]
  },
  {
   "cell_type": "code",
   "execution_count": 18,
   "metadata": {},
   "outputs": [
    {
     "data": {
      "text/plain": [
       "0.5741885625965997"
      ]
     },
     "execution_count": 18,
     "metadata": {},
     "output_type": "execute_result"
    }
   ],
   "source": [
    "pos_covid"
   ]
  },
  {
   "cell_type": "code",
   "execution_count": 19,
   "metadata": {},
   "outputs": [
    {
     "data": {
      "text/plain": [
       "0.7659574468085106"
      ]
     },
     "execution_count": 19,
     "metadata": {},
     "output_type": "execute_result"
    }
   ],
   "source": [
    "pos_esg"
   ]
  },
  {
   "cell_type": "code",
   "execution_count": 20,
   "metadata": {},
   "outputs": [
    {
     "data": {
      "text/plain": [
       "0.43982494529540483"
      ]
     },
     "execution_count": 20,
     "metadata": {},
     "output_type": "execute_result"
    }
   ],
   "source": [
    "pos_brexit"
   ]
  },
  {
   "cell_type": "code",
   "execution_count": 21,
   "metadata": {},
   "outputs": [
    {
     "data": {
      "text/plain": [
       "0.6248551126341783"
      ]
     },
     "execution_count": 21,
     "metadata": {},
     "output_type": "execute_result"
    }
   ],
   "source": [
    "pos_general"
   ]
  },
  {
   "cell_type": "code",
   "execution_count": 22,
   "metadata": {},
   "outputs": [
    {
     "data": {
      "image/png": "[encoded data removed]",
      "text/plain": [
       "<Figure size 432x360 with 1 Axes>"
      ]
     },
     "metadata": {
      "needs_background": "light"
     },
     "output_type": "display_data"
    },
    {
     "data": {
      "text/plain": [
       "<Figure size 432x288 with 0 Axes>"
      ]
     },
     "metadata": {},
     "output_type": "display_data"
    }
   ],
   "source": [
    "# Plot stacked bar chart \n",
    "\n",
    "fig3 = plt.figure(1, (6,5))\n",
    "ax3 = fig3.add_subplot(1,1,1)\n",
    "ax3.bar(['All', 'Covid', 'ESG', 'Brexit'], [1,1,1,1], color='r', label='Negative sentiment')\n",
    "ax3.bar(['All', 'Covid', 'ESG', 'Brexit'], [pos_general, pos_covid,pos_esg, pos_brexit], color='g', label='Positive sentiment')\n",
    "ax3.yaxis.set_major_formatter(mtick.PercentFormatter(1.0))\n",
    "ax3.legend(loc=\"lower right\", fontsize=12)\n",
    "ax3.set_xlabel('Topic cluster', fontsize=12)\n",
    "ax3.set_ylabel('Share of tweets in %', fontsize=12, fontweight=\"bold\")\n",
    "ax3.set_title('Sentiment of tweets per topic cluster', fontsize=14,fontweight=\"bold\", pad= 10)\n",
    "ax3.tick_params(axis='x', labelsize=12)\n",
    "ax3.tick_params(axis='y', labelsize=12)\n",
    "fig3.savefig(\"S_Tweets_Topic.png\", bbox_inches='tight') # See visualizations\n",
    "fig3 = plt.figure()"
   ]
  },
  {
   "cell_type": "markdown",
   "metadata": {},
   "source": [
    "**Fourth plot: Combining all 3 plots in one figure**"
   ]
  },
  {
   "cell_type": "code",
   "execution_count": 23,
   "metadata": {},
   "outputs": [
    {
     "data": {
      "image/png": "[encoded data removed]",
      "text/plain": [
       "<Figure size 1296x360 with 3 Axes>"
      ]
     },
     "metadata": {
      "needs_background": "light"
     },
     "output_type": "display_data"
    },
    {
     "data": {
      "text/plain": [
       "<Figure size 432x288 with 0 Axes>"
      ]
     },
     "metadata": {},
     "output_type": "display_data"
    }
   ],
   "source": [
    "f, (ax, ax2, ax3) = plt.subplots(1, 3, sharey=True, figsize=(18,5), gridspec_kw={'width_ratios': [9, 3, 6]})\n",
    "\n",
    "# Plot stacked bar chart \n",
    "\n",
    "# Left bar chart = age group\n",
    "ax.bar(df1.index, [1,1,1,1,1,1], color='r', label='Negative sentiment')\n",
    "ax.bar(df1.index, df1.Positive, color='g', label='Positive sentiment')\n",
    "ax.yaxis.set_major_formatter(mtick.PercentFormatter(1.0))\n",
    "ax.set_title('Age group', fontsize=12, fontweight=\"bold\")\n",
    "ax.set_ylabel('Share of tweets in %', fontsize=12, fontweight=\"bold\")\n",
    "#ax.set_title('Per age group', fontsize=14)\n",
    "ax.tick_params(axis='x', labelsize=12)\n",
    "ax.tick_params(axis='y', labelsize=12)\n",
    "\n",
    "#Middle bar chart = gender\n",
    "ax2.bar(df2.index, [1,1], color='r')\n",
    "ax2.bar(df2.index, df2.Positive, color='g')\n",
    "ax2.yaxis.set_major_formatter(mtick.PercentFormatter(1.0))\n",
    "ax2.set_title('Gender', fontsize=12, fontweight=\"bold\")\n",
    "#ax2.set_title('Per gender', fontsize=14)\n",
    "ax2.tick_params(axis='x', labelsize=12)\n",
    "ax2.tick_params(axis='y', labelsize=12)\n",
    "\n",
    "#Right bar chart = topic cluster\n",
    "ax3.bar(['All', 'Covid', 'ESG', 'Brexit'], [1,1,1,1], color='r')\n",
    "ax3.bar(['All', 'Covid', 'ESG', 'Brexit'], [pos_general, pos_covid,pos_esg, pos_brexit], color='g')\n",
    "ax3.yaxis.set_major_formatter(mtick.PercentFormatter(1.0))\n",
    "ax3.set_title('Topic cluster', fontsize=12, fontweight=\"bold\")\n",
    "#ax3.set_title('Per topic cluster', fontsize=14)\n",
    "ax3.tick_params(axis='x', labelsize=12)\n",
    "ax3.tick_params(axis='y', labelsize=12)\n",
    "\n",
    "f.suptitle(\"Sentiment of tweets\", fontsize=18, fontweight=\"bold\")\n",
    "f.legend(loc=\"lower center\", ncol = 2, fontsize=11)\n",
    "f.savefig(\"S_Tweets_all.png\", bbox_inches='tight') #See visualizations\n",
    "f = plt.figure()"
   ]
  },
  {
   "cell_type": "markdown",
   "metadata": {},
   "source": [
    "Conclusion:\n",
    "- There are differences in age groups in terms of sentiments - however, no pattern can be dereived by eye\n",
    "- There are no differences in sentimnent between gender\n",
    "- The topic corona is quite similar to the overall sentiment, whereas ESG has a more positve sentiments and Brexit more negative ones\n",
    "\n",
    "Could be interesting to check brexit or ESG per Age group"
   ]
  },
  {
   "cell_type": "markdown",
   "metadata": {},
   "source": [
    "**Fifth plot: Stacked bar chart with share of sentiment per age group and for comparing ESG topic cluster**"
   ]
  },
  {
   "cell_type": "code",
   "execution_count": 24,
   "metadata": {},
   "outputs": [
    {
     "data": {
      "text/html": [
       "<div>\n",
       "<style scoped>\n",
       "    .dataframe tbody tr th:only-of-type {\n",
       "        vertical-align: middle;\n",
       "    }\n",
       "\n",
       "    .dataframe tbody tr th {\n",
       "        vertical-align: top;\n",
       "    }\n",
       "\n",
       "    .dataframe thead th {\n",
       "        text-align: right;\n",
       "    }\n",
       "</style>\n",
       "<table border=\"1\" class=\"dataframe\">\n",
       "  <thead>\n",
       "    <tr style=\"text-align: right;\">\n",
       "      <th>label</th>\n",
       "      <th>NEGATIVE</th>\n",
       "      <th>POSITIVE</th>\n",
       "    </tr>\n",
       "    <tr>\n",
       "      <th>Age_Group</th>\n",
       "      <th></th>\n",
       "      <th></th>\n",
       "    </tr>\n",
       "  </thead>\n",
       "  <tbody>\n",
       "    <tr>\n",
       "      <th>30-39</th>\n",
       "      <td>1</td>\n",
       "      <td>4</td>\n",
       "    </tr>\n",
       "    <tr>\n",
       "      <th>40-49</th>\n",
       "      <td>101</td>\n",
       "      <td>138</td>\n",
       "    </tr>\n",
       "    <tr>\n",
       "      <th>50-59</th>\n",
       "      <td>17</td>\n",
       "      <td>9</td>\n",
       "    </tr>\n",
       "    <tr>\n",
       "      <th>60-69</th>\n",
       "      <td>127</td>\n",
       "      <td>36</td>\n",
       "    </tr>\n",
       "    <tr>\n",
       "      <th>&lt;30</th>\n",
       "      <td>1</td>\n",
       "      <td>0</td>\n",
       "    </tr>\n",
       "    <tr>\n",
       "      <th>&gt;70</th>\n",
       "      <td>9</td>\n",
       "      <td>14</td>\n",
       "    </tr>\n",
       "  </tbody>\n",
       "</table>\n",
       "</div>"
      ],
      "text/plain": [
       "label      NEGATIVE  POSITIVE\n",
       "Age_Group                    \n",
       "30-39             1         4\n",
       "40-49           101       138\n",
       "50-59            17         9\n",
       "60-69           127        36\n",
       "<30               1         0\n",
       ">70               9        14"
      ]
     },
     "execution_count": 24,
     "metadata": {},
     "output_type": "execute_result"
    }
   ],
   "source": [
    "# Check how many values per age group we have for topic cluster brexit\n",
    "pd.crosstab(df_brexit[\"Age_Group\"], df_brexit[\"label\"]) # only 1 tweet in age group <30, therefore not chosen"
   ]
  },
  {
   "cell_type": "code",
   "execution_count": 25,
   "metadata": {},
   "outputs": [
    {
     "data": {
      "text/html": [
       "<div>\n",
       "<style scoped>\n",
       "    .dataframe tbody tr th:only-of-type {\n",
       "        vertical-align: middle;\n",
       "    }\n",
       "\n",
       "    .dataframe tbody tr th {\n",
       "        vertical-align: top;\n",
       "    }\n",
       "\n",
       "    .dataframe thead th {\n",
       "        text-align: right;\n",
       "    }\n",
       "</style>\n",
       "<table border=\"1\" class=\"dataframe\">\n",
       "  <thead>\n",
       "    <tr style=\"text-align: right;\">\n",
       "      <th>label</th>\n",
       "      <th>NEGATIVE</th>\n",
       "      <th>POSITIVE</th>\n",
       "    </tr>\n",
       "    <tr>\n",
       "      <th>Age_Group</th>\n",
       "      <th></th>\n",
       "      <th></th>\n",
       "    </tr>\n",
       "  </thead>\n",
       "  <tbody>\n",
       "    <tr>\n",
       "      <th>30-39</th>\n",
       "      <td>5</td>\n",
       "      <td>14</td>\n",
       "    </tr>\n",
       "    <tr>\n",
       "      <th>40-49</th>\n",
       "      <td>67</td>\n",
       "      <td>302</td>\n",
       "    </tr>\n",
       "    <tr>\n",
       "      <th>50-59</th>\n",
       "      <td>37</td>\n",
       "      <td>88</td>\n",
       "    </tr>\n",
       "    <tr>\n",
       "      <th>60-69</th>\n",
       "      <td>89</td>\n",
       "      <td>161</td>\n",
       "    </tr>\n",
       "    <tr>\n",
       "      <th>&lt;30</th>\n",
       "      <td>128</td>\n",
       "      <td>480</td>\n",
       "    </tr>\n",
       "    <tr>\n",
       "      <th>&gt;70</th>\n",
       "      <td>4</td>\n",
       "      <td>35</td>\n",
       "    </tr>\n",
       "  </tbody>\n",
       "</table>\n",
       "</div>"
      ],
      "text/plain": [
       "label      NEGATIVE  POSITIVE\n",
       "Age_Group                    \n",
       "30-39             5        14\n",
       "40-49            67       302\n",
       "50-59            37        88\n",
       "60-69            89       161\n",
       "<30             128       480\n",
       ">70               4        35"
      ]
     },
     "execution_count": 25,
     "metadata": {},
     "output_type": "execute_result"
    }
   ],
   "source": [
    "# Check how many values per age group we have for topic cluster esg\n",
    "pd.crosstab(df_esg[\"Age_Group\"], df_esg[\"label\"])\n",
    "#Subgroups are small but as this is only an illustrative example ok "
   ]
  },
  {
   "cell_type": "code",
   "execution_count": 26,
   "metadata": {},
   "outputs": [
    {
     "data": {
      "text/html": [
       "<div>\n",
       "<style scoped>\n",
       "    .dataframe tbody tr th:only-of-type {\n",
       "        vertical-align: middle;\n",
       "    }\n",
       "\n",
       "    .dataframe tbody tr th {\n",
       "        vertical-align: top;\n",
       "    }\n",
       "\n",
       "    .dataframe thead th {\n",
       "        text-align: right;\n",
       "    }\n",
       "</style>\n",
       "<table border=\"1\" class=\"dataframe\">\n",
       "  <thead>\n",
       "    <tr style=\"text-align: right;\">\n",
       "      <th></th>\n",
       "      <th>Positive</th>\n",
       "      <th>Negative</th>\n",
       "    </tr>\n",
       "    <tr>\n",
       "      <th>Age_Group</th>\n",
       "      <th></th>\n",
       "      <th></th>\n",
       "    </tr>\n",
       "  </thead>\n",
       "  <tbody>\n",
       "    <tr>\n",
       "      <th>&lt;30</th>\n",
       "      <td>0.789474</td>\n",
       "      <td>0.210526</td>\n",
       "    </tr>\n",
       "    <tr>\n",
       "      <th>30-39</th>\n",
       "      <td>0.736842</td>\n",
       "      <td>0.263158</td>\n",
       "    </tr>\n",
       "    <tr>\n",
       "      <th>40-49</th>\n",
       "      <td>0.818428</td>\n",
       "      <td>0.181572</td>\n",
       "    </tr>\n",
       "    <tr>\n",
       "      <th>50-59</th>\n",
       "      <td>0.704000</td>\n",
       "      <td>0.296000</td>\n",
       "    </tr>\n",
       "    <tr>\n",
       "      <th>60-69</th>\n",
       "      <td>0.644000</td>\n",
       "      <td>0.356000</td>\n",
       "    </tr>\n",
       "    <tr>\n",
       "      <th>&gt;70</th>\n",
       "      <td>0.897436</td>\n",
       "      <td>0.102564</td>\n",
       "    </tr>\n",
       "  </tbody>\n",
       "</table>\n",
       "</div>"
      ],
      "text/plain": [
       "           Positive  Negative\n",
       "Age_Group                    \n",
       "<30        0.789474  0.210526\n",
       "30-39      0.736842  0.263158\n",
       "40-49      0.818428  0.181572\n",
       "50-59      0.704000  0.296000\n",
       "60-69      0.644000  0.356000\n",
       ">70        0.897436  0.102564"
      ]
     },
     "execution_count": 26,
     "metadata": {},
     "output_type": "execute_result"
    }
   ],
   "source": [
    "# Save relative values from crosstab to dataframe\n",
    "ct4 = pd.crosstab(df_esg[\"Age_Group\"], df_esg[\"label\"], normalize='index')\n",
    "\n",
    "df4 = pd.DataFrame()\n",
    "df4[\"Positive\"] = ct4[\"POSITIVE\"]\n",
    "df4[\"Negative\"] = ct4[\"NEGATIVE\"]\n",
    "df4 = df4.reindex(['<30', '30-39', '40-49', '50-59', '60-69', '>70'])\n",
    "df4"
   ]
  },
  {
   "cell_type": "code",
   "execution_count": 27,
   "metadata": {},
   "outputs": [
    {
     "name": "stderr",
     "output_type": "stream",
     "text": [
      "No handles with labels found to put in legend.\n"
     ]
    },
    {
     "data": {
      "image/png": "[encoded data removed]",
      "text/plain": [
       "<Figure size 1296x360 with 2 Axes>"
      ]
     },
     "metadata": {
      "needs_background": "light"
     },
     "output_type": "display_data"
    },
    {
     "data": {
      "text/plain": [
       "<Figure size 432x288 with 0 Axes>"
      ]
     },
     "metadata": {},
     "output_type": "display_data"
    }
   ],
   "source": [
    "f, (ax, ax4) = plt.subplots(1, 2, sharey=True, figsize=(18,5))\n",
    "\n",
    "# Plot stacked bar chart \n",
    "\n",
    "# Left bar chart = age group\n",
    "ax.bar(df1.index, [1,1,1,1,1,1], color='r', label='Negative sentiment')\n",
    "ax.bar(df1.index, df1.Positive, color='g', label='Positive sentiment')\n",
    "ax.yaxis.set_major_formatter(mtick.PercentFormatter(1.0))\n",
    "ax.set_title('All topics', fontsize=12, fontweight=\"bold\", pad=20)\n",
    "ax.set_ylabel('Share of tweets in %', fontsize=12, fontweight=\"bold\")\n",
    "#ax.set_title('Per age group', fontsize=14)\n",
    "ax.tick_params(axis='x', labelsize=12)\n",
    "ax.tick_params(axis='y', labelsize=12)\n",
    "\n",
    "ax4.bar(df4.index, [1,1,1,1,1,1], color='r')\n",
    "ax4.bar(df4.index, df4.Positive, color='g')\n",
    "ax4.yaxis.set_major_formatter(mtick.PercentFormatter(1.0))\n",
    "ax4.legend(loc=\"lower right\", fontsize=12)\n",
    "#ax4.set_xlabel('Age Group', fontsize=12)\n",
    "#ax4.set_ylabel('Share of tweets', fontsize=12)\n",
    "ax4.set_title('ESG topics', fontsize=14, fontweight=\"bold\")\n",
    "ax4.tick_params(axis='x', labelsize=12)\n",
    "ax4.tick_params(axis='y', labelsize=12)\n",
    "\n",
    "f.suptitle(\"Sentiment of tweets per Age group\", fontsize=18, fontweight=\"bold\")\n",
    "f.legend(loc=\"lower center\", ncol = 2, fontsize=11)\n",
    "f = plt.figure()"
   ]
  },
  {
   "cell_type": "markdown",
   "metadata": {},
   "source": [
    "Hard to compare - therefore, further plot with grouped bar char (bars next to each other for both topic groups) to be tested."
   ]
  },
  {
   "cell_type": "code",
   "execution_count": 28,
   "metadata": {},
   "outputs": [
    {
     "data": {
      "image/png": "[encoded data removed]",
      "text/plain": [
       "<Figure size 648x360 with 1 Axes>"
      ]
     },
     "metadata": {
      "needs_background": "light"
     },
     "output_type": "display_data"
    }
   ],
   "source": [
    "# Join bar charts in one plot (grouped bar plot)\n",
    "labels = ['<30', '30-39', '40-49', '50-59', '60-69', '>70']\n",
    "x = np.arange(len(labels))\n",
    "width = 0.4  # the width of the bars\n",
    "\n",
    "fig = plt.figure(1, (9,5))\n",
    "ax = fig.add_subplot(1,1,1)\n",
    "rects1 = ax.bar(x - width/2, df1.Positive, width, label='All')\n",
    "rects2 = ax.bar(x + width/2, df4.Positive, width, label='ESG', color='gold')\n",
    "\n",
    "# Add some text for labels, title and custom x-axis tick labels, etc.\n",
    "ax.set_ylabel('Share of positive sentiment in %', fontsize=12, fontweight=\"bold\")\n",
    "ax.set_xlabel('Age group', fontsize=12)\n",
    "ax.set_title(\"Share of tweets with positive sentiments per topic cluster\", fontsize=14, fontweight=\"bold\", pad=10)\n",
    "\n",
    "ax.set_xticklabels(['','<30', '30-39', '40-49', '50-59', '60-69', '>70'])\n",
    "ax.tick_params(axis='x', labelsize=12)\n",
    "ax.tick_params(axis='y', labelsize=12)\n",
    "ax.legend()\n",
    "ax.legend(loc=\"lower right\", fontsize=12)\n",
    "ax.yaxis.set_major_formatter(mtick.PercentFormatter(1.0))\n",
    "\n",
    "fig.tight_layout()\n",
    "fig.savefig(\"S_Tweets_ESG.png\", bbox_inches='tight')#See visualizations\n",
    "plt.show()"
   ]
  },
  {
   "cell_type": "markdown",
   "metadata": {},
   "source": [
    "**Sixth plot: Comparing emotions per topic cluster**"
   ]
  },
  {
   "cell_type": "code",
   "execution_count": 29,
   "metadata": {},
   "outputs": [
    {
     "data": {
      "text/plain": [
       "fear        67958\n",
       "neutral     39575\n",
       "joy         38983\n",
       "surprise    20680\n",
       "sadness     16594\n",
       "anger       13476\n",
       "disgust      1164\n",
       "Name: emotion_label, dtype: int64"
      ]
     },
     "execution_count": 29,
     "metadata": {},
     "output_type": "execute_result"
    }
   ],
   "source": [
    "df['emotion_label'].value_counts()"
   ]
  },
  {
   "cell_type": "code",
   "execution_count": 30,
   "metadata": {},
   "outputs": [
    {
     "data": {
      "text/plain": [
       "fear        1108\n",
       "sadness       68\n",
       "anger         57\n",
       "joy           51\n",
       "neutral        5\n",
       "surprise       5\n",
       "Name: emotion_label, dtype: int64"
      ]
     },
     "execution_count": 30,
     "metadata": {},
     "output_type": "execute_result"
    }
   ],
   "source": [
    "df_covid['emotion_label'].value_counts()"
   ]
  },
  {
   "cell_type": "code",
   "execution_count": 31,
   "metadata": {},
   "outputs": [
    {
     "data": {
      "text/plain": [
       "fear        407\n",
       "anger        19\n",
       "joy          17\n",
       "sadness      12\n",
       "surprise      2\n",
       "Name: emotion_label, dtype: int64"
      ]
     },
     "execution_count": 31,
     "metadata": {},
     "output_type": "execute_result"
    }
   ],
   "source": [
    "df_brexit['emotion_label'].value_counts()"
   ]
  },
  {
   "cell_type": "code",
   "execution_count": 32,
   "metadata": {},
   "outputs": [
    {
     "data": {
      "text/plain": [
       "fear        1141\n",
       "anger        116\n",
       "joy           92\n",
       "sadness       43\n",
       "neutral        9\n",
       "surprise       9\n",
       "Name: emotion_label, dtype: int64"
      ]
     },
     "execution_count": 32,
     "metadata": {},
     "output_type": "execute_result"
    }
   ],
   "source": [
    "df_esg['emotion_label'].value_counts()"
   ]
  },
  {
   "cell_type": "code",
   "execution_count": 33,
   "metadata": {},
   "outputs": [],
   "source": [
    "all_emotions = df['emotion_label'].value_counts(normalize=True)\n",
    "covid_emotions = df_covid['emotion_label'].value_counts(normalize=True)\n",
    "brexit_emotions = df_brexit['emotion_label'].value_counts(normalize=True)\n",
    "esg_emotions = df_esg['emotion_label'].value_counts(normalize=True)"
   ]
  },
  {
   "cell_type": "code",
   "execution_count": 34,
   "metadata": {},
   "outputs": [
    {
     "data": {
      "text/plain": [
       "fear        0.342478\n",
       "neutral     0.199441\n",
       "joy         0.196457\n",
       "surprise    0.104218\n",
       "sadness     0.083626\n",
       "anger       0.067913\n",
       "disgust     0.005866\n",
       "Name: emotion_label, dtype: float64"
      ]
     },
     "execution_count": 34,
     "metadata": {},
     "output_type": "execute_result"
    }
   ],
   "source": [
    "all_emotions"
   ]
  },
  {
   "cell_type": "code",
   "execution_count": 35,
   "metadata": {},
   "outputs": [
    {
     "data": {
      "text/plain": [
       "fear        0.856260\n",
       "sadness     0.052550\n",
       "anger       0.044049\n",
       "joy         0.039413\n",
       "neutral     0.003864\n",
       "surprise    0.003864\n",
       "Name: emotion_label, dtype: float64"
      ]
     },
     "execution_count": 35,
     "metadata": {},
     "output_type": "execute_result"
    }
   ],
   "source": [
    "covid_emotions"
   ]
  },
  {
   "cell_type": "code",
   "execution_count": 36,
   "metadata": {},
   "outputs": [
    {
     "data": {
      "text/plain": [
       "fear        0.890591\n",
       "anger       0.041575\n",
       "joy         0.037199\n",
       "sadness     0.026258\n",
       "surprise    0.004376\n",
       "Name: emotion_label, dtype: float64"
      ]
     },
     "execution_count": 36,
     "metadata": {},
     "output_type": "execute_result"
    }
   ],
   "source": [
    "brexit_emotions"
   ]
  },
  {
   "cell_type": "code",
   "execution_count": 37,
   "metadata": {},
   "outputs": [
    {
     "data": {
      "text/plain": [
       "fear        0.809220\n",
       "anger       0.082270\n",
       "joy         0.065248\n",
       "sadness     0.030496\n",
       "neutral     0.006383\n",
       "surprise    0.006383\n",
       "Name: emotion_label, dtype: float64"
      ]
     },
     "execution_count": 37,
     "metadata": {},
     "output_type": "execute_result"
    }
   ],
   "source": [
    "esg_emotions"
   ]
  },
  {
   "cell_type": "markdown",
   "metadata": {},
   "source": [
    "Decision: Skip 'Disgust' in visualization as this has overall only 0,5% occurence"
   ]
  },
  {
   "cell_type": "code",
   "execution_count": 38,
   "metadata": {},
   "outputs": [],
   "source": [
    "fear = [all_emotions[0], covid_emotions[0], brexit_emotions[0], esg_emotions[0]]\n",
    "anger = [all_emotions[5], covid_emotions[2], brexit_emotions[1], esg_emotions[1]]\n",
    "joy = [all_emotions[2], covid_emotions[3], brexit_emotions[2], esg_emotions[2]]\n",
    "sadness = [all_emotions[4], covid_emotions[1], brexit_emotions[3], esg_emotions[3]]\n",
    "suprise = [all_emotions[3], covid_emotions[4], brexit_emotions[4], esg_emotions[4]]\n",
    "neutral = [all_emotions[1], covid_emotions[5], 0, esg_emotions[5]]"
   ]
  },
  {
   "cell_type": "code",
   "execution_count": 39,
   "metadata": {},
   "outputs": [
    {
     "data": {
      "image/png": "[encoded data removed]",
      "text/plain": [
       "<Figure size 648x360 with 1 Axes>"
      ]
     },
     "metadata": {
      "needs_background": "light"
     },
     "output_type": "display_data"
    }
   ],
   "source": [
    "# Grouped bar chart for emotions per topic\n",
    "labels = ['All', 'Covid', 'Brexit', 'ESG']\n",
    "x = np.arange(len(labels))\n",
    "width = 0.13  # the width of the bars\n",
    "\n",
    "fig = plt.figure(1, (9,5))\n",
    "ax = fig.add_subplot(1,1,1)\n",
    "rects1 = ax.bar(x - 3*width+width/2, fear, width, label='Fear', color='gold')\n",
    "rects2 = ax.bar(x - 2*width+width/2, anger, width, label='Anger', color='r')\n",
    "rects3 = ax.bar(x - width/2, joy, width, label='Joy', color='g')\n",
    "rects4 = ax.bar(x + width/2, sadness, width, label='Sadness', color='b')\n",
    "rects5 = ax.bar(x + 2*width-width/2, suprise, width, label='Surprise', color='pink')\n",
    "rects6 = ax.bar(x + 3*width-width/2, neutral, width, label='Neutral', color='grey' )               \n",
    "                \n",
    "# Add some text for labels, title and custom x-axis tick labels, etc.\n",
    "ax.set_ylabel('Share of tweets in %', fontsize=12, fontweight=\"bold\")\n",
    "ax.set_xlabel('Topic cluster', fontsize=12)\n",
    "ax.set_title(\"Share of tweets with emotion per topic\", fontsize=14, fontweight=\"bold\", pad=10)\n",
    "\n",
    "ax.set_xticks(range(0,4,1))\n",
    "#ax.tick_params(axis=[0,1,2], labelsize=12)\n",
    "ax.set_xticklabels(['All', 'Covid', 'Brexit', 'ESG'])\n",
    "ax.tick_params(axis='y', labelsize=12)\n",
    "ax.tick_params(axis='x', labelsize=12)\n",
    "ax.legend()\n",
    "ax.legend(loc=\"upper right\", fontsize=12)\n",
    "ax.yaxis.set_major_formatter(mtick.PercentFormatter(1.0))\n",
    "\n",
    "fig.tight_layout()\n",
    "fig.savefig(\"E_Tweets_Topic_1.png\", bbox_inches=\"tight\")#See visualizations\n",
    "\n",
    "plt.show()"
   ]
  },
  {
   "cell_type": "markdown",
   "metadata": {},
   "source": [
    "As Fear is by far the most common emotion across all groups, the other ones are hard to compare - Therefore, another chart without fear will be created."
   ]
  },
  {
   "cell_type": "code",
   "execution_count": 40,
   "metadata": {},
   "outputs": [
    {
     "data": {
      "image/png": "[encoded data removed]",
      "text/plain": [
       "<Figure size 648x360 with 1 Axes>"
      ]
     },
     "metadata": {
      "needs_background": "light"
     },
     "output_type": "display_data"
    }
   ],
   "source": [
    "# Grouped bar chart for emotions per topic w/o fear\n",
    "labels = ['All', 'Covid', 'Brexit', 'ESG']\n",
    "x = np.arange(len(labels))\n",
    "width = 0.13  # the width of the bars\n",
    "\n",
    "fig = plt.figure(1, (9,5))\n",
    "ax = fig.add_subplot(1,1,1)\n",
    "rects2 = ax.bar(x - 2*width, anger, width, label='Anger', color='r')\n",
    "rects3 = ax.bar(x - width, joy, width, label='Joy', color='g')\n",
    "rects4 = ax.bar(x , sadness, width, label='Sadness', color='b')\n",
    "rects5 = ax.bar(x + width, suprise, width, label='Surprise', color='pink')\n",
    "rects6 = ax.bar(x + 2*width, neutral, width, label='Neutral', color='grey' )               \n",
    "                \n",
    "# Add some text for labels, title and custom x-axis tick labels, etc.\n",
    "ax.set_ylabel('Share of tweets in %', fontsize=12, fontweight=\"bold\")\n",
    "ax.set_xlabel('Topic cluser', fontsize=12)\n",
    "ax.set_title(\"Share of tweets with emotion per topic w/o fear\", fontsize=14, fontweight=\"bold\", pad=10)\n",
    "\n",
    "ax.set_xticks(range(0,4,1))\n",
    "#ax.tick_params(axis=[0,1,2], labelsize=12)\n",
    "ax.set_xticklabels(['All', 'Covid', 'Brexit', 'ESG'])\n",
    "ax.tick_params(axis='y', labelsize=12)\n",
    "ax.tick_params(axis='x', labelsize=12)\n",
    "ax.legend()\n",
    "ax.legend(loc=\"upper right\", fontsize=12)\n",
    "ax.yaxis.set_major_formatter(mtick.PercentFormatter(1.0))\n",
    "\n",
    "fig.tight_layout()\n",
    "fig.savefig(\"E_Tweets_Topic_2.png\", bbox_inches=\"tight\")#See visualizations\n",
    "\n",
    "plt.show()"
   ]
  },
  {
   "cell_type": "markdown",
   "metadata": {},
   "source": [
    "**Seventh plot: Emotions compared per age group in bar chart**"
   ]
  },
  {
   "cell_type": "code",
   "execution_count": 41,
   "metadata": {},
   "outputs": [
    {
     "data": {
      "text/html": [
       "<div>\n",
       "<style scoped>\n",
       "    .dataframe tbody tr th:only-of-type {\n",
       "        vertical-align: middle;\n",
       "    }\n",
       "\n",
       "    .dataframe tbody tr th {\n",
       "        vertical-align: top;\n",
       "    }\n",
       "\n",
       "    .dataframe thead th {\n",
       "        text-align: right;\n",
       "    }\n",
       "</style>\n",
       "<table border=\"1\" class=\"dataframe\">\n",
       "  <thead>\n",
       "    <tr style=\"text-align: right;\">\n",
       "      <th>emotion_label</th>\n",
       "      <th>anger</th>\n",
       "      <th>disgust</th>\n",
       "      <th>fear</th>\n",
       "      <th>joy</th>\n",
       "      <th>neutral</th>\n",
       "      <th>sadness</th>\n",
       "      <th>surprise</th>\n",
       "    </tr>\n",
       "    <tr>\n",
       "      <th>Age_Group</th>\n",
       "      <th></th>\n",
       "      <th></th>\n",
       "      <th></th>\n",
       "      <th></th>\n",
       "      <th></th>\n",
       "      <th></th>\n",
       "      <th></th>\n",
       "    </tr>\n",
       "  </thead>\n",
       "  <tbody>\n",
       "    <tr>\n",
       "      <th>30-39</th>\n",
       "      <td>1883</td>\n",
       "      <td>170</td>\n",
       "      <td>6016</td>\n",
       "      <td>2657</td>\n",
       "      <td>2905</td>\n",
       "      <td>1438</td>\n",
       "      <td>1782</td>\n",
       "    </tr>\n",
       "    <tr>\n",
       "      <th>40-49</th>\n",
       "      <td>3702</td>\n",
       "      <td>285</td>\n",
       "      <td>17864</td>\n",
       "      <td>10303</td>\n",
       "      <td>13222</td>\n",
       "      <td>4909</td>\n",
       "      <td>7555</td>\n",
       "    </tr>\n",
       "    <tr>\n",
       "      <th>50-59</th>\n",
       "      <td>2490</td>\n",
       "      <td>291</td>\n",
       "      <td>15783</td>\n",
       "      <td>11714</td>\n",
       "      <td>8984</td>\n",
       "      <td>3884</td>\n",
       "      <td>4810</td>\n",
       "    </tr>\n",
       "    <tr>\n",
       "      <th>60-69</th>\n",
       "      <td>3213</td>\n",
       "      <td>267</td>\n",
       "      <td>15359</td>\n",
       "      <td>7260</td>\n",
       "      <td>9183</td>\n",
       "      <td>3921</td>\n",
       "      <td>3805</td>\n",
       "    </tr>\n",
       "    <tr>\n",
       "      <th>&lt;30</th>\n",
       "      <td>662</td>\n",
       "      <td>30</td>\n",
       "      <td>3836</td>\n",
       "      <td>1834</td>\n",
       "      <td>1314</td>\n",
       "      <td>698</td>\n",
       "      <td>650</td>\n",
       "    </tr>\n",
       "    <tr>\n",
       "      <th>&gt;70</th>\n",
       "      <td>1526</td>\n",
       "      <td>121</td>\n",
       "      <td>9100</td>\n",
       "      <td>5215</td>\n",
       "      <td>3967</td>\n",
       "      <td>1744</td>\n",
       "      <td>2078</td>\n",
       "    </tr>\n",
       "  </tbody>\n",
       "</table>\n",
       "</div>"
      ],
      "text/plain": [
       "emotion_label  anger  disgust   fear    joy  neutral  sadness  surprise\n",
       "Age_Group                                                              \n",
       "30-39           1883      170   6016   2657     2905     1438      1782\n",
       "40-49           3702      285  17864  10303    13222     4909      7555\n",
       "50-59           2490      291  15783  11714     8984     3884      4810\n",
       "60-69           3213      267  15359   7260     9183     3921      3805\n",
       "<30              662       30   3836   1834     1314      698       650\n",
       ">70             1526      121   9100   5215     3967     1744      2078"
      ]
     },
     "execution_count": 41,
     "metadata": {},
     "output_type": "execute_result"
    }
   ],
   "source": [
    "pd.crosstab(df[\"Age_Group\"], df[\"emotion_label\"])"
   ]
  },
  {
   "cell_type": "code",
   "execution_count": 42,
   "metadata": {},
   "outputs": [
    {
     "data": {
      "text/html": [
       "<div>\n",
       "<style scoped>\n",
       "    .dataframe tbody tr th:only-of-type {\n",
       "        vertical-align: middle;\n",
       "    }\n",
       "\n",
       "    .dataframe tbody tr th {\n",
       "        vertical-align: top;\n",
       "    }\n",
       "\n",
       "    .dataframe thead th {\n",
       "        text-align: right;\n",
       "    }\n",
       "</style>\n",
       "<table border=\"1\" class=\"dataframe\">\n",
       "  <thead>\n",
       "    <tr style=\"text-align: right;\">\n",
       "      <th>emotion_label</th>\n",
       "      <th>anger</th>\n",
       "      <th>disgust</th>\n",
       "      <th>fear</th>\n",
       "      <th>joy</th>\n",
       "      <th>neutral</th>\n",
       "      <th>sadness</th>\n",
       "      <th>surprise</th>\n",
       "    </tr>\n",
       "    <tr>\n",
       "      <th>Age_Group</th>\n",
       "      <th></th>\n",
       "      <th></th>\n",
       "      <th></th>\n",
       "      <th></th>\n",
       "      <th></th>\n",
       "      <th></th>\n",
       "      <th></th>\n",
       "    </tr>\n",
       "  </thead>\n",
       "  <tbody>\n",
       "    <tr>\n",
       "      <th>30-39</th>\n",
       "      <td>0.111744</td>\n",
       "      <td>0.010088</td>\n",
       "      <td>0.357011</td>\n",
       "      <td>0.157676</td>\n",
       "      <td>0.172393</td>\n",
       "      <td>0.085336</td>\n",
       "      <td>0.105750</td>\n",
       "    </tr>\n",
       "    <tr>\n",
       "      <th>40-49</th>\n",
       "      <td>0.064004</td>\n",
       "      <td>0.004927</td>\n",
       "      <td>0.308852</td>\n",
       "      <td>0.178129</td>\n",
       "      <td>0.228596</td>\n",
       "      <td>0.084872</td>\n",
       "      <td>0.130619</td>\n",
       "    </tr>\n",
       "    <tr>\n",
       "      <th>50-59</th>\n",
       "      <td>0.051923</td>\n",
       "      <td>0.006068</td>\n",
       "      <td>0.329114</td>\n",
       "      <td>0.244266</td>\n",
       "      <td>0.187338</td>\n",
       "      <td>0.080991</td>\n",
       "      <td>0.100300</td>\n",
       "    </tr>\n",
       "    <tr>\n",
       "      <th>60-69</th>\n",
       "      <td>0.074707</td>\n",
       "      <td>0.006208</td>\n",
       "      <td>0.357120</td>\n",
       "      <td>0.168806</td>\n",
       "      <td>0.213518</td>\n",
       "      <td>0.091169</td>\n",
       "      <td>0.088472</td>\n",
       "    </tr>\n",
       "    <tr>\n",
       "      <th>&lt;30</th>\n",
       "      <td>0.073360</td>\n",
       "      <td>0.003324</td>\n",
       "      <td>0.425089</td>\n",
       "      <td>0.203236</td>\n",
       "      <td>0.145612</td>\n",
       "      <td>0.077349</td>\n",
       "      <td>0.072030</td>\n",
       "    </tr>\n",
       "    <tr>\n",
       "      <th>&gt;70</th>\n",
       "      <td>0.064250</td>\n",
       "      <td>0.005095</td>\n",
       "      <td>0.383142</td>\n",
       "      <td>0.219570</td>\n",
       "      <td>0.167025</td>\n",
       "      <td>0.073428</td>\n",
       "      <td>0.087491</td>\n",
       "    </tr>\n",
       "  </tbody>\n",
       "</table>\n",
       "</div>"
      ],
      "text/plain": [
       "emotion_label     anger   disgust      fear       joy   neutral   sadness  \\\n",
       "Age_Group                                                                   \n",
       "30-39          0.111744  0.010088  0.357011  0.157676  0.172393  0.085336   \n",
       "40-49          0.064004  0.004927  0.308852  0.178129  0.228596  0.084872   \n",
       "50-59          0.051923  0.006068  0.329114  0.244266  0.187338  0.080991   \n",
       "60-69          0.074707  0.006208  0.357120  0.168806  0.213518  0.091169   \n",
       "<30            0.073360  0.003324  0.425089  0.203236  0.145612  0.077349   \n",
       ">70            0.064250  0.005095  0.383142  0.219570  0.167025  0.073428   \n",
       "\n",
       "emotion_label  surprise  \n",
       "Age_Group                \n",
       "30-39          0.105750  \n",
       "40-49          0.130619  \n",
       "50-59          0.100300  \n",
       "60-69          0.088472  \n",
       "<30            0.072030  \n",
       ">70            0.087491  "
      ]
     },
     "execution_count": 42,
     "metadata": {},
     "output_type": "execute_result"
    }
   ],
   "source": [
    "pd.crosstab(df[\"Age_Group\"], df[\"emotion_label\"], normalize='index')"
   ]
  },
  {
   "cell_type": "code",
   "execution_count": 43,
   "metadata": {},
   "outputs": [
    {
     "data": {
      "text/html": [
       "<div>\n",
       "<style scoped>\n",
       "    .dataframe tbody tr th:only-of-type {\n",
       "        vertical-align: middle;\n",
       "    }\n",
       "\n",
       "    .dataframe tbody tr th {\n",
       "        vertical-align: top;\n",
       "    }\n",
       "\n",
       "    .dataframe thead th {\n",
       "        text-align: right;\n",
       "    }\n",
       "</style>\n",
       "<table border=\"1\" class=\"dataframe\">\n",
       "  <thead>\n",
       "    <tr style=\"text-align: right;\">\n",
       "      <th></th>\n",
       "      <th>anger</th>\n",
       "      <th>fear</th>\n",
       "      <th>joy</th>\n",
       "      <th>neutral</th>\n",
       "      <th>sadness</th>\n",
       "      <th>surprise</th>\n",
       "    </tr>\n",
       "    <tr>\n",
       "      <th>Age_Group</th>\n",
       "      <th></th>\n",
       "      <th></th>\n",
       "      <th></th>\n",
       "      <th></th>\n",
       "      <th></th>\n",
       "      <th></th>\n",
       "    </tr>\n",
       "  </thead>\n",
       "  <tbody>\n",
       "    <tr>\n",
       "      <th>&lt;30</th>\n",
       "      <td>0.073360</td>\n",
       "      <td>0.425089</td>\n",
       "      <td>0.203236</td>\n",
       "      <td>0.145612</td>\n",
       "      <td>0.077349</td>\n",
       "      <td>0.072030</td>\n",
       "    </tr>\n",
       "    <tr>\n",
       "      <th>30-39</th>\n",
       "      <td>0.111744</td>\n",
       "      <td>0.357011</td>\n",
       "      <td>0.157676</td>\n",
       "      <td>0.172393</td>\n",
       "      <td>0.085336</td>\n",
       "      <td>0.105750</td>\n",
       "    </tr>\n",
       "    <tr>\n",
       "      <th>40-49</th>\n",
       "      <td>0.064004</td>\n",
       "      <td>0.308852</td>\n",
       "      <td>0.178129</td>\n",
       "      <td>0.228596</td>\n",
       "      <td>0.084872</td>\n",
       "      <td>0.130619</td>\n",
       "    </tr>\n",
       "    <tr>\n",
       "      <th>50-59</th>\n",
       "      <td>0.051923</td>\n",
       "      <td>0.329114</td>\n",
       "      <td>0.244266</td>\n",
       "      <td>0.187338</td>\n",
       "      <td>0.080991</td>\n",
       "      <td>0.100300</td>\n",
       "    </tr>\n",
       "    <tr>\n",
       "      <th>60-69</th>\n",
       "      <td>0.074707</td>\n",
       "      <td>0.357120</td>\n",
       "      <td>0.168806</td>\n",
       "      <td>0.213518</td>\n",
       "      <td>0.091169</td>\n",
       "      <td>0.088472</td>\n",
       "    </tr>\n",
       "    <tr>\n",
       "      <th>&gt;70</th>\n",
       "      <td>0.064250</td>\n",
       "      <td>0.383142</td>\n",
       "      <td>0.219570</td>\n",
       "      <td>0.167025</td>\n",
       "      <td>0.073428</td>\n",
       "      <td>0.087491</td>\n",
       "    </tr>\n",
       "  </tbody>\n",
       "</table>\n",
       "</div>"
      ],
      "text/plain": [
       "              anger      fear       joy   neutral   sadness  surprise\n",
       "Age_Group                                                            \n",
       "<30        0.073360  0.425089  0.203236  0.145612  0.077349  0.072030\n",
       "30-39      0.111744  0.357011  0.157676  0.172393  0.085336  0.105750\n",
       "40-49      0.064004  0.308852  0.178129  0.228596  0.084872  0.130619\n",
       "50-59      0.051923  0.329114  0.244266  0.187338  0.080991  0.100300\n",
       "60-69      0.074707  0.357120  0.168806  0.213518  0.091169  0.088472\n",
       ">70        0.064250  0.383142  0.219570  0.167025  0.073428  0.087491"
      ]
     },
     "execution_count": 43,
     "metadata": {},
     "output_type": "execute_result"
    }
   ],
   "source": [
    "ct = pd.crosstab(df[\"Age_Group\"], df[\"emotion_label\"], normalize='index')\n",
    "\n",
    "df5 = pd.DataFrame()\n",
    "df5[\"anger\"] = ct[\"anger\"]\n",
    "df5[\"fear\"] = ct[\"fear\"]\n",
    "df5[\"joy\"] = ct[\"joy\"]\n",
    "df5[\"neutral\"] = ct[\"neutral\"]\n",
    "df5[\"sadness\"] = ct[\"sadness\"]\n",
    "df5[\"surprise\"] = ct[\"surprise\"]\n",
    "df5 = df5.reindex(['<30', '30-39', '40-49', '50-59', '60-69', '>70'])\n",
    "df5"
   ]
  },
  {
   "cell_type": "code",
   "execution_count": 44,
   "metadata": {},
   "outputs": [
    {
     "data": {
      "image/png": "[encoded data removed]",
      "text/plain": [
       "<Figure size 648x360 with 1 Axes>"
      ]
     },
     "metadata": {
      "needs_background": "light"
     },
     "output_type": "display_data"
    }
   ],
   "source": [
    "# Grouped bar chart for emotions per age group\n",
    "labels = ['<30', '30-39', '40-49', '50-59', '60-69', '>70']\n",
    "x = np.arange(len(labels))\n",
    "width = 0.13  # the width of the bars\n",
    "\n",
    "fig = plt.figure(1, (9,5))\n",
    "ax = fig.add_subplot(1,1,1)\n",
    "rects1 = ax.bar(x - 3*width+width/2, df5.fear, width, label='Fear', color='gold')\n",
    "rects2 = ax.bar(x - 2*width+width/2, df5.anger, width, label='Anger', color='r')\n",
    "rects3 = ax.bar(x - width/2, df5.joy, width, label='Joy', color='g')\n",
    "rects4 = ax.bar(x + width/2, df5.sadness, width, label='Sadness', color='b')\n",
    "rects5 = ax.bar(x + 2*width-width/2, df5.surprise, width, label='Surprise', color='pink')\n",
    "rects6 = ax.bar(x + 3*width-width/2, df5.neutral, width, label='Neutral', color='grey' )               \n",
    "                \n",
    "# Add some text for labels, title and custom x-axis tick labels, etc.\n",
    "ax.set_ylabel('Share of tweets in %', fontsize=12, fontweight=\"bold\")\n",
    "ax.set_xlabel('Age group', fontsize=12)\n",
    "ax.set_title(\"Share of tweets with emotion per age group\", fontsize=14, fontweight=\"bold\", pad=10)\n",
    "\n",
    "ax.set_xticks(range(0,7,1))\n",
    "#ax.tick_params(axis=[0,1,2], labelsize=12)\n",
    "ax.set_xticklabels(['<30', '30-39', '40-49', '50-59', '60-69', '>70'])\n",
    "ax.tick_params(axis='y', labelsize=12)\n",
    "ax.tick_params(axis='x', labelsize=12)\n",
    "ax.legend()\n",
    "ax.legend(loc=\"upper right\", fontsize=12)\n",
    "ax.yaxis.set_major_formatter(mtick.PercentFormatter(1.0))\n",
    "\n",
    "fig.tight_layout()\n",
    "fig.savefig(\"E_Tweets_Age.png\", bbox_inches='tight')#See visualizations\n",
    "\n",
    "plt.show()"
   ]
  },
  {
   "cell_type": "markdown",
   "metadata": {},
   "source": [
    "**Eighth plot: Emotions per Gender in Bar chart and spider chart**"
   ]
  },
  {
   "cell_type": "code",
   "execution_count": 45,
   "metadata": {},
   "outputs": [
    {
     "data": {
      "text/html": [
       "<div>\n",
       "<style scoped>\n",
       "    .dataframe tbody tr th:only-of-type {\n",
       "        vertical-align: middle;\n",
       "    }\n",
       "\n",
       "    .dataframe tbody tr th {\n",
       "        vertical-align: top;\n",
       "    }\n",
       "\n",
       "    .dataframe thead th {\n",
       "        text-align: right;\n",
       "    }\n",
       "</style>\n",
       "<table border=\"1\" class=\"dataframe\">\n",
       "  <thead>\n",
       "    <tr style=\"text-align: right;\">\n",
       "      <th>emotion_label</th>\n",
       "      <th>anger</th>\n",
       "      <th>disgust</th>\n",
       "      <th>fear</th>\n",
       "      <th>joy</th>\n",
       "      <th>neutral</th>\n",
       "      <th>sadness</th>\n",
       "      <th>surprise</th>\n",
       "    </tr>\n",
       "    <tr>\n",
       "      <th>Gender</th>\n",
       "      <th></th>\n",
       "      <th></th>\n",
       "      <th></th>\n",
       "      <th></th>\n",
       "      <th></th>\n",
       "      <th></th>\n",
       "      <th></th>\n",
       "    </tr>\n",
       "  </thead>\n",
       "  <tbody>\n",
       "    <tr>\n",
       "      <th>m</th>\n",
       "      <td>8051</td>\n",
       "      <td>865</td>\n",
       "      <td>39403</td>\n",
       "      <td>25290</td>\n",
       "      <td>27817</td>\n",
       "      <td>9806</td>\n",
       "      <td>14318</td>\n",
       "    </tr>\n",
       "    <tr>\n",
       "      <th>w</th>\n",
       "      <td>5425</td>\n",
       "      <td>299</td>\n",
       "      <td>28555</td>\n",
       "      <td>13693</td>\n",
       "      <td>11758</td>\n",
       "      <td>6788</td>\n",
       "      <td>6362</td>\n",
       "    </tr>\n",
       "  </tbody>\n",
       "</table>\n",
       "</div>"
      ],
      "text/plain": [
       "emotion_label  anger  disgust   fear    joy  neutral  sadness  surprise\n",
       "Gender                                                                 \n",
       "m               8051      865  39403  25290    27817     9806     14318\n",
       "w               5425      299  28555  13693    11758     6788      6362"
      ]
     },
     "execution_count": 45,
     "metadata": {},
     "output_type": "execute_result"
    }
   ],
   "source": [
    "pd.crosstab(df[\"Gender\"], df[\"emotion_label\"])"
   ]
  },
  {
   "cell_type": "code",
   "execution_count": 46,
   "metadata": {},
   "outputs": [
    {
     "data": {
      "text/html": [
       "<div>\n",
       "<style scoped>\n",
       "    .dataframe tbody tr th:only-of-type {\n",
       "        vertical-align: middle;\n",
       "    }\n",
       "\n",
       "    .dataframe tbody tr th {\n",
       "        vertical-align: top;\n",
       "    }\n",
       "\n",
       "    .dataframe thead th {\n",
       "        text-align: right;\n",
       "    }\n",
       "</style>\n",
       "<table border=\"1\" class=\"dataframe\">\n",
       "  <thead>\n",
       "    <tr style=\"text-align: right;\">\n",
       "      <th>emotion_label</th>\n",
       "      <th>anger</th>\n",
       "      <th>disgust</th>\n",
       "      <th>fear</th>\n",
       "      <th>joy</th>\n",
       "      <th>neutral</th>\n",
       "      <th>sadness</th>\n",
       "      <th>surprise</th>\n",
       "    </tr>\n",
       "    <tr>\n",
       "      <th>Gender</th>\n",
       "      <th></th>\n",
       "      <th></th>\n",
       "      <th></th>\n",
       "      <th></th>\n",
       "      <th></th>\n",
       "      <th></th>\n",
       "      <th></th>\n",
       "    </tr>\n",
       "  </thead>\n",
       "  <tbody>\n",
       "    <tr>\n",
       "      <th>m</th>\n",
       "      <td>0.064126</td>\n",
       "      <td>0.006890</td>\n",
       "      <td>0.313843</td>\n",
       "      <td>0.201434</td>\n",
       "      <td>0.221561</td>\n",
       "      <td>0.078104</td>\n",
       "      <td>0.114042</td>\n",
       "    </tr>\n",
       "    <tr>\n",
       "      <th>w</th>\n",
       "      <td>0.074437</td>\n",
       "      <td>0.004103</td>\n",
       "      <td>0.391808</td>\n",
       "      <td>0.187884</td>\n",
       "      <td>0.161334</td>\n",
       "      <td>0.093139</td>\n",
       "      <td>0.087294</td>\n",
       "    </tr>\n",
       "  </tbody>\n",
       "</table>\n",
       "</div>"
      ],
      "text/plain": [
       "emotion_label     anger   disgust      fear       joy   neutral   sadness  \\\n",
       "Gender                                                                      \n",
       "m              0.064126  0.006890  0.313843  0.201434  0.221561  0.078104   \n",
       "w              0.074437  0.004103  0.391808  0.187884  0.161334  0.093139   \n",
       "\n",
       "emotion_label  surprise  \n",
       "Gender                   \n",
       "m              0.114042  \n",
       "w              0.087294  "
      ]
     },
     "execution_count": 46,
     "metadata": {},
     "output_type": "execute_result"
    }
   ],
   "source": [
    "pd.crosstab(df[\"Gender\"], df[\"emotion_label\"], normalize='index')"
   ]
  },
  {
   "cell_type": "code",
   "execution_count": 47,
   "metadata": {},
   "outputs": [
    {
     "data": {
      "text/html": [
       "<div>\n",
       "<style scoped>\n",
       "    .dataframe tbody tr th:only-of-type {\n",
       "        vertical-align: middle;\n",
       "    }\n",
       "\n",
       "    .dataframe tbody tr th {\n",
       "        vertical-align: top;\n",
       "    }\n",
       "\n",
       "    .dataframe thead th {\n",
       "        text-align: right;\n",
       "    }\n",
       "</style>\n",
       "<table border=\"1\" class=\"dataframe\">\n",
       "  <thead>\n",
       "    <tr style=\"text-align: right;\">\n",
       "      <th></th>\n",
       "      <th>anger</th>\n",
       "      <th>fear</th>\n",
       "      <th>joy</th>\n",
       "      <th>neutral</th>\n",
       "      <th>sadness</th>\n",
       "      <th>surprise</th>\n",
       "    </tr>\n",
       "    <tr>\n",
       "      <th>Gender</th>\n",
       "      <th></th>\n",
       "      <th></th>\n",
       "      <th></th>\n",
       "      <th></th>\n",
       "      <th></th>\n",
       "      <th></th>\n",
       "    </tr>\n",
       "  </thead>\n",
       "  <tbody>\n",
       "    <tr>\n",
       "      <th>m</th>\n",
       "      <td>0.064126</td>\n",
       "      <td>0.313843</td>\n",
       "      <td>0.201434</td>\n",
       "      <td>0.221561</td>\n",
       "      <td>0.078104</td>\n",
       "      <td>0.114042</td>\n",
       "    </tr>\n",
       "    <tr>\n",
       "      <th>w</th>\n",
       "      <td>0.074437</td>\n",
       "      <td>0.391808</td>\n",
       "      <td>0.187884</td>\n",
       "      <td>0.161334</td>\n",
       "      <td>0.093139</td>\n",
       "      <td>0.087294</td>\n",
       "    </tr>\n",
       "  </tbody>\n",
       "</table>\n",
       "</div>"
      ],
      "text/plain": [
       "           anger      fear       joy   neutral   sadness  surprise\n",
       "Gender                                                            \n",
       "m       0.064126  0.313843  0.201434  0.221561  0.078104  0.114042\n",
       "w       0.074437  0.391808  0.187884  0.161334  0.093139  0.087294"
      ]
     },
     "execution_count": 47,
     "metadata": {},
     "output_type": "execute_result"
    }
   ],
   "source": [
    "ct = pd.crosstab(df[\"Gender\"], df[\"emotion_label\"], normalize='index')\n",
    "\n",
    "df6 = pd.DataFrame()\n",
    "df6[\"anger\"] = ct[\"anger\"]\n",
    "df6[\"fear\"] = ct[\"fear\"]\n",
    "df6[\"joy\"] = ct[\"joy\"]\n",
    "df6[\"neutral\"] = ct[\"neutral\"]\n",
    "df6[\"sadness\"] = ct[\"sadness\"]\n",
    "df6[\"surprise\"] = ct[\"surprise\"]\n",
    "df6"
   ]
  },
  {
   "cell_type": "code",
   "execution_count": 48,
   "metadata": {},
   "outputs": [
    {
     "data": {
      "image/png": "[encoded data removed]",
      "text/plain": [
       "<Figure size 432x360 with 1 Axes>"
      ]
     },
     "metadata": {
      "needs_background": "light"
     },
     "output_type": "display_data"
    }
   ],
   "source": [
    "# Grouped bar chart for emotions per age group\n",
    "labels = [\"m\",\"w\"]\n",
    "x = np.arange(len(labels))\n",
    "width = 0.13  # the width of the bars\n",
    "\n",
    "fig = plt.figure(1, (6,5))\n",
    "ax = fig.add_subplot(1,1,1)\n",
    "rects1 = ax.bar(x - 3*width+width/2, df6.fear, width, label='Fear', color='gold')\n",
    "rects2 = ax.bar(x - 2*width+width/2, df6.anger, width, label='Anger', color='r')\n",
    "rects3 = ax.bar(x - width/2, df6.joy, width, label='Joy', color='g')\n",
    "rects4 = ax.bar(x + width/2, df6.sadness, width, label='Sadness', color='b')\n",
    "rects5 = ax.bar(x + 2*width-width/2, df6.surprise, width, label='Surprise', color='pink')\n",
    "rects6 = ax.bar(x + 3*width-width/2, df6.neutral, width, label='Neutral', color='grey' )               \n",
    "                \n",
    "# Add some text for labels, title and custom x-axis tick labels, etc.\n",
    "ax.set_ylabel('Share of tweets in %', fontsize=12, fontweight=\"bold\")\n",
    "ax.set_xlabel('Gender', fontsize=12)\n",
    "ax.set_title(\"Share of tweets with emotion per gender\", fontsize=14, fontweight=\"bold\", pad=10)\n",
    "\n",
    "ax.set_xticks(range(0,2,1))\n",
    "#ax.tick_params(axis=[0,1,2], labelsize=12)\n",
    "ax.set_xticklabels([\"m\",\"w\"])\n",
    "ax.tick_params(axis='y', labelsize=12)\n",
    "ax.tick_params(axis='x', labelsize=12)\n",
    "ax.legend()\n",
    "ax.legend(loc=\"upper right\", fontsize=12)\n",
    "ax.yaxis.set_major_formatter(mtick.PercentFormatter(1.0))\n",
    "\n",
    "fig.tight_layout()\n",
    "fig.savefig(\"E_Tweets_Gender_1.png\", bbox_inches='tight')#See visualizations\n",
    "plt.show()"
   ]
  },
  {
   "cell_type": "code",
   "execution_count": 49,
   "metadata": {},
   "outputs": [
    {
     "data": {
      "text/plain": [
       "Index(['anger', 'fear', 'joy', 'neutral', 'sadness', 'surprise'], dtype='object')"
      ]
     },
     "execution_count": 49,
     "metadata": {},
     "output_type": "execute_result"
    }
   ],
   "source": [
    "df6.columns"
   ]
  },
  {
   "cell_type": "code",
   "execution_count": 50,
   "metadata": {},
   "outputs": [
    {
     "data": {
      "image/png": "[encoded data removed]",
      "text/plain": [
       "<Figure size 360x576 with 1 Axes>"
      ]
     },
     "metadata": {
      "needs_background": "light"
     },
     "output_type": "display_data"
    }
   ],
   "source": [
    "# Spider chart\n",
    "# ------- PART 1: Create background\n",
    " \n",
    "# number of variable\n",
    "categories=list(['Anger', 'Fear', 'Joy', 'Neutral', 'Sadness', 'Surprise'])\n",
    "N = len(categories)\n",
    " \n",
    "# What will be the angle of each axis in the plot? (we divide the plot / number of variable)\n",
    "angles = [n / float(N) * 2 * pi for n in range(N)]\n",
    "angles += angles[:1]\n",
    " \n",
    "# Initialise the spider plot\n",
    "fig = plt.figure(1, (5,8))\n",
    "ax = fig.add_subplot(111, polar=True)\n",
    "#ax = plt.subplot(111, polar=True)\n",
    " \n",
    "# If you want the first axis to be on top:\n",
    "ax.set_theta_offset(pi / 2)\n",
    "ax.set_theta_direction(-1)\n",
    " \n",
    "# Draw one axe per variable + add labels\n",
    "plt.xticks(angles[:-1], categories, fontsize=12)\n",
    " \n",
    "# Draw ylabels\n",
    "ax.set_rlabel_position(0)\n",
    "plt.yticks([0,0.1,0.2,0.3, 0.4], [\"0%\", \"\", \"20%\", \"\", \"40%\"], color=\"black\", size=11)\n",
    "ax.tick_params(direction='out', pad=14)\n",
    "plt.ylim(0,0.4)\n",
    " \n",
    "\n",
    "# ------- PART 2: Add plots\n",
    " \n",
    "# Plot each individual = each line of the data\n",
    "# I don't make a loop, because plotting more than 3 groups makes the chart unreadable\n",
    " \n",
    "# Ind1\n",
    "values=df6.values[0].flatten().tolist()\n",
    "values += values[:1]\n",
    "ax.plot(angles, values, linewidth=1, linestyle='solid', label=\"Men\")\n",
    "ax.fill(angles, values, 'b', alpha=0.1)\n",
    " \n",
    "# Ind2\n",
    "values=df6.values[1].flatten().tolist()\n",
    "values += values[:1]\n",
    "ax.plot(angles, values, linewidth=1, linestyle='solid', label=\"Women\", color=\"pink\")\n",
    "ax.fill(angles, values, 'r', alpha=0.1)\n",
    "\n",
    "ax.set_title(\"Share of tweets with emotion per gender\", fontsize=14, fontweight=\"bold\", pad=20)\n",
    " \n",
    "# Add legend\n",
    "plt.legend(loc='upper right', bbox_to_anchor=(0.1, 0.1), fontsize=12)\n",
    "\n",
    "# Show the graph\n",
    "fig.savefig(\"E_Tweets_Gender_2.png\", bbox_inches='tight')#See visualizations\n",
    "plt.show()"
   ]
  }
 ],
 "metadata": {
  "kernelspec": {
   "display_name": "Python 3",
   "language": "python",
   "name": "python3"
  },
  "language_info": {
   "codemirror_mode": {
    "name": "ipython",
    "version": 3
   },
   "file_extension": ".py",
   "mimetype": "text/x-python",
   "name": "python",
   "nbconvert_exporter": "python",
   "pygments_lexer": "ipython3",
   "version": "3.8.3"
  }
 },
 "nbformat": 4,
 "nbformat_minor": 4
}
